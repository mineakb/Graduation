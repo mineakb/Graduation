{
 "cells": [
  {
   "cell_type": "code",
   "execution_count": 1,
   "metadata": {
    "id": "0dQA7XAVgk2D"
   },
   "outputs": [],
   "source": [
    "import numpy as np \n",
    "import pandas as pd \n",
    "import seaborn as sns \n",
    "import matplotlib.pyplot as plt\n",
    "from sklearn.metrics import mean_squared_error\n",
    "from sklearn.metrics import mean_absolute_error\n",
    "from sklearn.preprocessing import MinMaxScaler   \n",
    "from sklearn.ensemble import GradientBoostingRegressor\n",
    "from sklearn.multioutput import MultiOutputRegressor\n",
    "from sklearn.ensemble import RandomForestRegressor\n",
    "from sklearn.model_selection import train_test_split\n",
    "from sklearn.multioutput import RegressorChain\n",
    "from sklearn.svm import LinearSVR\n",
    "from sklearn.cluster import KMeans\n",
    "from sklearn.metrics import silhouette_samples,silhouette_score\n"
   ]
  },
  {
   "cell_type": "code",
   "execution_count": 2,
   "metadata": {
    "id": "MttsdW_FgnO-"
   },
   "outputs": [],
   "source": [
    "df = pd.read_csv(\"MatchingGamers_Finale.csv\")  #loading the dataframe"
   ]
  },
  {
   "cell_type": "code",
   "execution_count": 3,
   "metadata": {
    "colab": {
     "base_uri": "https://localhost:8080/",
     "height": 629
    },
    "id": "fpE56yRBgx72",
    "outputId": "8d0420be-53cc-4ea2-cf28-1df0546bb1bd"
   },
   "outputs": [
    {
     "data": {
      "text/html": [
       "<div>\n",
       "<style scoped>\n",
       "    .dataframe tbody tr th:only-of-type {\n",
       "        vertical-align: middle;\n",
       "    }\n",
       "\n",
       "    .dataframe tbody tr th {\n",
       "        vertical-align: top;\n",
       "    }\n",
       "\n",
       "    .dataframe thead th {\n",
       "        text-align: right;\n",
       "    }\n",
       "</style>\n",
       "<table border=\"1\" class=\"dataframe\">\n",
       "  <thead>\n",
       "    <tr style=\"text-align: right;\">\n",
       "      <th></th>\n",
       "      <th>Unnamed: 0</th>\n",
       "      <th>Your Age</th>\n",
       "      <th>Your Location</th>\n",
       "      <th>Languages you prefer to speak</th>\n",
       "      <th>Platform to communicate</th>\n",
       "      <th>Top 3 Games (1/3)</th>\n",
       "      <th>Top 3 Games (2/3)</th>\n",
       "      <th>Top 3 Games (3/3)</th>\n",
       "      <th>How long do you play</th>\n",
       "      <th>Your Gaming Performance</th>\n",
       "      <th>Hobbies (1/3)</th>\n",
       "      <th>Hobbies (2/3)</th>\n",
       "      <th>Hobbies (3/3)</th>\n",
       "    </tr>\n",
       "  </thead>\n",
       "  <tbody>\n",
       "    <tr>\n",
       "      <th>0</th>\n",
       "      <td>0</td>\n",
       "      <td>23</td>\n",
       "      <td>Mannheim</td>\n",
       "      <td>German</td>\n",
       "      <td>Discord</td>\n",
       "      <td>Grand Theft Auto (GTA) Online</td>\n",
       "      <td>Call of Duty (COD)</td>\n",
       "      <td>Fortnite</td>\n",
       "      <td>Less than 10 hours</td>\n",
       "      <td>6</td>\n",
       "      <td>Travelling</td>\n",
       "      <td>Foodie</td>\n",
       "      <td>Going out with Friends</td>\n",
       "    </tr>\n",
       "    <tr>\n",
       "      <th>1</th>\n",
       "      <td>1</td>\n",
       "      <td>24</td>\n",
       "      <td>Stuttgart</td>\n",
       "      <td>German</td>\n",
       "      <td>PS Party</td>\n",
       "      <td>Call of Duty (COD)</td>\n",
       "      <td>Grand Theft Auto (GTA) Online</td>\n",
       "      <td>FIFA</td>\n",
       "      <td>10 - 15 hours</td>\n",
       "      <td>5</td>\n",
       "      <td>Going out with Friends</td>\n",
       "      <td>Watching Animes</td>\n",
       "      <td>Sport</td>\n",
       "    </tr>\n",
       "    <tr>\n",
       "      <th>2</th>\n",
       "      <td>2</td>\n",
       "      <td>27</td>\n",
       "      <td>Mannheim</td>\n",
       "      <td>English</td>\n",
       "      <td>Discord</td>\n",
       "      <td>Grand Theft Auto (GTA) Online</td>\n",
       "      <td>Fortnite</td>\n",
       "      <td>Other Games</td>\n",
       "      <td>Less than 10 hours</td>\n",
       "      <td>5</td>\n",
       "      <td>Watching Netflix</td>\n",
       "      <td>Foodie</td>\n",
       "      <td>Going out with Friends</td>\n",
       "    </tr>\n",
       "    <tr>\n",
       "      <th>3</th>\n",
       "      <td>3</td>\n",
       "      <td>29</td>\n",
       "      <td>Neuhausen</td>\n",
       "      <td>German</td>\n",
       "      <td>PS Party</td>\n",
       "      <td>Call of Duty (COD)</td>\n",
       "      <td>Grand Theft Auto (GTA) Online</td>\n",
       "      <td>Other Games</td>\n",
       "      <td>Less than 10 hours</td>\n",
       "      <td>2</td>\n",
       "      <td>Travelling</td>\n",
       "      <td>Foodie</td>\n",
       "      <td>Going out with Friends</td>\n",
       "    </tr>\n",
       "    <tr>\n",
       "      <th>4</th>\n",
       "      <td>4</td>\n",
       "      <td>20</td>\n",
       "      <td>Stuttgart</td>\n",
       "      <td>German</td>\n",
       "      <td>PS Party</td>\n",
       "      <td>Grand Theft Auto (GTA) Online</td>\n",
       "      <td>Call of Duty (COD)</td>\n",
       "      <td>Rocket league</td>\n",
       "      <td>Less than 10 hours</td>\n",
       "      <td>8</td>\n",
       "      <td>Watching Animes</td>\n",
       "      <td>Sport</td>\n",
       "      <td>Foodie</td>\n",
       "    </tr>\n",
       "  </tbody>\n",
       "</table>\n",
       "</div>"
      ],
      "text/plain": [
       "   Unnamed: 0  Your Age Your Location Languages you prefer to speak  \\\n",
       "0           0        23      Mannheim                        German   \n",
       "1           1        24     Stuttgart                        German   \n",
       "2           2        27      Mannheim                       English   \n",
       "3           3        29     Neuhausen                        German   \n",
       "4           4        20     Stuttgart                        German   \n",
       "\n",
       "  Platform to communicate              Top 3 Games (1/3)  \\\n",
       "0                 Discord  Grand Theft Auto (GTA) Online   \n",
       "1                PS Party             Call of Duty (COD)   \n",
       "2                 Discord  Grand Theft Auto (GTA) Online   \n",
       "3                PS Party             Call of Duty (COD)   \n",
       "4                PS Party  Grand Theft Auto (GTA) Online   \n",
       "\n",
       "               Top 3 Games (2/3) Top 3 Games (3/3) How long do you play  \\\n",
       "0             Call of Duty (COD)          Fortnite   Less than 10 hours   \n",
       "1  Grand Theft Auto (GTA) Online              FIFA        10 - 15 hours   \n",
       "2                       Fortnite       Other Games   Less than 10 hours   \n",
       "3  Grand Theft Auto (GTA) Online       Other Games   Less than 10 hours   \n",
       "4             Call of Duty (COD)     Rocket league   Less than 10 hours   \n",
       "\n",
       "   Your Gaming Performance           Hobbies (1/3)    Hobbies (2/3)  \\\n",
       "0                        6              Travelling           Foodie   \n",
       "1                        5  Going out with Friends  Watching Animes   \n",
       "2                        5        Watching Netflix           Foodie   \n",
       "3                        2              Travelling           Foodie   \n",
       "4                        8         Watching Animes            Sport   \n",
       "\n",
       "            Hobbies (3/3)  \n",
       "0  Going out with Friends  \n",
       "1                   Sport  \n",
       "2  Going out with Friends  \n",
       "3  Going out with Friends  \n",
       "4                  Foodie  "
      ]
     },
     "execution_count": 3,
     "metadata": {},
     "output_type": "execute_result"
    }
   ],
   "source": [
    "df.head(5)"
   ]
  },
  {
   "cell_type": "markdown",
   "metadata": {},
   "source": [
    "## Step 1: Deleting the column \"Unnamed:0\""
   ]
  },
  {
   "cell_type": "code",
   "execution_count": 4,
   "metadata": {},
   "outputs": [],
   "source": [
    "df.drop('Unnamed: 0', axis=1, inplace=True)"
   ]
  },
  {
   "cell_type": "markdown",
   "metadata": {
    "id": "AvGXzaUZpeGL"
   },
   "source": [
    "# Data Preprocessing"
   ]
  },
  {
   "cell_type": "markdown",
   "metadata": {},
   "source": [
    "## Step 2: Analyzing the values"
   ]
  },
  {
   "cell_type": "code",
   "execution_count": 9,
   "metadata": {},
   "outputs": [
    {
     "data": {
      "text/plain": [
       "<AxesSubplot:>"
      ]
     },
     "execution_count": 9,
     "metadata": {},
     "output_type": "execute_result"
    },
    {
     "data": {
      "image/png": "[encoded data removed]",
      "text/plain": [
       "<Figure size 432x288 with 1 Axes>"
      ]
     },
     "metadata": {
      "needs_background": "light"
     },
     "output_type": "display_data"
    }
   ],
   "source": [
    "df['Top 3 Games (1/3)'].value_counts().head(10).plot.bar()"
   ]
  },
  {
   "cell_type": "code",
   "execution_count": 10,
   "metadata": {},
   "outputs": [
    {
     "data": {
      "text/plain": [
       "<AxesSubplot:>"
      ]
     },
     "execution_count": 10,
     "metadata": {},
     "output_type": "execute_result"
    },
    {
     "data": {
      "image/png": "[encoded data removed]",
      "text/plain": [
       "<Figure size 432x288 with 1 Axes>"
      ]
     },
     "metadata": {
      "needs_background": "light"
     },
     "output_type": "display_data"
    }
   ],
   "source": [
    "df['Top 3 Games (2/3)'].value_counts().head(10).plot.bar()"
   ]
  },
  {
   "cell_type": "code",
   "execution_count": 11,
   "metadata": {},
   "outputs": [
    {
     "data": {
      "text/plain": [
       "<AxesSubplot:>"
      ]
     },
     "execution_count": 11,
     "metadata": {},
     "output_type": "execute_result"
    },
    {
     "data": {
      "image/png": "[encoded data removed]",
      "text/plain": [
       "<Figure size 432x288 with 1 Axes>"
      ]
     },
     "metadata": {
      "needs_background": "light"
     },
     "output_type": "display_data"
    }
   ],
   "source": [
    "df['Top 3 Games (3/3)'].value_counts().head(10).plot.bar()"
   ]
  },
  {
   "cell_type": "markdown",
   "metadata": {},
   "source": [
    "To understand the target group better, we are going to anaylze the data. Visualizing the Top 3 Games we can see that:\n",
    "- Especially Call of Duty (COD) gamers participated\n",
    "- Also a high amount of Grand Theft Auto (GTA) gamers participated\n",
    "- The participants tend to play shooter games\n",
    "- The amount of Minecraft, Dragon Ball FighterZ, Final Fantasy, Tekken, Rocketleague is in comparison to the shooter games really low"
   ]
  },
  {
   "cell_type": "code",
   "execution_count": 12,
   "metadata": {},
   "outputs": [
    {
     "data": {
      "text/plain": [
       "<AxesSubplot:>"
      ]
     },
     "execution_count": 12,
     "metadata": {},
     "output_type": "execute_result"
    },
    {
     "data": {
      "image/png": "[encoded data removed]",
      "text/plain": [
       "<Figure size 432x288 with 1 Axes>"
      ]
     },
     "metadata": {
      "needs_background": "light"
     },
     "output_type": "display_data"
    }
   ],
   "source": [
    "df['How long do you play'].value_counts().head(10).plot.bar()"
   ]
  },
  {
   "cell_type": "markdown",
   "metadata": {},
   "source": [
    "The gamers tend not to be hardcore gamers based on the amount of playing games. "
   ]
  },
  {
   "cell_type": "code",
   "execution_count": 14,
   "metadata": {},
   "outputs": [
    {
     "data": {
      "text/plain": [
       "<AxesSubplot:>"
      ]
     },
     "execution_count": 14,
     "metadata": {},
     "output_type": "execute_result"
    },
    {
     "data": {
      "image/png": "[encoded data removed]",
      "text/plain": [
       "<Figure size 432x288 with 1 Axes>"
      ]
     },
     "metadata": {
      "needs_background": "light"
     },
     "output_type": "display_data"
    }
   ],
   "source": [
    "df['Hobbies (1/3)'].value_counts().head(10).plot.bar()"
   ]
  },
  {
   "cell_type": "code",
   "execution_count": 15,
   "metadata": {},
   "outputs": [
    {
     "data": {
      "text/plain": [
       "<AxesSubplot:>"
      ]
     },
     "execution_count": 15,
     "metadata": {},
     "output_type": "execute_result"
    },
    {
     "data": {
      "image/png": "[encoded data removed]",
      "text/plain": [
       "<Figure size 432x288 with 1 Axes>"
      ]
     },
     "metadata": {
      "needs_background": "light"
     },
     "output_type": "display_data"
    }
   ],
   "source": [
    "df['Hobbies (2/3)'].value_counts().head(10).plot.bar()"
   ]
  },
  {
   "cell_type": "code",
   "execution_count": 16,
   "metadata": {},
   "outputs": [
    {
     "data": {
      "text/plain": [
       "<AxesSubplot:>"
      ]
     },
     "execution_count": 16,
     "metadata": {},
     "output_type": "execute_result"
    },
    {
     "data": {
      "image/png": "[encoded data removed]",
      "text/plain": [
       "<Figure size 432x288 with 1 Axes>"
      ]
     },
     "metadata": {
      "needs_background": "light"
     },
     "output_type": "display_data"
    }
   ],
   "source": [
    "df['Hobbies (3/3)'].value_counts().head(10).plot.bar()"
   ]
  },
  {
   "cell_type": "markdown",
   "metadata": {},
   "source": [
    "The target group watch animes and Netflix, meet friends, like music and do sports. To cook or to bake, travelling and reading are not good presented. In terms of travelling it can depend on the current situation. "
   ]
  },
  {
   "cell_type": "code",
   "execution_count": 17,
   "metadata": {
    "colab": {
     "base_uri": "https://localhost:8080/"
    },
    "id": "v3L9eATLhlZ8",
    "outputId": "68417aba-299a-44c7-99bf-72d365fcc8a0"
   },
   "outputs": [
    {
     "name": "stdout",
     "output_type": "stream",
     "text": [
      "<class 'pandas.core.frame.DataFrame'>\n",
      "RangeIndex: 44 entries, 0 to 43\n",
      "Data columns (total 12 columns):\n",
      " #   Column                         Non-Null Count  Dtype \n",
      "---  ------                         --------------  ----- \n",
      " 0   Your Age                       44 non-null     int64 \n",
      " 1   Your Location                  44 non-null     object\n",
      " 2   Languages you prefer to speak  44 non-null     object\n",
      " 3   Platform to communicate        44 non-null     object\n",
      " 4   Top 3 Games (1/3)              44 non-null     object\n",
      " 5   Top 3 Games (2/3)              44 non-null     object\n",
      " 6   Top 3 Games (3/3)              44 non-null     object\n",
      " 7   How long do you play           44 non-null     object\n",
      " 8   Your Gaming Performance        44 non-null     int64 \n",
      " 9   Hobbies (1/3)                  44 non-null     object\n",
      " 10  Hobbies (2/3)                  44 non-null     object\n",
      " 11  Hobbies (3/3)                  44 non-null     object\n",
      "dtypes: int64(2), object(10)\n",
      "memory usage: 4.2+ KB\n"
     ]
    }
   ],
   "source": [
    "# check datatypes because we need data with same type\n",
    "df.info()"
   ]
  },
  {
   "cell_type": "markdown",
   "metadata": {},
   "source": [
    "For the algorithm K-means clustering we need numerical data. "
   ]
  },
  {
   "cell_type": "code",
   "execution_count": 18,
   "metadata": {
    "colab": {
     "base_uri": "https://localhost:8080/",
     "height": 297
    },
    "id": "j9zumn7Zh_EF",
    "outputId": "aaaf9d1f-a13b-44a6-e122-b29b34c1f567"
   },
   "outputs": [
    {
     "data": {
      "text/html": [
       "<div>\n",
       "<style scoped>\n",
       "    .dataframe tbody tr th:only-of-type {\n",
       "        vertical-align: middle;\n",
       "    }\n",
       "\n",
       "    .dataframe tbody tr th {\n",
       "        vertical-align: top;\n",
       "    }\n",
       "\n",
       "    .dataframe thead th {\n",
       "        text-align: right;\n",
       "    }\n",
       "</style>\n",
       "<table border=\"1\" class=\"dataframe\">\n",
       "  <thead>\n",
       "    <tr style=\"text-align: right;\">\n",
       "      <th></th>\n",
       "      <th>Your Age</th>\n",
       "      <th>Your Gaming Performance</th>\n",
       "    </tr>\n",
       "  </thead>\n",
       "  <tbody>\n",
       "    <tr>\n",
       "      <th>count</th>\n",
       "      <td>44.000000</td>\n",
       "      <td>44.000000</td>\n",
       "    </tr>\n",
       "    <tr>\n",
       "      <th>mean</th>\n",
       "      <td>26.522727</td>\n",
       "      <td>6.454545</td>\n",
       "    </tr>\n",
       "    <tr>\n",
       "      <th>std</th>\n",
       "      <td>4.411869</td>\n",
       "      <td>2.096004</td>\n",
       "    </tr>\n",
       "    <tr>\n",
       "      <th>min</th>\n",
       "      <td>18.000000</td>\n",
       "      <td>1.000000</td>\n",
       "    </tr>\n",
       "    <tr>\n",
       "      <th>25%</th>\n",
       "      <td>23.000000</td>\n",
       "      <td>5.000000</td>\n",
       "    </tr>\n",
       "    <tr>\n",
       "      <th>50%</th>\n",
       "      <td>27.000000</td>\n",
       "      <td>7.000000</td>\n",
       "    </tr>\n",
       "    <tr>\n",
       "      <th>75%</th>\n",
       "      <td>29.250000</td>\n",
       "      <td>8.000000</td>\n",
       "    </tr>\n",
       "    <tr>\n",
       "      <th>max</th>\n",
       "      <td>35.000000</td>\n",
       "      <td>10.000000</td>\n",
       "    </tr>\n",
       "  </tbody>\n",
       "</table>\n",
       "</div>"
      ],
      "text/plain": [
       "        Your Age  Your Gaming Performance\n",
       "count  44.000000                44.000000\n",
       "mean   26.522727                 6.454545\n",
       "std     4.411869                 2.096004\n",
       "min    18.000000                 1.000000\n",
       "25%    23.000000                 5.000000\n",
       "50%    27.000000                 7.000000\n",
       "75%    29.250000                 8.000000\n",
       "max    35.000000                10.000000"
      ]
     },
     "execution_count": 18,
     "metadata": {},
     "output_type": "execute_result"
    }
   ],
   "source": [
    "# check the mean, minimum and maximum value of numerical features\n",
    "df.describe()"
   ]
  },
  {
   "cell_type": "markdown",
   "metadata": {},
   "source": [
    "Nevertheless only \"Your Age\" and \"Your Gaming Performance\" are numerical."
   ]
  },
  {
   "cell_type": "markdown",
   "metadata": {},
   "source": [
    "## Step 3: Converting categorical features into numerical data"
   ]
  },
  {
   "cell_type": "markdown",
   "metadata": {},
   "source": [
    "To be able to performe the algorithm, the categorical features will be converted into numerical data"
   ]
  },
  {
   "cell_type": "code",
   "execution_count": 19,
   "metadata": {
    "id": "5cPFOpNgii0l"
   },
   "outputs": [],
   "source": [
    "# convert categorical features to numeric data\n",
    "categorical_features = ['Your Location','Languages you prefer to speak','Platform to communicate','Top 3 Games (1/3)','Top 3 Games (2/3)','Top 3 Games (3/3)','How long do you play', 'Hobbies (1/3)', 'Hobbies (2/3)', 'Hobbies (3/3)']"
   ]
  },
  {
   "cell_type": "code",
   "execution_count": 20,
   "metadata": {
    "id": "9TvbdSC5j_9l"
   },
   "outputs": [],
   "source": [
    "# We use get_dummies function from pandas that Convert categorical variable into dummy/indicator variables.\n",
    "def convert_to_int_data(data,columns):\n",
    "  dummies = pd.get_dummies(data[columns])\n",
    "  data = data.drop(columns, axis=1)\n",
    "  data = pd.concat([data, dummies], axis=1)\n",
    "  return data"
   ]
  },
  {
   "cell_type": "code",
   "execution_count": 21,
   "metadata": {
    "colab": {
     "base_uri": "https://localhost:8080/",
     "height": 355
    },
    "id": "L8It9gJxlIDc",
    "outputId": "37a6aad7-5718-48b2-b588-3dbc9fdb9212"
   },
   "outputs": [
    {
     "data": {
      "text/html": [
       "<div>\n",
       "<style scoped>\n",
       "    .dataframe tbody tr th:only-of-type {\n",
       "        vertical-align: middle;\n",
       "    }\n",
       "\n",
       "    .dataframe tbody tr th {\n",
       "        vertical-align: top;\n",
       "    }\n",
       "\n",
       "    .dataframe thead th {\n",
       "        text-align: right;\n",
       "    }\n",
       "</style>\n",
       "<table border=\"1\" class=\"dataframe\">\n",
       "  <thead>\n",
       "    <tr style=\"text-align: right;\">\n",
       "      <th></th>\n",
       "      <th>Your Age</th>\n",
       "      <th>Your Gaming Performance</th>\n",
       "      <th>Your Location_Backnang</th>\n",
       "      <th>Your Location_Bad Schwartau</th>\n",
       "      <th>Your Location_Bad Zwischenahn</th>\n",
       "      <th>Your Location_Bernau</th>\n",
       "      <th>Your Location_Deutschland</th>\n",
       "      <th>Your Location_Deutschland</th>\n",
       "      <th>Your Location_Durchhausen (bei Villingen-Schwenningen)</th>\n",
       "      <th>Your Location_Essen</th>\n",
       "      <th>...</th>\n",
       "      <th>Hobbies (3/3)_Going to the cinemas</th>\n",
       "      <th>Hobbies (3/3)_Kochen/Backen</th>\n",
       "      <th>Hobbies (3/3)_Music</th>\n",
       "      <th>Hobbies (3/3)_Nothing at all</th>\n",
       "      <th>Hobbies (3/3)_Others</th>\n",
       "      <th>Hobbies (3/3)_Reading</th>\n",
       "      <th>Hobbies (3/3)_Sport</th>\n",
       "      <th>Hobbies (3/3)_Travelling</th>\n",
       "      <th>Hobbies (3/3)_Watching Animes</th>\n",
       "      <th>Hobbies (3/3)_Watching Netflix</th>\n",
       "    </tr>\n",
       "  </thead>\n",
       "  <tbody>\n",
       "    <tr>\n",
       "      <th>0</th>\n",
       "      <td>23</td>\n",
       "      <td>6</td>\n",
       "      <td>0</td>\n",
       "      <td>0</td>\n",
       "      <td>0</td>\n",
       "      <td>0</td>\n",
       "      <td>0</td>\n",
       "      <td>0</td>\n",
       "      <td>0</td>\n",
       "      <td>0</td>\n",
       "      <td>...</td>\n",
       "      <td>0</td>\n",
       "      <td>0</td>\n",
       "      <td>0</td>\n",
       "      <td>0</td>\n",
       "      <td>0</td>\n",
       "      <td>0</td>\n",
       "      <td>0</td>\n",
       "      <td>0</td>\n",
       "      <td>0</td>\n",
       "      <td>0</td>\n",
       "    </tr>\n",
       "    <tr>\n",
       "      <th>1</th>\n",
       "      <td>24</td>\n",
       "      <td>5</td>\n",
       "      <td>0</td>\n",
       "      <td>0</td>\n",
       "      <td>0</td>\n",
       "      <td>0</td>\n",
       "      <td>0</td>\n",
       "      <td>0</td>\n",
       "      <td>0</td>\n",
       "      <td>0</td>\n",
       "      <td>...</td>\n",
       "      <td>0</td>\n",
       "      <td>0</td>\n",
       "      <td>0</td>\n",
       "      <td>0</td>\n",
       "      <td>0</td>\n",
       "      <td>0</td>\n",
       "      <td>1</td>\n",
       "      <td>0</td>\n",
       "      <td>0</td>\n",
       "      <td>0</td>\n",
       "    </tr>\n",
       "    <tr>\n",
       "      <th>2</th>\n",
       "      <td>27</td>\n",
       "      <td>5</td>\n",
       "      <td>0</td>\n",
       "      <td>0</td>\n",
       "      <td>0</td>\n",
       "      <td>0</td>\n",
       "      <td>0</td>\n",
       "      <td>0</td>\n",
       "      <td>0</td>\n",
       "      <td>0</td>\n",
       "      <td>...</td>\n",
       "      <td>0</td>\n",
       "      <td>0</td>\n",
       "      <td>0</td>\n",
       "      <td>0</td>\n",
       "      <td>0</td>\n",
       "      <td>0</td>\n",
       "      <td>0</td>\n",
       "      <td>0</td>\n",
       "      <td>0</td>\n",
       "      <td>0</td>\n",
       "    </tr>\n",
       "    <tr>\n",
       "      <th>3</th>\n",
       "      <td>29</td>\n",
       "      <td>2</td>\n",
       "      <td>0</td>\n",
       "      <td>0</td>\n",
       "      <td>0</td>\n",
       "      <td>0</td>\n",
       "      <td>0</td>\n",
       "      <td>0</td>\n",
       "      <td>0</td>\n",
       "      <td>0</td>\n",
       "      <td>...</td>\n",
       "      <td>0</td>\n",
       "      <td>0</td>\n",
       "      <td>0</td>\n",
       "      <td>0</td>\n",
       "      <td>0</td>\n",
       "      <td>0</td>\n",
       "      <td>0</td>\n",
       "      <td>0</td>\n",
       "      <td>0</td>\n",
       "      <td>0</td>\n",
       "    </tr>\n",
       "    <tr>\n",
       "      <th>4</th>\n",
       "      <td>20</td>\n",
       "      <td>8</td>\n",
       "      <td>0</td>\n",
       "      <td>0</td>\n",
       "      <td>0</td>\n",
       "      <td>0</td>\n",
       "      <td>0</td>\n",
       "      <td>0</td>\n",
       "      <td>0</td>\n",
       "      <td>0</td>\n",
       "      <td>...</td>\n",
       "      <td>0</td>\n",
       "      <td>0</td>\n",
       "      <td>0</td>\n",
       "      <td>0</td>\n",
       "      <td>0</td>\n",
       "      <td>0</td>\n",
       "      <td>0</td>\n",
       "      <td>0</td>\n",
       "      <td>0</td>\n",
       "      <td>0</td>\n",
       "    </tr>\n",
       "  </tbody>\n",
       "</table>\n",
       "<p>5 rows × 119 columns</p>\n",
       "</div>"
      ],
      "text/plain": [
       "   Your Age  Your Gaming Performance  Your Location_Backnang  \\\n",
       "0        23                        6                       0   \n",
       "1        24                        5                       0   \n",
       "2        27                        5                       0   \n",
       "3        29                        2                       0   \n",
       "4        20                        8                       0   \n",
       "\n",
       "   Your Location_Bad Schwartau   Your Location_Bad Zwischenahn   \\\n",
       "0                             0                               0   \n",
       "1                             0                               0   \n",
       "2                             0                               0   \n",
       "3                             0                               0   \n",
       "4                             0                               0   \n",
       "\n",
       "   Your Location_Bernau  Your Location_Deutschland  \\\n",
       "0                     0                          0   \n",
       "1                     0                          0   \n",
       "2                     0                          0   \n",
       "3                     0                          0   \n",
       "4                     0                          0   \n",
       "\n",
       "   Your Location_Deutschland   \\\n",
       "0                           0   \n",
       "1                           0   \n",
       "2                           0   \n",
       "3                           0   \n",
       "4                           0   \n",
       "\n",
       "   Your Location_Durchhausen (bei Villingen-Schwenningen)   \\\n",
       "0                                                  0         \n",
       "1                                                  0         \n",
       "2                                                  0         \n",
       "3                                                  0         \n",
       "4                                                  0         \n",
       "\n",
       "   Your Location_Essen  ...  Hobbies (3/3)_Going to the cinemas  \\\n",
       "0                    0  ...                                   0   \n",
       "1                    0  ...                                   0   \n",
       "2                    0  ...                                   0   \n",
       "3                    0  ...                                   0   \n",
       "4                    0  ...                                   0   \n",
       "\n",
       "   Hobbies (3/3)_Kochen/Backen  Hobbies (3/3)_Music  \\\n",
       "0                            0                    0   \n",
       "1                            0                    0   \n",
       "2                            0                    0   \n",
       "3                            0                    0   \n",
       "4                            0                    0   \n",
       "\n",
       "   Hobbies (3/3)_Nothing at all  Hobbies (3/3)_Others  Hobbies (3/3)_Reading  \\\n",
       "0                             0                     0                      0   \n",
       "1                             0                     0                      0   \n",
       "2                             0                     0                      0   \n",
       "3                             0                     0                      0   \n",
       "4                             0                     0                      0   \n",
       "\n",
       "   Hobbies (3/3)_Sport  Hobbies (3/3)_Travelling  \\\n",
       "0                    0                         0   \n",
       "1                    1                         0   \n",
       "2                    0                         0   \n",
       "3                    0                         0   \n",
       "4                    0                         0   \n",
       "\n",
       "   Hobbies (3/3)_Watching Animes  Hobbies (3/3)_Watching Netflix  \n",
       "0                              0                               0  \n",
       "1                              0                               0  \n",
       "2                              0                               0  \n",
       "3                              0                               0  \n",
       "4                              0                               0  \n",
       "\n",
       "[5 rows x 119 columns]"
      ]
     },
     "execution_count": 21,
     "metadata": {},
     "output_type": "execute_result"
    }
   ],
   "source": [
    "# We run the function to get data in numeric format\n",
    "df = convert_to_int_data(df,categorical_features)\n",
    "df.head()"
   ]
  },
  {
   "cell_type": "code",
   "execution_count": 22,
   "metadata": {
    "id": "Ca6GC7PHlVwU"
   },
   "outputs": [],
   "source": [
    "#Normalize the data\n",
    "def normalization(input_data):\n",
    "    minimum = np.amin(input_data, axis=0)\n",
    "    maximum = np.amax(input_data, axis=0)\n",
    "    normalized_data = (input_data - minimum)/(maximum - minimum)\n",
    "    return normalized_data\n",
    "df = normalization(df)"
   ]
  },
  {
   "cell_type": "code",
   "execution_count": 23,
   "metadata": {
    "colab": {
     "base_uri": "https://localhost:8080/",
     "height": 355
    },
    "id": "7ybjjywBpWQM",
    "outputId": "63e3a1d0-5519-4929-f067-2ff8c2cd4527"
   },
   "outputs": [
    {
     "data": {
      "text/html": [
       "<div>\n",
       "<style scoped>\n",
       "    .dataframe tbody tr th:only-of-type {\n",
       "        vertical-align: middle;\n",
       "    }\n",
       "\n",
       "    .dataframe tbody tr th {\n",
       "        vertical-align: top;\n",
       "    }\n",
       "\n",
       "    .dataframe thead th {\n",
       "        text-align: right;\n",
       "    }\n",
       "</style>\n",
       "<table border=\"1\" class=\"dataframe\">\n",
       "  <thead>\n",
       "    <tr style=\"text-align: right;\">\n",
       "      <th></th>\n",
       "      <th>Your Age</th>\n",
       "      <th>Your Gaming Performance</th>\n",
       "      <th>Your Location_Backnang</th>\n",
       "      <th>Your Location_Bad Schwartau</th>\n",
       "      <th>Your Location_Bad Zwischenahn</th>\n",
       "      <th>Your Location_Bernau</th>\n",
       "      <th>Your Location_Deutschland</th>\n",
       "      <th>Your Location_Deutschland</th>\n",
       "      <th>Your Location_Durchhausen (bei Villingen-Schwenningen)</th>\n",
       "      <th>Your Location_Essen</th>\n",
       "      <th>...</th>\n",
       "      <th>Hobbies (3/3)_Going to the cinemas</th>\n",
       "      <th>Hobbies (3/3)_Kochen/Backen</th>\n",
       "      <th>Hobbies (3/3)_Music</th>\n",
       "      <th>Hobbies (3/3)_Nothing at all</th>\n",
       "      <th>Hobbies (3/3)_Others</th>\n",
       "      <th>Hobbies (3/3)_Reading</th>\n",
       "      <th>Hobbies (3/3)_Sport</th>\n",
       "      <th>Hobbies (3/3)_Travelling</th>\n",
       "      <th>Hobbies (3/3)_Watching Animes</th>\n",
       "      <th>Hobbies (3/3)_Watching Netflix</th>\n",
       "    </tr>\n",
       "  </thead>\n",
       "  <tbody>\n",
       "    <tr>\n",
       "      <th>0</th>\n",
       "      <td>0.294118</td>\n",
       "      <td>0.555556</td>\n",
       "      <td>0.0</td>\n",
       "      <td>0.0</td>\n",
       "      <td>0.0</td>\n",
       "      <td>0.0</td>\n",
       "      <td>0.0</td>\n",
       "      <td>0.0</td>\n",
       "      <td>0.0</td>\n",
       "      <td>0.0</td>\n",
       "      <td>...</td>\n",
       "      <td>0.0</td>\n",
       "      <td>0.0</td>\n",
       "      <td>0.0</td>\n",
       "      <td>0.0</td>\n",
       "      <td>0.0</td>\n",
       "      <td>0.0</td>\n",
       "      <td>0.0</td>\n",
       "      <td>0.0</td>\n",
       "      <td>0.0</td>\n",
       "      <td>0.0</td>\n",
       "    </tr>\n",
       "    <tr>\n",
       "      <th>1</th>\n",
       "      <td>0.352941</td>\n",
       "      <td>0.444444</td>\n",
       "      <td>0.0</td>\n",
       "      <td>0.0</td>\n",
       "      <td>0.0</td>\n",
       "      <td>0.0</td>\n",
       "      <td>0.0</td>\n",
       "      <td>0.0</td>\n",
       "      <td>0.0</td>\n",
       "      <td>0.0</td>\n",
       "      <td>...</td>\n",
       "      <td>0.0</td>\n",
       "      <td>0.0</td>\n",
       "      <td>0.0</td>\n",
       "      <td>0.0</td>\n",
       "      <td>0.0</td>\n",
       "      <td>0.0</td>\n",
       "      <td>1.0</td>\n",
       "      <td>0.0</td>\n",
       "      <td>0.0</td>\n",
       "      <td>0.0</td>\n",
       "    </tr>\n",
       "    <tr>\n",
       "      <th>2</th>\n",
       "      <td>0.529412</td>\n",
       "      <td>0.444444</td>\n",
       "      <td>0.0</td>\n",
       "      <td>0.0</td>\n",
       "      <td>0.0</td>\n",
       "      <td>0.0</td>\n",
       "      <td>0.0</td>\n",
       "      <td>0.0</td>\n",
       "      <td>0.0</td>\n",
       "      <td>0.0</td>\n",
       "      <td>...</td>\n",
       "      <td>0.0</td>\n",
       "      <td>0.0</td>\n",
       "      <td>0.0</td>\n",
       "      <td>0.0</td>\n",
       "      <td>0.0</td>\n",
       "      <td>0.0</td>\n",
       "      <td>0.0</td>\n",
       "      <td>0.0</td>\n",
       "      <td>0.0</td>\n",
       "      <td>0.0</td>\n",
       "    </tr>\n",
       "    <tr>\n",
       "      <th>3</th>\n",
       "      <td>0.647059</td>\n",
       "      <td>0.111111</td>\n",
       "      <td>0.0</td>\n",
       "      <td>0.0</td>\n",
       "      <td>0.0</td>\n",
       "      <td>0.0</td>\n",
       "      <td>0.0</td>\n",
       "      <td>0.0</td>\n",
       "      <td>0.0</td>\n",
       "      <td>0.0</td>\n",
       "      <td>...</td>\n",
       "      <td>0.0</td>\n",
       "      <td>0.0</td>\n",
       "      <td>0.0</td>\n",
       "      <td>0.0</td>\n",
       "      <td>0.0</td>\n",
       "      <td>0.0</td>\n",
       "      <td>0.0</td>\n",
       "      <td>0.0</td>\n",
       "      <td>0.0</td>\n",
       "      <td>0.0</td>\n",
       "    </tr>\n",
       "    <tr>\n",
       "      <th>4</th>\n",
       "      <td>0.117647</td>\n",
       "      <td>0.777778</td>\n",
       "      <td>0.0</td>\n",
       "      <td>0.0</td>\n",
       "      <td>0.0</td>\n",
       "      <td>0.0</td>\n",
       "      <td>0.0</td>\n",
       "      <td>0.0</td>\n",
       "      <td>0.0</td>\n",
       "      <td>0.0</td>\n",
       "      <td>...</td>\n",
       "      <td>0.0</td>\n",
       "      <td>0.0</td>\n",
       "      <td>0.0</td>\n",
       "      <td>0.0</td>\n",
       "      <td>0.0</td>\n",
       "      <td>0.0</td>\n",
       "      <td>0.0</td>\n",
       "      <td>0.0</td>\n",
       "      <td>0.0</td>\n",
       "      <td>0.0</td>\n",
       "    </tr>\n",
       "  </tbody>\n",
       "</table>\n",
       "<p>5 rows × 119 columns</p>\n",
       "</div>"
      ],
      "text/plain": [
       "   Your Age  Your Gaming Performance  Your Location_Backnang  \\\n",
       "0  0.294118                 0.555556                     0.0   \n",
       "1  0.352941                 0.444444                     0.0   \n",
       "2  0.529412                 0.444444                     0.0   \n",
       "3  0.647059                 0.111111                     0.0   \n",
       "4  0.117647                 0.777778                     0.0   \n",
       "\n",
       "   Your Location_Bad Schwartau   Your Location_Bad Zwischenahn   \\\n",
       "0                           0.0                             0.0   \n",
       "1                           0.0                             0.0   \n",
       "2                           0.0                             0.0   \n",
       "3                           0.0                             0.0   \n",
       "4                           0.0                             0.0   \n",
       "\n",
       "   Your Location_Bernau  Your Location_Deutschland  \\\n",
       "0                   0.0                        0.0   \n",
       "1                   0.0                        0.0   \n",
       "2                   0.0                        0.0   \n",
       "3                   0.0                        0.0   \n",
       "4                   0.0                        0.0   \n",
       "\n",
       "   Your Location_Deutschland   \\\n",
       "0                         0.0   \n",
       "1                         0.0   \n",
       "2                         0.0   \n",
       "3                         0.0   \n",
       "4                         0.0   \n",
       "\n",
       "   Your Location_Durchhausen (bei Villingen-Schwenningen)   \\\n",
       "0                                                0.0         \n",
       "1                                                0.0         \n",
       "2                                                0.0         \n",
       "3                                                0.0         \n",
       "4                                                0.0         \n",
       "\n",
       "   Your Location_Essen  ...  Hobbies (3/3)_Going to the cinemas  \\\n",
       "0                  0.0  ...                                 0.0   \n",
       "1                  0.0  ...                                 0.0   \n",
       "2                  0.0  ...                                 0.0   \n",
       "3                  0.0  ...                                 0.0   \n",
       "4                  0.0  ...                                 0.0   \n",
       "\n",
       "   Hobbies (3/3)_Kochen/Backen  Hobbies (3/3)_Music  \\\n",
       "0                          0.0                  0.0   \n",
       "1                          0.0                  0.0   \n",
       "2                          0.0                  0.0   \n",
       "3                          0.0                  0.0   \n",
       "4                          0.0                  0.0   \n",
       "\n",
       "   Hobbies (3/3)_Nothing at all  Hobbies (3/3)_Others  Hobbies (3/3)_Reading  \\\n",
       "0                           0.0                   0.0                    0.0   \n",
       "1                           0.0                   0.0                    0.0   \n",
       "2                           0.0                   0.0                    0.0   \n",
       "3                           0.0                   0.0                    0.0   \n",
       "4                           0.0                   0.0                    0.0   \n",
       "\n",
       "   Hobbies (3/3)_Sport  Hobbies (3/3)_Travelling  \\\n",
       "0                  0.0                       0.0   \n",
       "1                  1.0                       0.0   \n",
       "2                  0.0                       0.0   \n",
       "3                  0.0                       0.0   \n",
       "4                  0.0                       0.0   \n",
       "\n",
       "   Hobbies (3/3)_Watching Animes  Hobbies (3/3)_Watching Netflix  \n",
       "0                            0.0                             0.0  \n",
       "1                            0.0                             0.0  \n",
       "2                            0.0                             0.0  \n",
       "3                            0.0                             0.0  \n",
       "4                            0.0                             0.0  \n",
       "\n",
       "[5 rows x 119 columns]"
      ]
     },
     "execution_count": 23,
     "metadata": {},
     "output_type": "execute_result"
    }
   ],
   "source": [
    "df.head()"
   ]
  },
  {
   "cell_type": "markdown",
   "metadata": {},
   "source": [
    "## Step 4: Apply elbow method to find the optimal clusters"
   ]
  },
  {
   "cell_type": "code",
   "execution_count": 24,
   "metadata": {},
   "outputs": [],
   "source": [
    "# converting string column to numaric\n",
    "from sklearn.preprocessing import LabelEncoder"
   ]
  },
  {
   "cell_type": "code",
   "execution_count": 25,
   "metadata": {},
   "outputs": [],
   "source": [
    "# label encoding\n",
    "labelEnc = LabelEncoder()\n",
    "for i in list(df.columns):\n",
    "    if df[i].dtype == 'object':\n",
    "        df[i] = labelEnc.fit_transform(df[i])"
   ]
  },
  {
   "cell_type": "code",
   "execution_count": 26,
   "metadata": {},
   "outputs": [
    {
     "data": {
      "image/png": "[encoded data removed]",
      "text/plain": [
       "<Figure size 432x288 with 1 Axes>"
      ]
     },
     "metadata": {
      "needs_background": "light"
     },
     "output_type": "display_data"
    }
   ],
   "source": [
    "# Use elbow method to find optimal number of clusters \n",
    "cs = []\n",
    "for i in range(1, 11):\n",
    "    kmeans = KMeans(n_clusters = i, init = 'k-means++', max_iter = 300, n_init = 10, random_state = 0)\n",
    "    kmeans.fit(df)\n",
    "    cs.append(kmeans.inertia_)\n",
    "plt.plot(range(1, 11), cs)\n",
    "plt.title('The Elbow Method')\n",
    "plt.xlabel('Number of clusters')\n",
    "plt.ylabel('CS')\n",
    "plt.show()"
   ]
  },
  {
   "cell_type": "markdown",
   "metadata": {},
   "source": [
    "The method has not really a significant bend as expected. Therefore the amount of optimal clusters cannot be defined easily. For 2 clusters there is a \"small\" bend thats why we assume that the amount of optimal clusters are 2."
   ]
  },
  {
   "cell_type": "markdown",
   "metadata": {
    "id": "ZpwFExDGpqlN"
   },
   "source": [
    "## Step 5: Apply PCA before applying K-Means"
   ]
  },
  {
   "cell_type": "code",
   "execution_count": 27,
   "metadata": {
    "id": "Ly64tjVupqBV"
   },
   "outputs": [],
   "source": [
    "from sklearn.decomposition import PCA"
   ]
  },
  {
   "cell_type": "code",
   "execution_count": 28,
   "metadata": {
    "id": "Nuvu7vW-p03Y"
   },
   "outputs": [],
   "source": [
    "pca = PCA(2)"
   ]
  },
  {
   "cell_type": "code",
   "execution_count": 29,
   "metadata": {
    "id": "ykr0jZ5zp3cr"
   },
   "outputs": [],
   "source": [
    "df = pca.fit_transform(df)"
   ]
  },
  {
   "cell_type": "code",
   "execution_count": 30,
   "metadata": {
    "colab": {
     "base_uri": "https://localhost:8080/"
    },
    "id": "_CK4hAagqAOd",
    "outputId": "5c1ba4c8-9671-44ad-ac57-c5fc1df60371"
   },
   "outputs": [
    {
     "data": {
      "text/plain": [
       "(44, 2)"
      ]
     },
     "execution_count": 30,
     "metadata": {},
     "output_type": "execute_result"
    }
   ],
   "source": [
    "df.shape"
   ]
  },
  {
   "cell_type": "markdown",
   "metadata": {
    "id": "-6WvY_KjpYoT"
   },
   "source": [
    "## Step 6: Applying K-Means"
   ]
  },
  {
   "cell_type": "code",
   "execution_count": 31,
   "metadata": {
    "id": "kLdGV6WgphUd"
   },
   "outputs": [],
   "source": [
    "#Import required module\n",
    "from sklearn.cluster import KMeans"
   ]
  },
  {
   "cell_type": "code",
   "execution_count": 32,
   "metadata": {
    "id": "odDFxRFTqGjP"
   },
   "outputs": [],
   "source": [
    "#Initialize the class object\n",
    "kmeans = KMeans(n_clusters= 2)"
   ]
  },
  {
   "cell_type": "code",
   "execution_count": 33,
   "metadata": {
    "id": "kjdV_3CZqKy_"
   },
   "outputs": [],
   "source": [
    "#predict the labels of clusters.\n",
    "label = kmeans.fit_predict(df)"
   ]
  },
  {
   "cell_type": "code",
   "execution_count": 34,
   "metadata": {
    "colab": {
     "base_uri": "https://localhost:8080/"
    },
    "id": "7JhXbbkqqND9",
    "outputId": "c17a60ee-76fb-4044-e068-1dfa509e1aaa"
   },
   "outputs": [
    {
     "data": {
      "text/plain": [
       "array([0, 1, 0, 0, 0, 0, 1, 0, 0, 0, 1, 0, 0, 0, 1, 1, 1, 1, 1, 1, 1, 1,\n",
       "       1, 0, 1, 1, 0, 1, 1, 0, 1, 1, 1, 1, 0, 1, 1, 1, 1, 1, 0, 0, 0, 1])"
      ]
     },
     "execution_count": 34,
     "metadata": {},
     "output_type": "execute_result"
    }
   ],
   "source": [
    "label"
   ]
  },
  {
   "cell_type": "markdown",
   "metadata": {
    "id": "8rXcUyKfqRmd"
   },
   "source": [
    "## Step 7: Plot the data and the clusters"
   ]
  },
  {
   "cell_type": "code",
   "execution_count": 35,
   "metadata": {
    "colab": {
     "base_uri": "https://localhost:8080/",
     "height": 265
    },
    "id": "NlIaf_z1qRPb",
    "outputId": "57db3116-91c2-49e6-a0e6-bfc186696f43"
   },
   "outputs": [
    {
     "data": {
      "image/png": "[encoded data removed]",
      "text/plain": [
       "<Figure size 432x288 with 1 Axes>"
      ]
     },
     "metadata": {
      "needs_background": "light"
     },
     "output_type": "display_data"
    }
   ],
   "source": [
    "import matplotlib.pyplot as plt\n",
    " \n",
    "#filter rows of original data\n",
    "filtered_label0 = df[label == 0]\n",
    " \n",
    "#plotting the results\n",
    "plt.scatter(filtered_label0[:,0] , filtered_label0[:,1])\n",
    "plt.show()"
   ]
  },
  {
   "cell_type": "code",
   "execution_count": 36,
   "metadata": {
    "colab": {
     "base_uri": "https://localhost:8080/",
     "height": 265
    },
    "id": "D0ToASbBqO-L",
    "outputId": "97d9010a-d514-4749-b0a2-5501e42682b2"
   },
   "outputs": [
    {
     "data": {
      "image/png": "[encoded data removed]",
      "text/plain": [
       "<Figure size 432x288 with 1 Axes>"
      ]
     },
     "metadata": {
      "needs_background": "light"
     },
     "output_type": "display_data"
    }
   ],
   "source": [
    "#filter rows of original data\n",
    "filtered_label2 = df[label == 0]\n",
    " \n",
    "filtered_label8 = df[label == 1]\n",
    " \n",
    "#Plotting the results\n",
    "plt.scatter(filtered_label2[:,0] , filtered_label2[:,1] , color = 'red')\n",
    "plt.scatter(filtered_label8[:,0] , filtered_label8[:,1] , color = 'black')\n",
    "plt.show()"
   ]
  },
  {
   "cell_type": "markdown",
   "metadata": {},
   "source": [
    "The result of this method is not satisfying. Therefore, we will run the same code again but use features which are \"gaming related\". This is kinda the same approach as Manero et al. (2016) had."
   ]
  },
  {
   "cell_type": "markdown",
   "metadata": {},
   "source": [
    "### Loading the dataframe again"
   ]
  },
  {
   "cell_type": "code",
   "execution_count": 37,
   "metadata": {},
   "outputs": [],
   "source": [
    "df = pd.read_csv(\"MatchingGamers_Finale.csv\") #loading the dataframe"
   ]
  },
  {
   "cell_type": "code",
   "execution_count": 38,
   "metadata": {},
   "outputs": [],
   "source": [
    "df.drop('Unnamed: 0', axis=1, inplace=True) #dropping \"Unnamed: 0\" Column"
   ]
  },
  {
   "cell_type": "markdown",
   "metadata": {},
   "source": [
    "## Applying Step 3 - Step 7 again"
   ]
  },
  {
   "cell_type": "code",
   "execution_count": 39,
   "metadata": {},
   "outputs": [],
   "source": [
    "# Select the categorical features which are related to the gaming preferences\n",
    "df1 = df[['Platform to communicate','Top 3 Games (1/3)', 'Top 3 Games (2/3)', 'Top 3 Games (3/3)', 'How long do you play', 'Your Gaming Performance' ]]"
   ]
  },
  {
   "cell_type": "code",
   "execution_count": 40,
   "metadata": {},
   "outputs": [],
   "source": [
    "# convert features to numeric\n",
    "categorical_features = ['Platform to communicate','Top 3 Games (1/3)','Top 3 Games (2/3)','Top 3 Games (3/3)','How long do you play']"
   ]
  },
  {
   "cell_type": "code",
   "execution_count": 41,
   "metadata": {},
   "outputs": [],
   "source": [
    "# We use get_dummies function from pandas that Convert categorical variable into dummy/indicator variables.\n",
    "def convert_to_int_data(data,columns):\n",
    "  dummies = pd.get_dummies(data[columns])\n",
    "  data = data.drop(columns, axis=1)\n",
    "  data = pd.concat([data, dummies], axis=1)\n",
    "  return data"
   ]
  },
  {
   "cell_type": "code",
   "execution_count": 42,
   "metadata": {},
   "outputs": [
    {
     "data": {
      "text/html": [
       "<div>\n",
       "<style scoped>\n",
       "    .dataframe tbody tr th:only-of-type {\n",
       "        vertical-align: middle;\n",
       "    }\n",
       "\n",
       "    .dataframe tbody tr th {\n",
       "        vertical-align: top;\n",
       "    }\n",
       "\n",
       "    .dataframe thead th {\n",
       "        text-align: right;\n",
       "    }\n",
       "</style>\n",
       "<table border=\"1\" class=\"dataframe\">\n",
       "  <thead>\n",
       "    <tr style=\"text-align: right;\">\n",
       "      <th></th>\n",
       "      <th>Your Gaming Performance</th>\n",
       "      <th>Platform to communicate_Discord</th>\n",
       "      <th>Platform to communicate_Other Platforms</th>\n",
       "      <th>Platform to communicate_PS Party</th>\n",
       "      <th>Top 3 Games (1/3)_APEX</th>\n",
       "      <th>Top 3 Games (1/3)_Battlefield</th>\n",
       "      <th>Top 3 Games (1/3)_Call of Duty (COD)</th>\n",
       "      <th>Top 3 Games (1/3)_Dead By Daylight</th>\n",
       "      <th>Top 3 Games (1/3)_FIFA</th>\n",
       "      <th>Top 3 Games (1/3)_Final Fantasy Online</th>\n",
       "      <th>...</th>\n",
       "      <th>Top 3 Games (3/3)_NBA</th>\n",
       "      <th>Top 3 Games (3/3)_No additional games</th>\n",
       "      <th>Top 3 Games (3/3)_Other Games</th>\n",
       "      <th>Top 3 Games (3/3)_Rocket league</th>\n",
       "      <th>Top 3 Games (3/3)_Tekken</th>\n",
       "      <th>How long do you play_10 - 15 hours</th>\n",
       "      <th>How long do you play_16 - 20 hours</th>\n",
       "      <th>How long do you play_21 - 25 hours</th>\n",
       "      <th>How long do you play_Less than 10 hours</th>\n",
       "      <th>How long do you play_More than 26 hours</th>\n",
       "    </tr>\n",
       "  </thead>\n",
       "  <tbody>\n",
       "    <tr>\n",
       "      <th>0</th>\n",
       "      <td>6</td>\n",
       "      <td>1</td>\n",
       "      <td>0</td>\n",
       "      <td>0</td>\n",
       "      <td>0</td>\n",
       "      <td>0</td>\n",
       "      <td>0</td>\n",
       "      <td>0</td>\n",
       "      <td>0</td>\n",
       "      <td>0</td>\n",
       "      <td>...</td>\n",
       "      <td>0</td>\n",
       "      <td>0</td>\n",
       "      <td>0</td>\n",
       "      <td>0</td>\n",
       "      <td>0</td>\n",
       "      <td>0</td>\n",
       "      <td>0</td>\n",
       "      <td>0</td>\n",
       "      <td>1</td>\n",
       "      <td>0</td>\n",
       "    </tr>\n",
       "    <tr>\n",
       "      <th>1</th>\n",
       "      <td>5</td>\n",
       "      <td>0</td>\n",
       "      <td>0</td>\n",
       "      <td>1</td>\n",
       "      <td>0</td>\n",
       "      <td>0</td>\n",
       "      <td>1</td>\n",
       "      <td>0</td>\n",
       "      <td>0</td>\n",
       "      <td>0</td>\n",
       "      <td>...</td>\n",
       "      <td>0</td>\n",
       "      <td>0</td>\n",
       "      <td>0</td>\n",
       "      <td>0</td>\n",
       "      <td>0</td>\n",
       "      <td>1</td>\n",
       "      <td>0</td>\n",
       "      <td>0</td>\n",
       "      <td>0</td>\n",
       "      <td>0</td>\n",
       "    </tr>\n",
       "    <tr>\n",
       "      <th>2</th>\n",
       "      <td>5</td>\n",
       "      <td>1</td>\n",
       "      <td>0</td>\n",
       "      <td>0</td>\n",
       "      <td>0</td>\n",
       "      <td>0</td>\n",
       "      <td>0</td>\n",
       "      <td>0</td>\n",
       "      <td>0</td>\n",
       "      <td>0</td>\n",
       "      <td>...</td>\n",
       "      <td>0</td>\n",
       "      <td>0</td>\n",
       "      <td>1</td>\n",
       "      <td>0</td>\n",
       "      <td>0</td>\n",
       "      <td>0</td>\n",
       "      <td>0</td>\n",
       "      <td>0</td>\n",
       "      <td>1</td>\n",
       "      <td>0</td>\n",
       "    </tr>\n",
       "    <tr>\n",
       "      <th>3</th>\n",
       "      <td>2</td>\n",
       "      <td>0</td>\n",
       "      <td>0</td>\n",
       "      <td>1</td>\n",
       "      <td>0</td>\n",
       "      <td>0</td>\n",
       "      <td>1</td>\n",
       "      <td>0</td>\n",
       "      <td>0</td>\n",
       "      <td>0</td>\n",
       "      <td>...</td>\n",
       "      <td>0</td>\n",
       "      <td>0</td>\n",
       "      <td>1</td>\n",
       "      <td>0</td>\n",
       "      <td>0</td>\n",
       "      <td>0</td>\n",
       "      <td>0</td>\n",
       "      <td>0</td>\n",
       "      <td>1</td>\n",
       "      <td>0</td>\n",
       "    </tr>\n",
       "    <tr>\n",
       "      <th>4</th>\n",
       "      <td>8</td>\n",
       "      <td>0</td>\n",
       "      <td>0</td>\n",
       "      <td>1</td>\n",
       "      <td>0</td>\n",
       "      <td>0</td>\n",
       "      <td>0</td>\n",
       "      <td>0</td>\n",
       "      <td>0</td>\n",
       "      <td>0</td>\n",
       "      <td>...</td>\n",
       "      <td>0</td>\n",
       "      <td>0</td>\n",
       "      <td>0</td>\n",
       "      <td>1</td>\n",
       "      <td>0</td>\n",
       "      <td>0</td>\n",
       "      <td>0</td>\n",
       "      <td>0</td>\n",
       "      <td>1</td>\n",
       "      <td>0</td>\n",
       "    </tr>\n",
       "  </tbody>\n",
       "</table>\n",
       "<p>5 rows × 47 columns</p>\n",
       "</div>"
      ],
      "text/plain": [
       "   Your Gaming Performance  Platform to communicate_Discord  \\\n",
       "0                        6                                1   \n",
       "1                        5                                0   \n",
       "2                        5                                1   \n",
       "3                        2                                0   \n",
       "4                        8                                0   \n",
       "\n",
       "   Platform to communicate_Other Platforms  Platform to communicate_PS Party  \\\n",
       "0                                        0                                 0   \n",
       "1                                        0                                 1   \n",
       "2                                        0                                 0   \n",
       "3                                        0                                 1   \n",
       "4                                        0                                 1   \n",
       "\n",
       "   Top 3 Games (1/3)_APEX  Top 3 Games (1/3)_Battlefield  \\\n",
       "0                       0                              0   \n",
       "1                       0                              0   \n",
       "2                       0                              0   \n",
       "3                       0                              0   \n",
       "4                       0                              0   \n",
       "\n",
       "   Top 3 Games (1/3)_Call of Duty (COD)  Top 3 Games (1/3)_Dead By Daylight  \\\n",
       "0                                     0                                   0   \n",
       "1                                     1                                   0   \n",
       "2                                     0                                   0   \n",
       "3                                     1                                   0   \n",
       "4                                     0                                   0   \n",
       "\n",
       "   Top 3 Games (1/3)_FIFA  Top 3 Games (1/3)_Final Fantasy Online  ...  \\\n",
       "0                       0                                       0  ...   \n",
       "1                       0                                       0  ...   \n",
       "2                       0                                       0  ...   \n",
       "3                       0                                       0  ...   \n",
       "4                       0                                       0  ...   \n",
       "\n",
       "   Top 3 Games (3/3)_NBA  Top 3 Games (3/3)_No additional games  \\\n",
       "0                      0                                      0   \n",
       "1                      0                                      0   \n",
       "2                      0                                      0   \n",
       "3                      0                                      0   \n",
       "4                      0                                      0   \n",
       "\n",
       "   Top 3 Games (3/3)_Other Games  Top 3 Games (3/3)_Rocket league  \\\n",
       "0                              0                                0   \n",
       "1                              0                                0   \n",
       "2                              1                                0   \n",
       "3                              1                                0   \n",
       "4                              0                                1   \n",
       "\n",
       "   Top 3 Games (3/3)_Tekken  How long do you play_10 - 15 hours  \\\n",
       "0                         0                                   0   \n",
       "1                         0                                   1   \n",
       "2                         0                                   0   \n",
       "3                         0                                   0   \n",
       "4                         0                                   0   \n",
       "\n",
       "   How long do you play_16 - 20 hours  How long do you play_21 - 25 hours  \\\n",
       "0                                   0                                   0   \n",
       "1                                   0                                   0   \n",
       "2                                   0                                   0   \n",
       "3                                   0                                   0   \n",
       "4                                   0                                   0   \n",
       "\n",
       "   How long do you play_Less than 10 hours  \\\n",
       "0                                        1   \n",
       "1                                        0   \n",
       "2                                        1   \n",
       "3                                        1   \n",
       "4                                        1   \n",
       "\n",
       "   How long do you play_More than 26 hours  \n",
       "0                                        0  \n",
       "1                                        0  \n",
       "2                                        0  \n",
       "3                                        0  \n",
       "4                                        0  \n",
       "\n",
       "[5 rows x 47 columns]"
      ]
     },
     "execution_count": 42,
     "metadata": {},
     "output_type": "execute_result"
    }
   ],
   "source": [
    "# We run the function to get data in numeric format\n",
    "df1 = convert_to_int_data(df1,categorical_features)\n",
    "df1.head()"
   ]
  },
  {
   "cell_type": "code",
   "execution_count": 43,
   "metadata": {},
   "outputs": [],
   "source": [
    "#Normalize the data\n",
    "def normalization(input_data):\n",
    "    minimum = np.amin(input_data, axis=0)\n",
    "    maximum = np.amax(input_data, axis=0)\n",
    "    normalized_data = (input_data - minimum)/(maximum - minimum)\n",
    "    return normalized_data\n",
    "df1 = normalization(df1)"
   ]
  },
  {
   "cell_type": "code",
   "execution_count": 44,
   "metadata": {},
   "outputs": [
    {
     "data": {
      "text/html": [
       "<div>\n",
       "<style scoped>\n",
       "    .dataframe tbody tr th:only-of-type {\n",
       "        vertical-align: middle;\n",
       "    }\n",
       "\n",
       "    .dataframe tbody tr th {\n",
       "        vertical-align: top;\n",
       "    }\n",
       "\n",
       "    .dataframe thead th {\n",
       "        text-align: right;\n",
       "    }\n",
       "</style>\n",
       "<table border=\"1\" class=\"dataframe\">\n",
       "  <thead>\n",
       "    <tr style=\"text-align: right;\">\n",
       "      <th></th>\n",
       "      <th>Your Gaming Performance</th>\n",
       "      <th>Platform to communicate_Discord</th>\n",
       "      <th>Platform to communicate_Other Platforms</th>\n",
       "      <th>Platform to communicate_PS Party</th>\n",
       "      <th>Top 3 Games (1/3)_APEX</th>\n",
       "      <th>Top 3 Games (1/3)_Battlefield</th>\n",
       "      <th>Top 3 Games (1/3)_Call of Duty (COD)</th>\n",
       "      <th>Top 3 Games (1/3)_Dead By Daylight</th>\n",
       "      <th>Top 3 Games (1/3)_FIFA</th>\n",
       "      <th>Top 3 Games (1/3)_Final Fantasy Online</th>\n",
       "      <th>...</th>\n",
       "      <th>Top 3 Games (3/3)_NBA</th>\n",
       "      <th>Top 3 Games (3/3)_No additional games</th>\n",
       "      <th>Top 3 Games (3/3)_Other Games</th>\n",
       "      <th>Top 3 Games (3/3)_Rocket league</th>\n",
       "      <th>Top 3 Games (3/3)_Tekken</th>\n",
       "      <th>How long do you play_10 - 15 hours</th>\n",
       "      <th>How long do you play_16 - 20 hours</th>\n",
       "      <th>How long do you play_21 - 25 hours</th>\n",
       "      <th>How long do you play_Less than 10 hours</th>\n",
       "      <th>How long do you play_More than 26 hours</th>\n",
       "    </tr>\n",
       "  </thead>\n",
       "  <tbody>\n",
       "    <tr>\n",
       "      <th>0</th>\n",
       "      <td>0.555556</td>\n",
       "      <td>1.0</td>\n",
       "      <td>0.0</td>\n",
       "      <td>0.0</td>\n",
       "      <td>0.0</td>\n",
       "      <td>0.0</td>\n",
       "      <td>0.0</td>\n",
       "      <td>0.0</td>\n",
       "      <td>0.0</td>\n",
       "      <td>0.0</td>\n",
       "      <td>...</td>\n",
       "      <td>0.0</td>\n",
       "      <td>0.0</td>\n",
       "      <td>0.0</td>\n",
       "      <td>0.0</td>\n",
       "      <td>0.0</td>\n",
       "      <td>0.0</td>\n",
       "      <td>0.0</td>\n",
       "      <td>0.0</td>\n",
       "      <td>1.0</td>\n",
       "      <td>0.0</td>\n",
       "    </tr>\n",
       "    <tr>\n",
       "      <th>1</th>\n",
       "      <td>0.444444</td>\n",
       "      <td>0.0</td>\n",
       "      <td>0.0</td>\n",
       "      <td>1.0</td>\n",
       "      <td>0.0</td>\n",
       "      <td>0.0</td>\n",
       "      <td>1.0</td>\n",
       "      <td>0.0</td>\n",
       "      <td>0.0</td>\n",
       "      <td>0.0</td>\n",
       "      <td>...</td>\n",
       "      <td>0.0</td>\n",
       "      <td>0.0</td>\n",
       "      <td>0.0</td>\n",
       "      <td>0.0</td>\n",
       "      <td>0.0</td>\n",
       "      <td>1.0</td>\n",
       "      <td>0.0</td>\n",
       "      <td>0.0</td>\n",
       "      <td>0.0</td>\n",
       "      <td>0.0</td>\n",
       "    </tr>\n",
       "    <tr>\n",
       "      <th>2</th>\n",
       "      <td>0.444444</td>\n",
       "      <td>1.0</td>\n",
       "      <td>0.0</td>\n",
       "      <td>0.0</td>\n",
       "      <td>0.0</td>\n",
       "      <td>0.0</td>\n",
       "      <td>0.0</td>\n",
       "      <td>0.0</td>\n",
       "      <td>0.0</td>\n",
       "      <td>0.0</td>\n",
       "      <td>...</td>\n",
       "      <td>0.0</td>\n",
       "      <td>0.0</td>\n",
       "      <td>1.0</td>\n",
       "      <td>0.0</td>\n",
       "      <td>0.0</td>\n",
       "      <td>0.0</td>\n",
       "      <td>0.0</td>\n",
       "      <td>0.0</td>\n",
       "      <td>1.0</td>\n",
       "      <td>0.0</td>\n",
       "    </tr>\n",
       "    <tr>\n",
       "      <th>3</th>\n",
       "      <td>0.111111</td>\n",
       "      <td>0.0</td>\n",
       "      <td>0.0</td>\n",
       "      <td>1.0</td>\n",
       "      <td>0.0</td>\n",
       "      <td>0.0</td>\n",
       "      <td>1.0</td>\n",
       "      <td>0.0</td>\n",
       "      <td>0.0</td>\n",
       "      <td>0.0</td>\n",
       "      <td>...</td>\n",
       "      <td>0.0</td>\n",
       "      <td>0.0</td>\n",
       "      <td>1.0</td>\n",
       "      <td>0.0</td>\n",
       "      <td>0.0</td>\n",
       "      <td>0.0</td>\n",
       "      <td>0.0</td>\n",
       "      <td>0.0</td>\n",
       "      <td>1.0</td>\n",
       "      <td>0.0</td>\n",
       "    </tr>\n",
       "    <tr>\n",
       "      <th>4</th>\n",
       "      <td>0.777778</td>\n",
       "      <td>0.0</td>\n",
       "      <td>0.0</td>\n",
       "      <td>1.0</td>\n",
       "      <td>0.0</td>\n",
       "      <td>0.0</td>\n",
       "      <td>0.0</td>\n",
       "      <td>0.0</td>\n",
       "      <td>0.0</td>\n",
       "      <td>0.0</td>\n",
       "      <td>...</td>\n",
       "      <td>0.0</td>\n",
       "      <td>0.0</td>\n",
       "      <td>0.0</td>\n",
       "      <td>1.0</td>\n",
       "      <td>0.0</td>\n",
       "      <td>0.0</td>\n",
       "      <td>0.0</td>\n",
       "      <td>0.0</td>\n",
       "      <td>1.0</td>\n",
       "      <td>0.0</td>\n",
       "    </tr>\n",
       "  </tbody>\n",
       "</table>\n",
       "<p>5 rows × 47 columns</p>\n",
       "</div>"
      ],
      "text/plain": [
       "   Your Gaming Performance  Platform to communicate_Discord  \\\n",
       "0                 0.555556                              1.0   \n",
       "1                 0.444444                              0.0   \n",
       "2                 0.444444                              1.0   \n",
       "3                 0.111111                              0.0   \n",
       "4                 0.777778                              0.0   \n",
       "\n",
       "   Platform to communicate_Other Platforms  Platform to communicate_PS Party  \\\n",
       "0                                      0.0                               0.0   \n",
       "1                                      0.0                               1.0   \n",
       "2                                      0.0                               0.0   \n",
       "3                                      0.0                               1.0   \n",
       "4                                      0.0                               1.0   \n",
       "\n",
       "   Top 3 Games (1/3)_APEX  Top 3 Games (1/3)_Battlefield  \\\n",
       "0                     0.0                            0.0   \n",
       "1                     0.0                            0.0   \n",
       "2                     0.0                            0.0   \n",
       "3                     0.0                            0.0   \n",
       "4                     0.0                            0.0   \n",
       "\n",
       "   Top 3 Games (1/3)_Call of Duty (COD)  Top 3 Games (1/3)_Dead By Daylight  \\\n",
       "0                                   0.0                                 0.0   \n",
       "1                                   1.0                                 0.0   \n",
       "2                                   0.0                                 0.0   \n",
       "3                                   1.0                                 0.0   \n",
       "4                                   0.0                                 0.0   \n",
       "\n",
       "   Top 3 Games (1/3)_FIFA  Top 3 Games (1/3)_Final Fantasy Online  ...  \\\n",
       "0                     0.0                                     0.0  ...   \n",
       "1                     0.0                                     0.0  ...   \n",
       "2                     0.0                                     0.0  ...   \n",
       "3                     0.0                                     0.0  ...   \n",
       "4                     0.0                                     0.0  ...   \n",
       "\n",
       "   Top 3 Games (3/3)_NBA  Top 3 Games (3/3)_No additional games  \\\n",
       "0                    0.0                                    0.0   \n",
       "1                    0.0                                    0.0   \n",
       "2                    0.0                                    0.0   \n",
       "3                    0.0                                    0.0   \n",
       "4                    0.0                                    0.0   \n",
       "\n",
       "   Top 3 Games (3/3)_Other Games  Top 3 Games (3/3)_Rocket league  \\\n",
       "0                            0.0                              0.0   \n",
       "1                            0.0                              0.0   \n",
       "2                            1.0                              0.0   \n",
       "3                            1.0                              0.0   \n",
       "4                            0.0                              1.0   \n",
       "\n",
       "   Top 3 Games (3/3)_Tekken  How long do you play_10 - 15 hours  \\\n",
       "0                       0.0                                 0.0   \n",
       "1                       0.0                                 1.0   \n",
       "2                       0.0                                 0.0   \n",
       "3                       0.0                                 0.0   \n",
       "4                       0.0                                 0.0   \n",
       "\n",
       "   How long do you play_16 - 20 hours  How long do you play_21 - 25 hours  \\\n",
       "0                                 0.0                                 0.0   \n",
       "1                                 0.0                                 0.0   \n",
       "2                                 0.0                                 0.0   \n",
       "3                                 0.0                                 0.0   \n",
       "4                                 0.0                                 0.0   \n",
       "\n",
       "   How long do you play_Less than 10 hours  \\\n",
       "0                                      1.0   \n",
       "1                                      0.0   \n",
       "2                                      1.0   \n",
       "3                                      1.0   \n",
       "4                                      1.0   \n",
       "\n",
       "   How long do you play_More than 26 hours  \n",
       "0                                      0.0  \n",
       "1                                      0.0  \n",
       "2                                      0.0  \n",
       "3                                      0.0  \n",
       "4                                      0.0  \n",
       "\n",
       "[5 rows x 47 columns]"
      ]
     },
     "execution_count": 44,
     "metadata": {},
     "output_type": "execute_result"
    }
   ],
   "source": [
    "df1.head()"
   ]
  },
  {
   "cell_type": "markdown",
   "metadata": {},
   "source": [
    "### Elbow method"
   ]
  },
  {
   "cell_type": "code",
   "execution_count": 45,
   "metadata": {},
   "outputs": [],
   "source": [
    "# converting string column to numaric\n",
    "from sklearn.preprocessing import LabelEncoder"
   ]
  },
  {
   "cell_type": "code",
   "execution_count": 46,
   "metadata": {},
   "outputs": [],
   "source": [
    "# label encoding\n",
    "labelEnc = LabelEncoder()\n",
    "for i in list(df1.columns):\n",
    "    if df1[i].dtype == 'object':\n",
    "        df1[i] = labelEnc.fit_transform(df1[i])"
   ]
  },
  {
   "cell_type": "code",
   "execution_count": 47,
   "metadata": {},
   "outputs": [
    {
     "data": {
      "image/png": "[encoded data removed]",
      "text/plain": [
       "<Figure size 432x288 with 1 Axes>"
      ]
     },
     "metadata": {
      "needs_background": "light"
     },
     "output_type": "display_data"
    }
   ],
   "source": [
    "# Use elbow method to find optimal number of clusters \n",
    "cs = []\n",
    "for i in range(1, 11):\n",
    "    kmeans = KMeans(n_clusters = i, init = 'k-means++', max_iter = 300, n_init = 10, random_state = 0)\n",
    "    kmeans.fit(df1)\n",
    "    cs.append(kmeans.inertia_)\n",
    "plt.plot(range(1, 11), cs)\n",
    "plt.title('The Elbow Method')\n",
    "plt.xlabel('Number of clusters')\n",
    "plt.ylabel('CS')\n",
    "plt.show()"
   ]
  },
  {
   "cell_type": "markdown",
   "metadata": {},
   "source": [
    "The bend for the elbow method is not significant but its better than for the approach we had before. In this case we can see that there is a small bend for 2 clusters - so we will continue with 2 clusters"
   ]
  },
  {
   "cell_type": "markdown",
   "metadata": {},
   "source": [
    "### **Apply PCA**"
   ]
  },
  {
   "cell_type": "code",
   "execution_count": 48,
   "metadata": {},
   "outputs": [],
   "source": [
    "from sklearn.decomposition import PCA"
   ]
  },
  {
   "cell_type": "code",
   "execution_count": 49,
   "metadata": {},
   "outputs": [],
   "source": [
    "pca = PCA(2)"
   ]
  },
  {
   "cell_type": "code",
   "execution_count": 50,
   "metadata": {},
   "outputs": [],
   "source": [
    "df1 = pca.fit_transform(df1)"
   ]
  },
  {
   "cell_type": "code",
   "execution_count": 51,
   "metadata": {},
   "outputs": [
    {
     "data": {
      "text/plain": [
       "(44, 2)"
      ]
     },
     "execution_count": 51,
     "metadata": {},
     "output_type": "execute_result"
    }
   ],
   "source": [
    "df1.shape"
   ]
  },
  {
   "cell_type": "markdown",
   "metadata": {},
   "source": [
    "### Apply K-Means"
   ]
  },
  {
   "cell_type": "code",
   "execution_count": 52,
   "metadata": {},
   "outputs": [],
   "source": [
    "#Import required module\n",
    "from sklearn.cluster import KMeans"
   ]
  },
  {
   "cell_type": "code",
   "execution_count": 53,
   "metadata": {},
   "outputs": [],
   "source": [
    "#Initialize the class object\n",
    "kmeans = KMeans(n_clusters= 2)"
   ]
  },
  {
   "cell_type": "code",
   "execution_count": 54,
   "metadata": {},
   "outputs": [],
   "source": [
    "#predict the labels of clusters.\n",
    "label = kmeans.fit_predict(df1)"
   ]
  },
  {
   "cell_type": "code",
   "execution_count": 55,
   "metadata": {},
   "outputs": [
    {
     "data": {
      "text/plain": [
       "array([0, 1, 0, 0, 0, 0, 1, 0, 0, 0, 1, 0, 0, 0, 1, 0, 1, 1, 0, 0, 1, 1,\n",
       "       0, 0, 1, 1, 0, 1, 1, 0, 1, 1, 1, 1, 1, 1, 1, 1, 1, 1, 0, 0, 0, 1])"
      ]
     },
     "execution_count": 55,
     "metadata": {},
     "output_type": "execute_result"
    }
   ],
   "source": [
    "label"
   ]
  },
  {
   "cell_type": "markdown",
   "metadata": {},
   "source": [
    "### Plotting the data and the clusters"
   ]
  },
  {
   "cell_type": "code",
   "execution_count": 56,
   "metadata": {},
   "outputs": [
    {
     "data": {
      "image/png": "[encoded data removed]",
      "text/plain": [
       "<Figure size 432x288 with 1 Axes>"
      ]
     },
     "metadata": {
      "needs_background": "light"
     },
     "output_type": "display_data"
    }
   ],
   "source": [
    "import matplotlib.pyplot as plt\n",
    " \n",
    "#filter rows of original data\n",
    "filtered_label0 = df1[label == 0]\n",
    " \n",
    "#plotting the results\n",
    "plt.scatter(filtered_label0[:,0] , filtered_label0[:,1])\n",
    "plt.show()"
   ]
  },
  {
   "cell_type": "code",
   "execution_count": 57,
   "metadata": {},
   "outputs": [
    {
     "data": {
      "image/png": "[encoded data removed]",
      "text/plain": [
       "<Figure size 432x288 with 1 Axes>"
      ]
     },
     "metadata": {
      "needs_background": "light"
     },
     "output_type": "display_data"
    }
   ],
   "source": [
    "#filter rows of original data\n",
    "filtered_label2 = df1[label == 0]\n",
    " \n",
    "filtered_label8 = df1[label == 1]\n",
    " \n",
    "#Plotting the results\n",
    "plt.scatter(filtered_label2[:,0] , filtered_label2[:,1] , color = 'red')\n",
    "plt.scatter(filtered_label8[:,0] , filtered_label8[:,1] , color = 'black')\n",
    "plt.show()"
   ]
  },
  {
   "cell_type": "markdown",
   "metadata": {},
   "source": [
    "## Conclusion:\n",
    "\n",
    "To cluster gamers (based on the criteria that we have) is the K-means clustering method not the optimal way. In terms of matching gamers, we will therefore continue with KNN. "
   ]
  },
  {
   "cell_type": "markdown",
   "metadata": {},
   "source": [
    "Reference:\n",
    "\n",
    "Manero, B., Torrente, J., Freire, M., & Fernández-Manjón, B. (2016). An instrument to build a gamer clustering framework according to gaming preferences and habits. Computers in Human Behavior, 62, 353-363.\n"
   ]
  }
 ],
 "metadata": {
  "colab": {
   "name": "Matching_Gamer_Clustering.ipynb",
   "provenance": []
  },
  "kernelspec": {
   "display_name": "Python 3",
   "language": "python",
   "name": "python3"
  },
  "language_info": {
   "codemirror_mode": {
    "name": "ipython",
    "version": 3
   },
   "file_extension": ".py",
   "mimetype": "text/x-python",
   "name": "python",
   "nbconvert_exporter": "python",
   "pygments_lexer": "ipython3",
   "version": "3.8.5"
  }
 },
 "nbformat": 4,
 "nbformat_minor": 1
}
