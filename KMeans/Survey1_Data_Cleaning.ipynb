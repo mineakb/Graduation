{
 "cells": [
  {
   "cell_type": "code",
   "execution_count": 1,
   "metadata": {
    "id": "0dQA7XAVgk2D"
   },
   "outputs": [],
   "source": [
    "import pandas as pd #importing the library pandas to clean the dataframe"
   ]
  },
  {
   "cell_type": "code",
   "execution_count": 2,
   "metadata": {
    "id": "MttsdW_FgnO-"
   },
   "outputs": [],
   "source": [
    "df = pd.read_csv(\"Survey1.csv\") #importing survey 1"
   ]
  },
  {
   "cell_type": "code",
   "execution_count": 3,
   "metadata": {
    "colab": {
     "base_uri": "https://localhost:8080/",
     "height": 629
    },
    "id": "fpE56yRBgx72",
    "outputId": "8d0420be-53cc-4ea2-cf28-1df0546bb1bd"
   },
   "outputs": [
    {
     "data": {
      "text/html": [
       "<div>\n",
       "<style scoped>\n",
       "    .dataframe tbody tr th:only-of-type {\n",
       "        vertical-align: middle;\n",
       "    }\n",
       "\n",
       "    .dataframe tbody tr th {\n",
       "        vertical-align: top;\n",
       "    }\n",
       "\n",
       "    .dataframe thead th {\n",
       "        text-align: right;\n",
       "    }\n",
       "</style>\n",
       "<table border=\"1\" class=\"dataframe\">\n",
       "  <thead>\n",
       "    <tr style=\"text-align: right;\">\n",
       "      <th></th>\n",
       "      <th>Zeitstempel</th>\n",
       "      <th>Dein Alter</th>\n",
       "      <th>Dein Wohnort</th>\n",
       "      <th>Die Sprachen, die Du bevorzugst zu sprechen</th>\n",
       "      <th>Welche Plattform bevorzugst Du für die Kommunikation mit anderen?</th>\n",
       "      <th>Deine Top 3 Games (1/3)</th>\n",
       "      <th>Deine Top 3 Games (2/3)</th>\n",
       "      <th>Deine Top 3 Games (3/3)</th>\n",
       "      <th>Wie lange spielst Du in einer Woche (im Durchschnitt)?</th>\n",
       "      <th>Wie schätz Du dich beim zocken ein?</th>\n",
       "      <th>Deine Freizeitaktivitäten sind.. (1/3)</th>\n",
       "      <th>Deine Freizeitaktivitäten sind.. (2/3)</th>\n",
       "      <th>Deine Freizeitaktivitäten sind.. (3/3)</th>\n",
       "    </tr>\n",
       "  </thead>\n",
       "  <tbody>\n",
       "    <tr>\n",
       "      <th>0</th>\n",
       "      <td>2021/10/02 12:39:19 PM MEZ</td>\n",
       "      <td>23</td>\n",
       "      <td>Mannheim</td>\n",
       "      <td>Deutsch</td>\n",
       "      <td>Discord</td>\n",
       "      <td>Grand Theft Auto (GTA) Online</td>\n",
       "      <td>Call of Duty (COD)</td>\n",
       "      <td>Fortnite</td>\n",
       "      <td>Weniger als 10 Stunden</td>\n",
       "      <td>6</td>\n",
       "      <td>Verreisen</td>\n",
       "      <td>Essen (Foodie)</td>\n",
       "      <td>mit Freunden ausgehen</td>\n",
       "    </tr>\n",
       "    <tr>\n",
       "      <th>1</th>\n",
       "      <td>2021/10/02 12:45:05 PM MEZ</td>\n",
       "      <td>24</td>\n",
       "      <td>Stuttgart</td>\n",
       "      <td>Deutsch</td>\n",
       "      <td>PS Party</td>\n",
       "      <td>Call of Duty (COD)</td>\n",
       "      <td>Grand Theft Auto (GTA) Online</td>\n",
       "      <td>FIFA</td>\n",
       "      <td>10 - 15 Stunden</td>\n",
       "      <td>5</td>\n",
       "      <td>mit Freunden ausgehen</td>\n",
       "      <td>Animes schauen</td>\n",
       "      <td>Sport</td>\n",
       "    </tr>\n",
       "    <tr>\n",
       "      <th>2</th>\n",
       "      <td>2021/10/02 12:49:30 PM MEZ</td>\n",
       "      <td>27</td>\n",
       "      <td>Mannheim</td>\n",
       "      <td>Englisch</td>\n",
       "      <td>Discord</td>\n",
       "      <td>Grand Theft Auto (GTA) Online</td>\n",
       "      <td>Fortnite</td>\n",
       "      <td>Andere Spiele</td>\n",
       "      <td>Weniger als 10 Stunden</td>\n",
       "      <td>5</td>\n",
       "      <td>Netflix schauen</td>\n",
       "      <td>Essen (Foodie)</td>\n",
       "      <td>mit Freunden ausgehen</td>\n",
       "    </tr>\n",
       "    <tr>\n",
       "      <th>3</th>\n",
       "      <td>2021/10/02 1:03:58 PM MEZ</td>\n",
       "      <td>29</td>\n",
       "      <td>Neuhausen</td>\n",
       "      <td>Deutsch</td>\n",
       "      <td>PS Party</td>\n",
       "      <td>Call of Duty (COD)</td>\n",
       "      <td>Grand Theft Auto (GTA) Online</td>\n",
       "      <td>Andere Spiele</td>\n",
       "      <td>Weniger als 10 Stunden</td>\n",
       "      <td>2</td>\n",
       "      <td>Verreisen</td>\n",
       "      <td>Essen (Foodie)</td>\n",
       "      <td>mit Freunden ausgehen</td>\n",
       "    </tr>\n",
       "    <tr>\n",
       "      <th>4</th>\n",
       "      <td>2021/10/02 1:27:54 PM MEZ</td>\n",
       "      <td>20</td>\n",
       "      <td>Stuttgart</td>\n",
       "      <td>Deutsch</td>\n",
       "      <td>PS Party</td>\n",
       "      <td>Grand Theft Auto (GTA) Online</td>\n",
       "      <td>Call of Duty (COD)</td>\n",
       "      <td>Rocket league</td>\n",
       "      <td>Weniger als 10 Stunden</td>\n",
       "      <td>8</td>\n",
       "      <td>Animes schauen</td>\n",
       "      <td>Sport</td>\n",
       "      <td>Essen (Foodie)</td>\n",
       "    </tr>\n",
       "  </tbody>\n",
       "</table>\n",
       "</div>"
      ],
      "text/plain": [
       "                  Zeitstempel  Dein Alter Dein Wohnort   \\\n",
       "0  2021/10/02 12:39:19 PM MEZ          23      Mannheim   \n",
       "1  2021/10/02 12:45:05 PM MEZ          24     Stuttgart   \n",
       "2  2021/10/02 12:49:30 PM MEZ          27      Mannheim   \n",
       "3   2021/10/02 1:03:58 PM MEZ          29     Neuhausen   \n",
       "4   2021/10/02 1:27:54 PM MEZ          20     Stuttgart   \n",
       "\n",
       "  Die Sprachen, die Du bevorzugst zu sprechen  \\\n",
       "0                                     Deutsch   \n",
       "1                                     Deutsch   \n",
       "2                                    Englisch   \n",
       "3                                     Deutsch   \n",
       "4                                     Deutsch   \n",
       "\n",
       "  Welche Plattform bevorzugst Du für die Kommunikation mit anderen?  \\\n",
       "0                                            Discord                  \n",
       "1                                           PS Party                  \n",
       "2                                            Discord                  \n",
       "3                                           PS Party                  \n",
       "4                                           PS Party                  \n",
       "\n",
       "         Deine Top 3 Games (1/3)        Deine Top 3 Games (2/3)  \\\n",
       "0  Grand Theft Auto (GTA) Online             Call of Duty (COD)   \n",
       "1             Call of Duty (COD)  Grand Theft Auto (GTA) Online   \n",
       "2  Grand Theft Auto (GTA) Online                       Fortnite   \n",
       "3             Call of Duty (COD)  Grand Theft Auto (GTA) Online   \n",
       "4  Grand Theft Auto (GTA) Online             Call of Duty (COD)   \n",
       "\n",
       "  Deine Top 3 Games (3/3)  \\\n",
       "0                Fortnite   \n",
       "1                    FIFA   \n",
       "2           Andere Spiele   \n",
       "3           Andere Spiele   \n",
       "4           Rocket league   \n",
       "\n",
       "  Wie lange spielst Du in einer Woche (im Durchschnitt)?  \\\n",
       "0                             Weniger als 10 Stunden       \n",
       "1                                    10 - 15 Stunden       \n",
       "2                             Weniger als 10 Stunden       \n",
       "3                             Weniger als 10 Stunden       \n",
       "4                             Weniger als 10 Stunden       \n",
       "\n",
       "   Wie schätz Du dich beim zocken ein? Deine Freizeitaktivitäten sind.. (1/3)  \\\n",
       "0                                    6                              Verreisen   \n",
       "1                                    5                  mit Freunden ausgehen   \n",
       "2                                    5                        Netflix schauen   \n",
       "3                                    2                              Verreisen   \n",
       "4                                    8                         Animes schauen   \n",
       "\n",
       "  Deine Freizeitaktivitäten sind.. (2/3)  \\\n",
       "0                         Essen (Foodie)   \n",
       "1                         Animes schauen   \n",
       "2                         Essen (Foodie)   \n",
       "3                         Essen (Foodie)   \n",
       "4                                  Sport   \n",
       "\n",
       "  Deine Freizeitaktivitäten sind.. (3/3)  \n",
       "0                  mit Freunden ausgehen  \n",
       "1                                  Sport  \n",
       "2                  mit Freunden ausgehen  \n",
       "3                  mit Freunden ausgehen  \n",
       "4                         Essen (Foodie)  "
      ]
     },
     "execution_count": 3,
     "metadata": {},
     "output_type": "execute_result"
    }
   ],
   "source": [
    "df.head(5)"
   ]
  },
  {
   "cell_type": "markdown",
   "metadata": {
    "id": "AvGXzaUZpeGL"
   },
   "source": [
    "## Data Preprocessing"
   ]
  },
  {
   "cell_type": "code",
   "execution_count": 4,
   "metadata": {
    "colab": {
     "base_uri": "https://localhost:8080/"
    },
    "id": "v3L9eATLhlZ8",
    "outputId": "68417aba-299a-44c7-99bf-72d365fcc8a0"
   },
   "outputs": [
    {
     "name": "stdout",
     "output_type": "stream",
     "text": [
      "<class 'pandas.core.frame.DataFrame'>\n",
      "RangeIndex: 45 entries, 0 to 44\n",
      "Data columns (total 13 columns):\n",
      " #   Column                                                             Non-Null Count  Dtype \n",
      "---  ------                                                             --------------  ----- \n",
      " 0   Zeitstempel                                                        45 non-null     object\n",
      " 1   Dein Alter                                                         45 non-null     int64 \n",
      " 2   Dein Wohnort                                                       45 non-null     object\n",
      " 3   Die Sprachen, die Du bevorzugst zu sprechen                        44 non-null     object\n",
      " 4   Welche Plattform bevorzugst Du für die Kommunikation mit anderen?  45 non-null     object\n",
      " 5   Deine Top 3 Games (1/3)                                            45 non-null     object\n",
      " 6   Deine Top 3 Games (2/3)                                            45 non-null     object\n",
      " 7   Deine Top 3 Games (3/3)                                            45 non-null     object\n",
      " 8   Wie lange spielst Du in einer Woche (im Durchschnitt)?             45 non-null     object\n",
      " 9   Wie schätz Du dich beim zocken ein?                                45 non-null     int64 \n",
      " 10  Deine Freizeitaktivitäten sind.. (1/3)                             45 non-null     object\n",
      " 11  Deine Freizeitaktivitäten sind.. (2/3)                             45 non-null     object\n",
      " 12  Deine Freizeitaktivitäten sind.. (3/3)                             45 non-null     object\n",
      "dtypes: int64(2), object(11)\n",
      "memory usage: 4.7+ KB\n"
     ]
    }
   ],
   "source": [
    "# check data frame\n",
    "df.info()"
   ]
  },
  {
   "cell_type": "markdown",
   "metadata": {},
   "source": [
    "In total we have 45 entries"
   ]
  },
  {
   "cell_type": "markdown",
   "metadata": {},
   "source": [
    "### First step: check the age range"
   ]
  },
  {
   "cell_type": "markdown",
   "metadata": {},
   "source": [
    "The first step is to check the values. Since the target group is adressed to gamers in the age range of 18 - 35, gamers which are younger than 18 and older than 36 cannot be included and will be removed."
   ]
  },
  {
   "cell_type": "code",
   "execution_count": 5,
   "metadata": {},
   "outputs": [
    {
     "data": {
      "text/plain": [
       "<AxesSubplot:>"
      ]
     },
     "execution_count": 5,
     "metadata": {},
     "output_type": "execute_result"
    },
    {
     "data": {
      "image/png": "[encoded data removed]",
      "text/plain": [
       "<Figure size 432x288 with 1 Axes>"
      ]
     },
     "metadata": {
      "needs_background": "light"
     },
     "output_type": "display_data"
    }
   ],
   "source": [
    "df['Dein Alter'].value_counts().head(10).plot.bar()"
   ]
  },
  {
   "cell_type": "markdown",
   "metadata": {},
   "source": [
    "### Second step: drop null cells"
   ]
  },
  {
   "cell_type": "markdown",
   "metadata": {},
   "source": [
    "The second step is to drop null cells. Therefore first it will be analyzed whether there are null cells and if so, they will be excluded."
   ]
  },
  {
   "cell_type": "code",
   "execution_count": 6,
   "metadata": {
    "colab": {
     "base_uri": "https://localhost:8080/"
    },
    "id": "K9eZf65Jic6F",
    "outputId": "bac96ff8-624e-42a1-a985-a955e165227b"
   },
   "outputs": [
    {
     "data": {
      "text/plain": [
       "Zeitstempel                                                          False\n",
       "Dein Alter                                                           False\n",
       "Dein Wohnort                                                         False\n",
       "Die Sprachen, die Du bevorzugst zu sprechen                          False\n",
       "Welche Plattform bevorzugst Du für die Kommunikation mit anderen?    False\n",
       "Deine Top 3 Games (1/3)                                              False\n",
       "Deine Top 3 Games (2/3)                                              False\n",
       "Deine Top 3 Games (3/3)                                              False\n",
       "Wie lange spielst Du in einer Woche (im Durchschnitt)?               False\n",
       "Wie schätz Du dich beim zocken ein?                                  False\n",
       "Deine Freizeitaktivitäten sind.. (1/3)                               False\n",
       "Deine Freizeitaktivitäten sind.. (2/3)                               False\n",
       "Deine Freizeitaktivitäten sind.. (3/3)                               False\n",
       "dtype: bool"
      ]
     },
     "execution_count": 6,
     "metadata": {},
     "output_type": "execute_result"
    }
   ],
   "source": [
    "# check \"?\" Question mark in dataset\n",
    "df.isin(['?']).any()"
   ]
  },
  {
   "cell_type": "code",
   "execution_count": 7,
   "metadata": {
    "colab": {
     "base_uri": "https://localhost:8080/"
    },
    "id": "6ncjYbvMigT1",
    "outputId": "24d651af-da5d-4ae6-a8a7-5aadf1974f1f"
   },
   "outputs": [
    {
     "data": {
      "text/plain": [
       "Zeitstempel                                                          False\n",
       "Dein Alter                                                           False\n",
       "Dein Wohnort                                                         False\n",
       "Die Sprachen, die Du bevorzugst zu sprechen                          False\n",
       "Welche Plattform bevorzugst Du für die Kommunikation mit anderen?    False\n",
       "Deine Top 3 Games (1/3)                                              False\n",
       "Deine Top 3 Games (2/3)                                              False\n",
       "Deine Top 3 Games (3/3)                                              False\n",
       "Wie lange spielst Du in einer Woche (im Durchschnitt)?               False\n",
       "Wie schätz Du dich beim zocken ein?                                  False\n",
       "Deine Freizeitaktivitäten sind.. (1/3)                               False\n",
       "Deine Freizeitaktivitäten sind.. (2/3)                               False\n",
       "Deine Freizeitaktivitäten sind.. (3/3)                               False\n",
       "dtype: bool"
      ]
     },
     "execution_count": 7,
     "metadata": {},
     "output_type": "execute_result"
    }
   ],
   "source": [
    "# Check null values in dataset\n",
    "df.isin(['nan']).any()"
   ]
  },
  {
   "cell_type": "markdown",
   "metadata": {},
   "source": [
    "Null cell is identified:"
   ]
  },
  {
   "cell_type": "code",
   "execution_count": 8,
   "metadata": {},
   "outputs": [
    {
     "data": {
      "text/plain": [
       "Zeitstempel                                                          0\n",
       "Dein Alter                                                           0\n",
       "Dein Wohnort                                                         0\n",
       "Die Sprachen, die Du bevorzugst zu sprechen                          1\n",
       "Welche Plattform bevorzugst Du für die Kommunikation mit anderen?    0\n",
       "Deine Top 3 Games (1/3)                                              0\n",
       "Deine Top 3 Games (2/3)                                              0\n",
       "Deine Top 3 Games (3/3)                                              0\n",
       "Wie lange spielst Du in einer Woche (im Durchschnitt)?               0\n",
       "Wie schätz Du dich beim zocken ein?                                  0\n",
       "Deine Freizeitaktivitäten sind.. (1/3)                               0\n",
       "Deine Freizeitaktivitäten sind.. (2/3)                               0\n",
       "Deine Freizeitaktivitäten sind.. (3/3)                               0\n",
       "dtype: int64"
      ]
     },
     "execution_count": 8,
     "metadata": {},
     "output_type": "execute_result"
    }
   ],
   "source": [
    "# checking the null values\n",
    "df.isnull().sum()"
   ]
  },
  {
   "cell_type": "markdown",
   "metadata": {},
   "source": [
    "Null cell is deleted:"
   ]
  },
  {
   "cell_type": "code",
   "execution_count": 9,
   "metadata": {},
   "outputs": [],
   "source": [
    "# droping the null value\n",
    "df.dropna(inplace=True)"
   ]
  },
  {
   "cell_type": "code",
   "execution_count": 10,
   "metadata": {},
   "outputs": [
    {
     "name": "stdout",
     "output_type": "stream",
     "text": [
      "<class 'pandas.core.frame.DataFrame'>\n",
      "Int64Index: 44 entries, 0 to 44\n",
      "Data columns (total 13 columns):\n",
      " #   Column                                                             Non-Null Count  Dtype \n",
      "---  ------                                                             --------------  ----- \n",
      " 0   Zeitstempel                                                        44 non-null     object\n",
      " 1   Dein Alter                                                         44 non-null     int64 \n",
      " 2   Dein Wohnort                                                       44 non-null     object\n",
      " 3   Die Sprachen, die Du bevorzugst zu sprechen                        44 non-null     object\n",
      " 4   Welche Plattform bevorzugst Du für die Kommunikation mit anderen?  44 non-null     object\n",
      " 5   Deine Top 3 Games (1/3)                                            44 non-null     object\n",
      " 6   Deine Top 3 Games (2/3)                                            44 non-null     object\n",
      " 7   Deine Top 3 Games (3/3)                                            44 non-null     object\n",
      " 8   Wie lange spielst Du in einer Woche (im Durchschnitt)?             44 non-null     object\n",
      " 9   Wie schätz Du dich beim zocken ein?                                44 non-null     int64 \n",
      " 10  Deine Freizeitaktivitäten sind.. (1/3)                             44 non-null     object\n",
      " 11  Deine Freizeitaktivitäten sind.. (2/3)                             44 non-null     object\n",
      " 12  Deine Freizeitaktivitäten sind.. (3/3)                             44 non-null     object\n",
      "dtypes: int64(2), object(11)\n",
      "memory usage: 4.8+ KB\n"
     ]
    }
   ],
   "source": [
    "# check datatypes whether the one null value was deleted\n",
    "df.info()"
   ]
  },
  {
   "cell_type": "markdown",
   "metadata": {},
   "source": [
    "After deleting the null cell, there are 44 entries in the dataframe."
   ]
  },
  {
   "cell_type": "markdown",
   "metadata": {},
   "source": [
    "### Third Step: Deleting \"Zeitstempel\" (Timestamp)"
   ]
  },
  {
   "cell_type": "markdown",
   "metadata": {},
   "source": [
    "GoogleForms collected the timestamp when users answered the survey. This information is not necessary for this research thats why this column will be deleted."
   ]
  },
  {
   "cell_type": "code",
   "execution_count": 11,
   "metadata": {
    "colab": {
     "base_uri": "https://localhost:8080/",
     "height": 578
    },
    "id": "IC1pllqliB5l",
    "outputId": "df266287-5833-4d48-e0e4-8bc61f3593d1"
   },
   "outputs": [
    {
     "data": {
      "text/html": [
       "<div>\n",
       "<style scoped>\n",
       "    .dataframe tbody tr th:only-of-type {\n",
       "        vertical-align: middle;\n",
       "    }\n",
       "\n",
       "    .dataframe tbody tr th {\n",
       "        vertical-align: top;\n",
       "    }\n",
       "\n",
       "    .dataframe thead th {\n",
       "        text-align: right;\n",
       "    }\n",
       "</style>\n",
       "<table border=\"1\" class=\"dataframe\">\n",
       "  <thead>\n",
       "    <tr style=\"text-align: right;\">\n",
       "      <th></th>\n",
       "      <th>Dein Alter</th>\n",
       "      <th>Dein Wohnort</th>\n",
       "      <th>Die Sprachen, die Du bevorzugst zu sprechen</th>\n",
       "      <th>Welche Plattform bevorzugst Du für die Kommunikation mit anderen?</th>\n",
       "      <th>Deine Top 3 Games (1/3)</th>\n",
       "      <th>Deine Top 3 Games (2/3)</th>\n",
       "      <th>Deine Top 3 Games (3/3)</th>\n",
       "      <th>Wie lange spielst Du in einer Woche (im Durchschnitt)?</th>\n",
       "      <th>Wie schätz Du dich beim zocken ein?</th>\n",
       "      <th>Deine Freizeitaktivitäten sind.. (1/3)</th>\n",
       "      <th>Deine Freizeitaktivitäten sind.. (2/3)</th>\n",
       "      <th>Deine Freizeitaktivitäten sind.. (3/3)</th>\n",
       "    </tr>\n",
       "  </thead>\n",
       "  <tbody>\n",
       "    <tr>\n",
       "      <th>0</th>\n",
       "      <td>23</td>\n",
       "      <td>Mannheim</td>\n",
       "      <td>Deutsch</td>\n",
       "      <td>Discord</td>\n",
       "      <td>Grand Theft Auto (GTA) Online</td>\n",
       "      <td>Call of Duty (COD)</td>\n",
       "      <td>Fortnite</td>\n",
       "      <td>Weniger als 10 Stunden</td>\n",
       "      <td>6</td>\n",
       "      <td>Verreisen</td>\n",
       "      <td>Essen (Foodie)</td>\n",
       "      <td>mit Freunden ausgehen</td>\n",
       "    </tr>\n",
       "    <tr>\n",
       "      <th>1</th>\n",
       "      <td>24</td>\n",
       "      <td>Stuttgart</td>\n",
       "      <td>Deutsch</td>\n",
       "      <td>PS Party</td>\n",
       "      <td>Call of Duty (COD)</td>\n",
       "      <td>Grand Theft Auto (GTA) Online</td>\n",
       "      <td>FIFA</td>\n",
       "      <td>10 - 15 Stunden</td>\n",
       "      <td>5</td>\n",
       "      <td>mit Freunden ausgehen</td>\n",
       "      <td>Animes schauen</td>\n",
       "      <td>Sport</td>\n",
       "    </tr>\n",
       "    <tr>\n",
       "      <th>2</th>\n",
       "      <td>27</td>\n",
       "      <td>Mannheim</td>\n",
       "      <td>Englisch</td>\n",
       "      <td>Discord</td>\n",
       "      <td>Grand Theft Auto (GTA) Online</td>\n",
       "      <td>Fortnite</td>\n",
       "      <td>Andere Spiele</td>\n",
       "      <td>Weniger als 10 Stunden</td>\n",
       "      <td>5</td>\n",
       "      <td>Netflix schauen</td>\n",
       "      <td>Essen (Foodie)</td>\n",
       "      <td>mit Freunden ausgehen</td>\n",
       "    </tr>\n",
       "    <tr>\n",
       "      <th>3</th>\n",
       "      <td>29</td>\n",
       "      <td>Neuhausen</td>\n",
       "      <td>Deutsch</td>\n",
       "      <td>PS Party</td>\n",
       "      <td>Call of Duty (COD)</td>\n",
       "      <td>Grand Theft Auto (GTA) Online</td>\n",
       "      <td>Andere Spiele</td>\n",
       "      <td>Weniger als 10 Stunden</td>\n",
       "      <td>2</td>\n",
       "      <td>Verreisen</td>\n",
       "      <td>Essen (Foodie)</td>\n",
       "      <td>mit Freunden ausgehen</td>\n",
       "    </tr>\n",
       "    <tr>\n",
       "      <th>4</th>\n",
       "      <td>20</td>\n",
       "      <td>Stuttgart</td>\n",
       "      <td>Deutsch</td>\n",
       "      <td>PS Party</td>\n",
       "      <td>Grand Theft Auto (GTA) Online</td>\n",
       "      <td>Call of Duty (COD)</td>\n",
       "      <td>Rocket league</td>\n",
       "      <td>Weniger als 10 Stunden</td>\n",
       "      <td>8</td>\n",
       "      <td>Animes schauen</td>\n",
       "      <td>Sport</td>\n",
       "      <td>Essen (Foodie)</td>\n",
       "    </tr>\n",
       "  </tbody>\n",
       "</table>\n",
       "</div>"
      ],
      "text/plain": [
       "   Dein Alter Dein Wohnort  Die Sprachen, die Du bevorzugst zu sprechen  \\\n",
       "0          23      Mannheim                                     Deutsch   \n",
       "1          24     Stuttgart                                     Deutsch   \n",
       "2          27      Mannheim                                    Englisch   \n",
       "3          29     Neuhausen                                     Deutsch   \n",
       "4          20     Stuttgart                                     Deutsch   \n",
       "\n",
       "  Welche Plattform bevorzugst Du für die Kommunikation mit anderen?  \\\n",
       "0                                            Discord                  \n",
       "1                                           PS Party                  \n",
       "2                                            Discord                  \n",
       "3                                           PS Party                  \n",
       "4                                           PS Party                  \n",
       "\n",
       "         Deine Top 3 Games (1/3)        Deine Top 3 Games (2/3)  \\\n",
       "0  Grand Theft Auto (GTA) Online             Call of Duty (COD)   \n",
       "1             Call of Duty (COD)  Grand Theft Auto (GTA) Online   \n",
       "2  Grand Theft Auto (GTA) Online                       Fortnite   \n",
       "3             Call of Duty (COD)  Grand Theft Auto (GTA) Online   \n",
       "4  Grand Theft Auto (GTA) Online             Call of Duty (COD)   \n",
       "\n",
       "  Deine Top 3 Games (3/3)  \\\n",
       "0                Fortnite   \n",
       "1                    FIFA   \n",
       "2           Andere Spiele   \n",
       "3           Andere Spiele   \n",
       "4           Rocket league   \n",
       "\n",
       "  Wie lange spielst Du in einer Woche (im Durchschnitt)?  \\\n",
       "0                             Weniger als 10 Stunden       \n",
       "1                                    10 - 15 Stunden       \n",
       "2                             Weniger als 10 Stunden       \n",
       "3                             Weniger als 10 Stunden       \n",
       "4                             Weniger als 10 Stunden       \n",
       "\n",
       "   Wie schätz Du dich beim zocken ein? Deine Freizeitaktivitäten sind.. (1/3)  \\\n",
       "0                                    6                              Verreisen   \n",
       "1                                    5                  mit Freunden ausgehen   \n",
       "2                                    5                        Netflix schauen   \n",
       "3                                    2                              Verreisen   \n",
       "4                                    8                         Animes schauen   \n",
       "\n",
       "  Deine Freizeitaktivitäten sind.. (2/3)  \\\n",
       "0                         Essen (Foodie)   \n",
       "1                         Animes schauen   \n",
       "2                         Essen (Foodie)   \n",
       "3                         Essen (Foodie)   \n",
       "4                                  Sport   \n",
       "\n",
       "  Deine Freizeitaktivitäten sind.. (3/3)  \n",
       "0                  mit Freunden ausgehen  \n",
       "1                                  Sport  \n",
       "2                  mit Freunden ausgehen  \n",
       "3                  mit Freunden ausgehen  \n",
       "4                         Essen (Foodie)  "
      ]
     },
     "execution_count": 11,
     "metadata": {},
     "output_type": "execute_result"
    }
   ],
   "source": [
    "# drop 'Zeitstempel' (english: Timestamp)\n",
    "df.drop('Zeitstempel', axis=1, inplace=True)\n",
    "df.head()"
   ]
  },
  {
   "cell_type": "markdown",
   "metadata": {},
   "source": [
    "### Fourth step: Translating into English"
   ]
  },
  {
   "cell_type": "markdown",
   "metadata": {},
   "source": [
    "Thereby, the values of the columns will be translated"
   ]
  },
  {
   "cell_type": "markdown",
   "metadata": {},
   "source": [
    "#### Translating the language the user prefers to speak"
   ]
  },
  {
   "cell_type": "markdown",
   "metadata": {},
   "source": [
    "First checking which values are available:"
   ]
  },
  {
   "cell_type": "code",
   "execution_count": 12,
   "metadata": {},
   "outputs": [
    {
     "data": {
      "text/plain": [
       "<AxesSubplot:>"
      ]
     },
     "execution_count": 12,
     "metadata": {},
     "output_type": "execute_result"
    },
    {
     "data": {
      "image/png": "[encoded data removed]",
      "text/plain": [
       "<Figure size 432x288 with 1 Axes>"
      ]
     },
     "metadata": {
      "needs_background": "light"
     },
     "output_type": "display_data"
    }
   ],
   "source": [
    "# plot the languages \n",
    "df['Die Sprachen, die Du bevorzugst zu sprechen'].value_counts().head(10).plot.bar()"
   ]
  },
  {
   "cell_type": "markdown",
   "metadata": {},
   "source": [
    "Afterwards translating the languages"
   ]
  },
  {
   "cell_type": "code",
   "execution_count": 13,
   "metadata": {},
   "outputs": [],
   "source": [
    "df.loc[df['Die Sprachen, die Du bevorzugst zu sprechen'].str.contains('De'), 'Die Sprachen, die Du bevorzugst zu sprechen'] = 'German'\n",
    "df.loc[df['Die Sprachen, die Du bevorzugst zu sprechen'].str.contains('En'), 'Die Sprachen, die Du bevorzugst zu sprechen'] = 'English'"
   ]
  },
  {
   "cell_type": "markdown",
   "metadata": {},
   "source": [
    "#### Translating the communication platform"
   ]
  },
  {
   "cell_type": "markdown",
   "metadata": {},
   "source": [
    "First checking which values exist"
   ]
  },
  {
   "cell_type": "code",
   "execution_count": 14,
   "metadata": {},
   "outputs": [
    {
     "data": {
      "text/plain": [
       "<AxesSubplot:>"
      ]
     },
     "execution_count": 14,
     "metadata": {},
     "output_type": "execute_result"
    },
    {
     "data": {
      "image/png": "[encoded data removed]",
      "text/plain": [
       "<Figure size 432x288 with 1 Axes>"
      ]
     },
     "metadata": {
      "needs_background": "light"
     },
     "output_type": "display_data"
    }
   ],
   "source": [
    "# plot the languages \n",
    "df['Welche Plattform bevorzugst Du für die Kommunikation mit anderen?'].value_counts().head(10).plot.bar()"
   ]
  },
  {
   "cell_type": "markdown",
   "metadata": {},
   "source": [
    "Afterwards translating:"
   ]
  },
  {
   "cell_type": "code",
   "execution_count": 15,
   "metadata": {},
   "outputs": [],
   "source": [
    "df.loc[df['Welche Plattform bevorzugst Du für die Kommunikation mit anderen?'].str.contains('Andere Plattformen'), 'Welche Plattform bevorzugst Du für die Kommunikation mit anderen?'] = 'Other Platforms'"
   ]
  },
  {
   "cell_type": "markdown",
   "metadata": {},
   "source": [
    "#### Translating the games"
   ]
  },
  {
   "cell_type": "markdown",
   "metadata": {},
   "source": [
    "In this case also the values are analyzed"
   ]
  },
  {
   "cell_type": "code",
   "execution_count": 16,
   "metadata": {},
   "outputs": [
    {
     "data": {
      "text/plain": [
       "<AxesSubplot:>"
      ]
     },
     "execution_count": 16,
     "metadata": {},
     "output_type": "execute_result"
    },
    {
     "data": {
      "image/png": "[encoded data removed]",
      "text/plain": [
       "<Figure size 432x288 with 1 Axes>"
      ]
     },
     "metadata": {
      "needs_background": "light"
     },
     "output_type": "display_data"
    }
   ],
   "source": [
    "# plot the games (1/3)\n",
    "df['Deine Top 3 Games (1/3)'].value_counts().head(10).plot.bar()"
   ]
  },
  {
   "cell_type": "code",
   "execution_count": 17,
   "metadata": {},
   "outputs": [
    {
     "data": {
      "text/plain": [
       "<AxesSubplot:>"
      ]
     },
     "execution_count": 17,
     "metadata": {},
     "output_type": "execute_result"
    },
    {
     "data": {
      "image/png": "[encoded data removed]",
      "text/plain": [
       "<Figure size 432x288 with 1 Axes>"
      ]
     },
     "metadata": {
      "needs_background": "light"
     },
     "output_type": "display_data"
    }
   ],
   "source": [
    "# plot the games (2/3)\n",
    "df['Deine Top 3 Games (2/3)'].value_counts().head(10).plot.bar()"
   ]
  },
  {
   "cell_type": "code",
   "execution_count": 18,
   "metadata": {},
   "outputs": [
    {
     "data": {
      "text/plain": [
       "<AxesSubplot:>"
      ]
     },
     "execution_count": 18,
     "metadata": {},
     "output_type": "execute_result"
    },
    {
     "data": {
      "image/png": "[encoded data removed]",
      "text/plain": [
       "<Figure size 432x288 with 1 Axes>"
      ]
     },
     "metadata": {
      "needs_background": "light"
     },
     "output_type": "display_data"
    }
   ],
   "source": [
    "# plot the games (3/3)\n",
    "df['Deine Top 3 Games (3/3)'].value_counts().head(10).plot.bar()"
   ]
  },
  {
   "cell_type": "markdown",
   "metadata": {},
   "source": [
    "Thereby, are two values which have to be translated. It \"Andere Spiele\" which means \"other games\". And \"Keine weiteren Spiele\" which means \"No additional games\""
   ]
  },
  {
   "cell_type": "code",
   "execution_count": 19,
   "metadata": {},
   "outputs": [],
   "source": [
    "#converting \"Andere Spiele\" into \"Other Games\"\n",
    "df.loc[df['Deine Top 3 Games (1/3)'].str.contains('Andere Spiele'), 'Deine Top 3 Games (1/3)'] = 'Other Games'\n",
    "df.loc[df['Deine Top 3 Games (2/3)'].str.contains('Andere Spiele'), 'Deine Top 3 Games (2/3)'] = 'Other Games'\n",
    "df.loc[df['Deine Top 3 Games (3/3)'].str.contains('Andere Spiele'), 'Deine Top 3 Games (3/3)'] = 'Other Games'"
   ]
  },
  {
   "cell_type": "code",
   "execution_count": 20,
   "metadata": {},
   "outputs": [],
   "source": [
    "#converting \"Keine weiteren Spiele\" into \"No other games\"\n",
    "\n",
    "df.loc[df['Deine Top 3 Games (2/3)'].str.contains('Keine weiteren Spiele'), 'Deine Top 3 Games (2/3)'] = 'No additional games'\n",
    "df.loc[df['Deine Top 3 Games (3/3)'].str.contains('Keine weiteren Spiele'), 'Deine Top 3 Games (3/3)'] = 'No additional games'"
   ]
  },
  {
   "cell_type": "markdown",
   "metadata": {},
   "source": [
    "#### Translating how long the gamer plays in a week (in average)"
   ]
  },
  {
   "cell_type": "markdown",
   "metadata": {},
   "source": [
    "Also in this case, the values are first analyzed"
   ]
  },
  {
   "cell_type": "code",
   "execution_count": 21,
   "metadata": {
    "scrolled": true
   },
   "outputs": [
    {
     "data": {
      "text/plain": [
       "<AxesSubplot:>"
      ]
     },
     "execution_count": 21,
     "metadata": {},
     "output_type": "execute_result"
    },
    {
     "data": {
      "image/png": "[encoded data removed]",
      "text/plain": [
       "<Figure size 432x288 with 1 Axes>"
      ]
     },
     "metadata": {
      "needs_background": "light"
     },
     "output_type": "display_data"
    }
   ],
   "source": [
    "# plot the values \n",
    "df['Wie lange spielst Du in einer Woche (im Durchschnitt)?'].value_counts().head(10).plot.bar()"
   ]
  },
  {
   "cell_type": "markdown",
   "metadata": {},
   "source": [
    "And afterwards translated:"
   ]
  },
  {
   "cell_type": "code",
   "execution_count": 22,
   "metadata": {},
   "outputs": [],
   "source": [
    "#Translating the values in English\n",
    "df.loc[df['Wie lange spielst Du in einer Woche (im Durchschnitt)?'].str.contains('Weniger als 10 Stunden'), 'Wie lange spielst Du in einer Woche (im Durchschnitt)?'] = 'Less than 10 hours'\n",
    "df.loc[df['Wie lange spielst Du in einer Woche (im Durchschnitt)?'].str.contains('10 - 15 Stunden'), 'Wie lange spielst Du in einer Woche (im Durchschnitt)?'] = '10 - 15 hours'\n",
    "df.loc[df['Wie lange spielst Du in einer Woche (im Durchschnitt)?'].str.contains('16 - 20 Stunden'), 'Wie lange spielst Du in einer Woche (im Durchschnitt)?'] = '16 - 20 hours'\n",
    "df.loc[df['Wie lange spielst Du in einer Woche (im Durchschnitt)?'].str.contains('21 - 25 Stunden'), 'Wie lange spielst Du in einer Woche (im Durchschnitt)?'] = '21 - 25 hours'\n",
    "df.loc[df['Wie lange spielst Du in einer Woche (im Durchschnitt)?'].str.contains('Mehr als 26 Stunden'), 'Wie lange spielst Du in einer Woche (im Durchschnitt)?'] = 'More than 26 hours'\n"
   ]
  },
  {
   "cell_type": "markdown",
   "metadata": {},
   "source": [
    "#### Translating the hobbies"
   ]
  },
  {
   "cell_type": "markdown",
   "metadata": {},
   "source": [
    "Finally the hobbies are translated"
   ]
  },
  {
   "cell_type": "markdown",
   "metadata": {},
   "source": [
    "##### Hobbies (1/3)"
   ]
  },
  {
   "cell_type": "code",
   "execution_count": 23,
   "metadata": {},
   "outputs": [
    {
     "data": {
      "text/plain": [
       "<AxesSubplot:>"
      ]
     },
     "execution_count": 23,
     "metadata": {},
     "output_type": "execute_result"
    },
    {
     "data": {
      "image/png": "[encoded data removed]",
      "text/plain": [
       "<Figure size 432x288 with 1 Axes>"
      ]
     },
     "metadata": {
      "needs_background": "light"
     },
     "output_type": "display_data"
    }
   ],
   "source": [
    "# plot the languages \n",
    "df['Deine Freizeitaktivitäten sind.. (1/3)'].value_counts().head(10).plot.bar()"
   ]
  },
  {
   "cell_type": "code",
   "execution_count": 24,
   "metadata": {},
   "outputs": [],
   "source": [
    "df.loc[df['Deine Freizeitaktivitäten sind.. (1/3)'].str.contains('Animes schauen'), 'Deine Freizeitaktivitäten sind.. (1/3)'] = 'Watching Animes'\n",
    "df.loc[df['Deine Freizeitaktivitäten sind.. (1/3)'].str.contains('Verreisen'), 'Deine Freizeitaktivitäten sind.. (1/3)'] = 'Travelling'\n",
    "df.loc[df['Deine Freizeitaktivitäten sind.. (1/3)'].str.contains('Netflix'), 'Deine Freizeitaktivitäten sind.. (1/3)'] = 'Watching Netflix'\n",
    "df.loc[df['Deine Freizeitaktivitäten sind.. (1/3)'].str.contains('Freunden'), 'Deine Freizeitaktivitäten sind.. (1/3)'] = 'Going out with Friends'\n",
    "df.loc[df['Deine Freizeitaktivitäten sind.. (1/3)'].str.contains('Musik'), 'Deine Freizeitaktivitäten sind.. (1/3)'] = 'Music'\n",
    "df.loc[df['Deine Freizeitaktivitäten sind.. (1/3)'].str.contains('Kinos'), 'Deine Freizeitaktivitäten sind.. (1/3)'] = 'Going to the cinemas'\n",
    "df.loc[df['Deine Freizeitaktivitäten sind.. (1/3)'].str.contains('Essen'), 'Deine Freizeitaktivitäten sind.. (1/3)'] = 'Foodie'\n",
    "df.loc[df['Deine Freizeitaktivitäten sind.. (1/3)'].str.contains('Keine'), 'Deine Freizeitaktivitäten sind.. (1/3)'] = 'Nothing at all'\n",
    "df.loc[df['Deine Freizeitaktivitäten sind.. (1/3)'].str.contains('Andere'), 'Deine Freizeitaktivitäten sind.. (1/3)'] = 'Others'\n",
    "df.loc[df['Deine Freizeitaktivitäten sind.. (1/3)'].str.contains('Lesen'), 'Deine Freizeitaktivitäten sind.. (1/3)'] = 'Reading'"
   ]
  },
  {
   "cell_type": "markdown",
   "metadata": {},
   "source": [
    "##### Hobbies (2/3)"
   ]
  },
  {
   "cell_type": "code",
   "execution_count": 25,
   "metadata": {},
   "outputs": [],
   "source": [
    "df.loc[df['Deine Freizeitaktivitäten sind.. (2/3)'].str.contains('Animes schauen'), 'Deine Freizeitaktivitäten sind.. (2/3)'] = 'Watching Animes'\n",
    "df.loc[df['Deine Freizeitaktivitäten sind.. (2/3)'].str.contains('Verreisen'), 'Deine Freizeitaktivitäten sind.. (2/3)'] = 'Travelling'\n",
    "df.loc[df['Deine Freizeitaktivitäten sind.. (2/3)'].str.contains('Netflix'), 'Deine Freizeitaktivitäten sind.. (2/3)'] = 'Watching Netflix'\n",
    "df.loc[df['Deine Freizeitaktivitäten sind.. (2/3)'].str.contains('Freunden'), 'Deine Freizeitaktivitäten sind.. (2/3)'] = 'Going out with Friends'\n",
    "df.loc[df['Deine Freizeitaktivitäten sind.. (2/3)'].str.contains('Musik'), 'Deine Freizeitaktivitäten sind.. (2/3)'] = 'Music'\n",
    "df.loc[df['Deine Freizeitaktivitäten sind.. (2/3)'].str.contains('Kinos'), 'Deine Freizeitaktivitäten sind.. (2/3)'] = 'Going to the cinemas'\n",
    "df.loc[df['Deine Freizeitaktivitäten sind.. (2/3)'].str.contains('Essen'), 'Deine Freizeitaktivitäten sind.. (2/3)'] = 'Foodie'\n",
    "df.loc[df['Deine Freizeitaktivitäten sind.. (2/3)'].str.contains('Keine'), 'Deine Freizeitaktivitäten sind.. (2/3)'] = 'Nothing at all'\n",
    "df.loc[df['Deine Freizeitaktivitäten sind.. (2/3)'].str.contains('Andere'), 'Deine Freizeitaktivitäten sind.. (2/3)'] = 'Others'\n",
    "df.loc[df['Deine Freizeitaktivitäten sind.. (2/3)'].str.contains('Lesen'), 'Deine Freizeitaktivitäten sind.. (2/3)'] = 'Reading'"
   ]
  },
  {
   "cell_type": "markdown",
   "metadata": {},
   "source": [
    "##### Hobbies (3/3)"
   ]
  },
  {
   "cell_type": "code",
   "execution_count": 26,
   "metadata": {},
   "outputs": [],
   "source": [
    "df.loc[df['Deine Freizeitaktivitäten sind.. (3/3)'].str.contains('Animes schauen'), 'Deine Freizeitaktivitäten sind.. (3/3)'] = 'Watching Animes'\n",
    "df.loc[df['Deine Freizeitaktivitäten sind.. (3/3)'].str.contains('Verreisen'), 'Deine Freizeitaktivitäten sind.. (3/3)'] = 'Travelling'\n",
    "df.loc[df['Deine Freizeitaktivitäten sind.. (3/3)'].str.contains('Netflix'), 'Deine Freizeitaktivitäten sind.. (3/3)'] = 'Watching Netflix'\n",
    "df.loc[df['Deine Freizeitaktivitäten sind.. (3/3)'].str.contains('Freunden'), 'Deine Freizeitaktivitäten sind.. (3/3)'] = 'Going out with Friends'\n",
    "df.loc[df['Deine Freizeitaktivitäten sind.. (3/3)'].str.contains('Musik'), 'Deine Freizeitaktivitäten sind.. (3/3)'] = 'Music'\n",
    "df.loc[df['Deine Freizeitaktivitäten sind.. (3/3)'].str.contains('Lesen'), 'Deine Freizeitaktivitäten sind.. (3/3)'] = 'Reading'\n",
    "df.loc[df['Deine Freizeitaktivitäten sind.. (3/3)'].str.contains('Kinos'), 'Deine Freizeitaktivitäten sind.. (3/3)'] = 'Going to the cinemas'\n",
    "df.loc[df['Deine Freizeitaktivitäten sind.. (3/3)'].str.contains('Essen'), 'Deine Freizeitaktivitäten sind.. (3/3)'] = 'Foodie'\n",
    "df.loc[df['Deine Freizeitaktivitäten sind.. (3/3)'].str.contains('Keine'), 'Deine Freizeitaktivitäten sind.. (3/3)'] = 'Nothing at all'\n",
    "df.loc[df['Deine Freizeitaktivitäten sind.. (3/3)'].str.contains('Andere'), 'Deine Freizeitaktivitäten sind.. (3/3)'] = 'Others'"
   ]
  },
  {
   "cell_type": "markdown",
   "metadata": {},
   "source": [
    "#### Translating the head of the columns"
   ]
  },
  {
   "cell_type": "code",
   "execution_count": 27,
   "metadata": {},
   "outputs": [],
   "source": [
    "df.columns = [\"Your Age\", \"Your Location\", \"Languages you prefer to speak\", \"Platform to communicate\", \"Top 3 Games (1/3)\", \"Top 3 Games (2/3)\", \"Top 3 Games (3/3)\", \"How long do you play\", \"Your Gaming Performance\", \"Hobbies (1/3)\", \"Hobbies (2/3)\", \"Hobbies (3/3)\"]"
   ]
  },
  {
   "cell_type": "markdown",
   "metadata": {},
   "source": [
    "Ét voila: the whole dataframe is translated"
   ]
  },
  {
   "cell_type": "code",
   "execution_count": 28,
   "metadata": {},
   "outputs": [
    {
     "data": {
      "text/html": [
       "<div>\n",
       "<style scoped>\n",
       "    .dataframe tbody tr th:only-of-type {\n",
       "        vertical-align: middle;\n",
       "    }\n",
       "\n",
       "    .dataframe tbody tr th {\n",
       "        vertical-align: top;\n",
       "    }\n",
       "\n",
       "    .dataframe thead th {\n",
       "        text-align: right;\n",
       "    }\n",
       "</style>\n",
       "<table border=\"1\" class=\"dataframe\">\n",
       "  <thead>\n",
       "    <tr style=\"text-align: right;\">\n",
       "      <th></th>\n",
       "      <th>Your Age</th>\n",
       "      <th>Your Location</th>\n",
       "      <th>Languages you prefer to speak</th>\n",
       "      <th>Platform to communicate</th>\n",
       "      <th>Top 3 Games (1/3)</th>\n",
       "      <th>Top 3 Games (2/3)</th>\n",
       "      <th>Top 3 Games (3/3)</th>\n",
       "      <th>How long do you play</th>\n",
       "      <th>Your Gaming Performance</th>\n",
       "      <th>Hobbies (1/3)</th>\n",
       "      <th>Hobbies (2/3)</th>\n",
       "      <th>Hobbies (3/3)</th>\n",
       "    </tr>\n",
       "  </thead>\n",
       "  <tbody>\n",
       "    <tr>\n",
       "      <th>0</th>\n",
       "      <td>23</td>\n",
       "      <td>Mannheim</td>\n",
       "      <td>German</td>\n",
       "      <td>Discord</td>\n",
       "      <td>Grand Theft Auto (GTA) Online</td>\n",
       "      <td>Call of Duty (COD)</td>\n",
       "      <td>Fortnite</td>\n",
       "      <td>Less than 10 hours</td>\n",
       "      <td>6</td>\n",
       "      <td>Travelling</td>\n",
       "      <td>Foodie</td>\n",
       "      <td>Going out with Friends</td>\n",
       "    </tr>\n",
       "    <tr>\n",
       "      <th>1</th>\n",
       "      <td>24</td>\n",
       "      <td>Stuttgart</td>\n",
       "      <td>German</td>\n",
       "      <td>PS Party</td>\n",
       "      <td>Call of Duty (COD)</td>\n",
       "      <td>Grand Theft Auto (GTA) Online</td>\n",
       "      <td>FIFA</td>\n",
       "      <td>10 - 15 hours</td>\n",
       "      <td>5</td>\n",
       "      <td>Going out with Friends</td>\n",
       "      <td>Watching Animes</td>\n",
       "      <td>Sport</td>\n",
       "    </tr>\n",
       "    <tr>\n",
       "      <th>2</th>\n",
       "      <td>27</td>\n",
       "      <td>Mannheim</td>\n",
       "      <td>English</td>\n",
       "      <td>Discord</td>\n",
       "      <td>Grand Theft Auto (GTA) Online</td>\n",
       "      <td>Fortnite</td>\n",
       "      <td>Other Games</td>\n",
       "      <td>Less than 10 hours</td>\n",
       "      <td>5</td>\n",
       "      <td>Watching Netflix</td>\n",
       "      <td>Foodie</td>\n",
       "      <td>Going out with Friends</td>\n",
       "    </tr>\n",
       "    <tr>\n",
       "      <th>3</th>\n",
       "      <td>29</td>\n",
       "      <td>Neuhausen</td>\n",
       "      <td>German</td>\n",
       "      <td>PS Party</td>\n",
       "      <td>Call of Duty (COD)</td>\n",
       "      <td>Grand Theft Auto (GTA) Online</td>\n",
       "      <td>Other Games</td>\n",
       "      <td>Less than 10 hours</td>\n",
       "      <td>2</td>\n",
       "      <td>Travelling</td>\n",
       "      <td>Foodie</td>\n",
       "      <td>Going out with Friends</td>\n",
       "    </tr>\n",
       "    <tr>\n",
       "      <th>4</th>\n",
       "      <td>20</td>\n",
       "      <td>Stuttgart</td>\n",
       "      <td>German</td>\n",
       "      <td>PS Party</td>\n",
       "      <td>Grand Theft Auto (GTA) Online</td>\n",
       "      <td>Call of Duty (COD)</td>\n",
       "      <td>Rocket league</td>\n",
       "      <td>Less than 10 hours</td>\n",
       "      <td>8</td>\n",
       "      <td>Watching Animes</td>\n",
       "      <td>Sport</td>\n",
       "      <td>Foodie</td>\n",
       "    </tr>\n",
       "  </tbody>\n",
       "</table>\n",
       "</div>"
      ],
      "text/plain": [
       "   Your Age Your Location Languages you prefer to speak  \\\n",
       "0        23      Mannheim                        German   \n",
       "1        24     Stuttgart                        German   \n",
       "2        27      Mannheim                       English   \n",
       "3        29     Neuhausen                        German   \n",
       "4        20     Stuttgart                        German   \n",
       "\n",
       "  Platform to communicate              Top 3 Games (1/3)  \\\n",
       "0                 Discord  Grand Theft Auto (GTA) Online   \n",
       "1                PS Party             Call of Duty (COD)   \n",
       "2                 Discord  Grand Theft Auto (GTA) Online   \n",
       "3                PS Party             Call of Duty (COD)   \n",
       "4                PS Party  Grand Theft Auto (GTA) Online   \n",
       "\n",
       "               Top 3 Games (2/3) Top 3 Games (3/3) How long do you play  \\\n",
       "0             Call of Duty (COD)          Fortnite   Less than 10 hours   \n",
       "1  Grand Theft Auto (GTA) Online              FIFA        10 - 15 hours   \n",
       "2                       Fortnite       Other Games   Less than 10 hours   \n",
       "3  Grand Theft Auto (GTA) Online       Other Games   Less than 10 hours   \n",
       "4             Call of Duty (COD)     Rocket league   Less than 10 hours   \n",
       "\n",
       "   Your Gaming Performance           Hobbies (1/3)    Hobbies (2/3)  \\\n",
       "0                        6              Travelling           Foodie   \n",
       "1                        5  Going out with Friends  Watching Animes   \n",
       "2                        5        Watching Netflix           Foodie   \n",
       "3                        2              Travelling           Foodie   \n",
       "4                        8         Watching Animes            Sport   \n",
       "\n",
       "            Hobbies (3/3)  \n",
       "0  Going out with Friends  \n",
       "1                   Sport  \n",
       "2  Going out with Friends  \n",
       "3  Going out with Friends  \n",
       "4                  Foodie  "
      ]
     },
     "execution_count": 28,
     "metadata": {},
     "output_type": "execute_result"
    }
   ],
   "source": [
    "df.head()"
   ]
  },
  {
   "cell_type": "markdown",
   "metadata": {},
   "source": [
    "Saving the csv file to apply the algorithm K-Means clustering in a seperate notebook"
   ]
  },
  {
   "cell_type": "code",
   "execution_count": 29,
   "metadata": {},
   "outputs": [],
   "source": [
    "# this is the first dataset obtained from the 3 surveys and prepared for being merged with its mentor chilean pair.\n",
    "df.to_csv('MatchingGamers_Finale.csv')"
   ]
  }
 ],
 "metadata": {
  "colab": {
   "name": "Matching_Gamer_Clustering.ipynb",
   "provenance": []
  },
  "kernelspec": {
   "display_name": "Python 3",
   "language": "python",
   "name": "python3"
  },
  "language_info": {
   "codemirror_mode": {
    "name": "ipython",
    "version": 3
   },
   "file_extension": ".py",
   "mimetype": "text/x-python",
   "name": "python",
   "nbconvert_exporter": "python",
   "pygments_lexer": "ipython3",
   "version": "3.8.5"
  }
 },
 "nbformat": 4,
 "nbformat_minor": 1
}
