{
 "cells": [
  {
   "cell_type": "code",
   "execution_count": 1,
   "metadata": {
    "id": "0dQA7XAVgk2D"
   },
   "outputs": [],
   "source": [
    "import pandas as pd #importing the library "
   ]
  },
  {
   "cell_type": "code",
   "execution_count": 2,
   "metadata": {
    "id": "MttsdW_FgnO-"
   },
   "outputs": [],
   "source": [
    "df = pd.read_csv(\"MatchingGamers2.csv\") #importing survey "
   ]
  },
  {
   "cell_type": "code",
   "execution_count": 3,
   "metadata": {
    "colab": {
     "base_uri": "https://localhost:8080/",
     "height": 629
    },
    "id": "fpE56yRBgx72",
    "outputId": "8d0420be-53cc-4ea2-cf28-1df0546bb1bd"
   },
   "outputs": [
    {
     "data": {
      "text/html": [
       "<div>\n",
       "<style scoped>\n",
       "    .dataframe tbody tr th:only-of-type {\n",
       "        vertical-align: middle;\n",
       "    }\n",
       "\n",
       "    .dataframe tbody tr th {\n",
       "        vertical-align: top;\n",
       "    }\n",
       "\n",
       "    .dataframe thead th {\n",
       "        text-align: right;\n",
       "    }\n",
       "</style>\n",
       "<table border=\"1\" class=\"dataframe\">\n",
       "  <thead>\n",
       "    <tr style=\"text-align: right;\">\n",
       "      <th></th>\n",
       "      <th>Zeitstempel</th>\n",
       "      <th>Dein Alter</th>\n",
       "      <th>Dein Geschlecht</th>\n",
       "      <th>Dein Wohnort</th>\n",
       "      <th>Die Sprachen, die Du bevorzugst zu sprechen</th>\n",
       "      <th>Welche Plattform bevorzugst Du für die Kommunikation mit anderen?</th>\n",
       "      <th>Deine Top 3 Games (1/3)</th>\n",
       "      <th>Deine Top 3 Games (2/3)</th>\n",
       "      <th>Deine Top 3 Games (3/3)</th>\n",
       "      <th>Wie lange spielst Du in einer Woche (im Durchschnitt)?</th>\n",
       "      <th>Wie schätz Du dich beim zocken ein?</th>\n",
       "      <th>Deine Freizeitaktivitäten (Ranking von Platz 1 (bester Platz) zu Platz 10 (schlechtester Platz)) [Dein Lieblingshobby]</th>\n",
       "      <th>Deine Freizeitaktivitäten (Ranking von Platz 1 (bester Platz) zu Platz 10 (schlechtester Platz)) [2ter Platz]</th>\n",
       "      <th>Deine Freizeitaktivitäten (Ranking von Platz 1 (bester Platz) zu Platz 10 (schlechtester Platz)) [3ter Platz]</th>\n",
       "      <th>Deine Freizeitaktivitäten (Ranking von Platz 1 (bester Platz) zu Platz 10 (schlechtester Platz)) [4ter Platz]</th>\n",
       "      <th>Deine Freizeitaktivitäten (Ranking von Platz 1 (bester Platz) zu Platz 10 (schlechtester Platz)) [5ter Platz]</th>\n",
       "      <th>Deine Freizeitaktivitäten (Ranking von Platz 1 (bester Platz) zu Platz 10 (schlechtester Platz)) [6ter Platz]</th>\n",
       "      <th>Deine Freizeitaktivitäten (Ranking von Platz 1 (bester Platz) zu Platz 10 (schlechtester Platz)) [7ter Platz]</th>\n",
       "      <th>Deine Freizeitaktivitäten (Ranking von Platz 1 (bester Platz) zu Platz 10 (schlechtester Platz)) [8ter Platz]</th>\n",
       "      <th>Deine Freizeitaktivitäten (Ranking von Platz 1 (bester Platz) zu Platz 10 (schlechtester Platz)) [Letzter Platz]</th>\n",
       "    </tr>\n",
       "  </thead>\n",
       "  <tbody>\n",
       "    <tr>\n",
       "      <th>0</th>\n",
       "      <td>2021/10/08 1:19:33 PM MEZ</td>\n",
       "      <td>19</td>\n",
       "      <td>Weiblich</td>\n",
       "      <td>Baden-Wuerttemberg</td>\n",
       "      <td>Deutsch</td>\n",
       "      <td>Andere Plattformen</td>\n",
       "      <td>Call of Duty (COD)</td>\n",
       "      <td>Tekken</td>\n",
       "      <td>FIFA</td>\n",
       "      <td>Weniger als 10 Stunden</td>\n",
       "      <td>8</td>\n",
       "      <td>weitere Serien/Filme schauen</td>\n",
       "      <td>mit Freunden ausgehen</td>\n",
       "      <td>Verreisen</td>\n",
       "      <td>Essen (Foodie)</td>\n",
       "      <td>Musik</td>\n",
       "      <td>Backen/Kochen</td>\n",
       "      <td>Sport</td>\n",
       "      <td>Lesen</td>\n",
       "      <td>Animes schauen</td>\n",
       "    </tr>\n",
       "    <tr>\n",
       "      <th>1</th>\n",
       "      <td>2021/10/08 1:22:14 PM MEZ</td>\n",
       "      <td>24</td>\n",
       "      <td>Weiblich</td>\n",
       "      <td>Baden-Wuerttemberg</td>\n",
       "      <td>Deutsch</td>\n",
       "      <td>Andere Plattformen</td>\n",
       "      <td>FIFA</td>\n",
       "      <td>Tekken</td>\n",
       "      <td>Andere Spiele</td>\n",
       "      <td>Weniger als 10 Stunden</td>\n",
       "      <td>2</td>\n",
       "      <td>mit Freunden ausgehen</td>\n",
       "      <td>weitere Serien/Filme schauen</td>\n",
       "      <td>Musik</td>\n",
       "      <td>Lesen</td>\n",
       "      <td>Backen/Kochen</td>\n",
       "      <td>Essen (Foodie)</td>\n",
       "      <td>Verreisen</td>\n",
       "      <td>Sport</td>\n",
       "      <td>Animes schauen</td>\n",
       "    </tr>\n",
       "    <tr>\n",
       "      <th>2</th>\n",
       "      <td>2021/10/08 1:24:59 PM MEZ</td>\n",
       "      <td>19</td>\n",
       "      <td>Möchte ich nicht sagen</td>\n",
       "      <td>Baden-Wuerttemberg</td>\n",
       "      <td>Deutsch</td>\n",
       "      <td>Andere Plattformen</td>\n",
       "      <td>Tekken</td>\n",
       "      <td>FIFA</td>\n",
       "      <td>Call of Duty (COD)</td>\n",
       "      <td>Weniger als 10 Stunden</td>\n",
       "      <td>4</td>\n",
       "      <td>mit Freunden ausgehen</td>\n",
       "      <td>Essen (Foodie)</td>\n",
       "      <td>Backen/Kochen</td>\n",
       "      <td>weitere Serien/Filme schauen</td>\n",
       "      <td>Lesen</td>\n",
       "      <td>Musik</td>\n",
       "      <td>Verreisen</td>\n",
       "      <td>Sport</td>\n",
       "      <td>Animes schauen</td>\n",
       "    </tr>\n",
       "    <tr>\n",
       "      <th>3</th>\n",
       "      <td>2021/10/08 2:41:12 PM MEZ</td>\n",
       "      <td>29</td>\n",
       "      <td>Weiblich</td>\n",
       "      <td>Baden-Wuerttemberg</td>\n",
       "      <td>Deutsch</td>\n",
       "      <td>PS Party</td>\n",
       "      <td>Grand Theft Auto (GTA) Online</td>\n",
       "      <td>Call of Duty (COD)</td>\n",
       "      <td>Keine weiteren Spiele</td>\n",
       "      <td>Weniger als 10 Stunden</td>\n",
       "      <td>2</td>\n",
       "      <td>Essen (Foodie)</td>\n",
       "      <td>Verreisen</td>\n",
       "      <td>weitere Serien/Filme schauen</td>\n",
       "      <td>Sport</td>\n",
       "      <td>Animes schauen</td>\n",
       "      <td>mit Freunden ausgehen</td>\n",
       "      <td>Musik</td>\n",
       "      <td>Lesen</td>\n",
       "      <td>Backen/Kochen</td>\n",
       "    </tr>\n",
       "    <tr>\n",
       "      <th>4</th>\n",
       "      <td>2021/10/08 2:56:03 PM MEZ</td>\n",
       "      <td>26</td>\n",
       "      <td>Männlich</td>\n",
       "      <td>Baden-Wuerttemberg</td>\n",
       "      <td>Deutsch</td>\n",
       "      <td>PS Party</td>\n",
       "      <td>FIFA</td>\n",
       "      <td>Call of Duty (COD)</td>\n",
       "      <td>Tekken</td>\n",
       "      <td>Weniger als 10 Stunden</td>\n",
       "      <td>8</td>\n",
       "      <td>mit Freunden ausgehen</td>\n",
       "      <td>Sport</td>\n",
       "      <td>weitere Serien/Filme schauen</td>\n",
       "      <td>Lesen</td>\n",
       "      <td>Verreisen</td>\n",
       "      <td>Musik</td>\n",
       "      <td>Essen (Foodie)</td>\n",
       "      <td>Backen/Kochen</td>\n",
       "      <td>Animes schauen</td>\n",
       "    </tr>\n",
       "  </tbody>\n",
       "</table>\n",
       "</div>"
      ],
      "text/plain": [
       "                 Zeitstempel  Dein Alter         Dein Geschlecht  \\\n",
       "0  2021/10/08 1:19:33 PM MEZ          19                Weiblich   \n",
       "1  2021/10/08 1:22:14 PM MEZ          24                Weiblich   \n",
       "2  2021/10/08 1:24:59 PM MEZ          19  Möchte ich nicht sagen   \n",
       "3  2021/10/08 2:41:12 PM MEZ          29                Weiblich   \n",
       "4  2021/10/08 2:56:03 PM MEZ          26                Männlich   \n",
       "\n",
       "         Dein Wohnort Die Sprachen, die Du bevorzugst zu sprechen  \\\n",
       "0  Baden-Wuerttemberg                                     Deutsch   \n",
       "1  Baden-Wuerttemberg                                     Deutsch   \n",
       "2  Baden-Wuerttemberg                                     Deutsch   \n",
       "3  Baden-Wuerttemberg                                     Deutsch   \n",
       "4  Baden-Wuerttemberg                                     Deutsch   \n",
       "\n",
       "  Welche Plattform bevorzugst Du für die Kommunikation mit anderen?  \\\n",
       "0                                 Andere Plattformen                  \n",
       "1                                 Andere Plattformen                  \n",
       "2                                 Andere Plattformen                  \n",
       "3                                           PS Party                  \n",
       "4                                           PS Party                  \n",
       "\n",
       "         Deine Top 3 Games (1/3) Deine Top 3 Games (2/3)  \\\n",
       "0             Call of Duty (COD)                  Tekken   \n",
       "1                           FIFA                  Tekken   \n",
       "2                         Tekken                    FIFA   \n",
       "3  Grand Theft Auto (GTA) Online      Call of Duty (COD)   \n",
       "4                           FIFA      Call of Duty (COD)   \n",
       "\n",
       "  Deine Top 3 Games (3/3)  \\\n",
       "0                    FIFA   \n",
       "1           Andere Spiele   \n",
       "2      Call of Duty (COD)   \n",
       "3   Keine weiteren Spiele   \n",
       "4                  Tekken   \n",
       "\n",
       "  Wie lange spielst Du in einer Woche (im Durchschnitt)?  \\\n",
       "0                             Weniger als 10 Stunden       \n",
       "1                             Weniger als 10 Stunden       \n",
       "2                             Weniger als 10 Stunden       \n",
       "3                             Weniger als 10 Stunden       \n",
       "4                             Weniger als 10 Stunden       \n",
       "\n",
       "   Wie schätz Du dich beim zocken ein?  \\\n",
       "0                                    8   \n",
       "1                                    2   \n",
       "2                                    4   \n",
       "3                                    2   \n",
       "4                                    8   \n",
       "\n",
       "  Deine Freizeitaktivitäten (Ranking von Platz 1 (bester Platz) zu Platz 10 (schlechtester Platz)) [Dein Lieblingshobby]  \\\n",
       "0                       weitere Serien/Filme schauen                                                                       \n",
       "1                              mit Freunden ausgehen                                                                       \n",
       "2                              mit Freunden ausgehen                                                                       \n",
       "3                                     Essen (Foodie)                                                                       \n",
       "4                              mit Freunden ausgehen                                                                       \n",
       "\n",
       "  Deine Freizeitaktivitäten (Ranking von Platz 1 (bester Platz) zu Platz 10 (schlechtester Platz)) [2ter Platz]  \\\n",
       "0                              mit Freunden ausgehen                                                              \n",
       "1                       weitere Serien/Filme schauen                                                              \n",
       "2                                     Essen (Foodie)                                                              \n",
       "3                                          Verreisen                                                              \n",
       "4                                              Sport                                                              \n",
       "\n",
       "  Deine Freizeitaktivitäten (Ranking von Platz 1 (bester Platz) zu Platz 10 (schlechtester Platz)) [3ter Platz]  \\\n",
       "0                                          Verreisen                                                              \n",
       "1                                              Musik                                                              \n",
       "2                                      Backen/Kochen                                                              \n",
       "3                       weitere Serien/Filme schauen                                                              \n",
       "4                       weitere Serien/Filme schauen                                                              \n",
       "\n",
       "  Deine Freizeitaktivitäten (Ranking von Platz 1 (bester Platz) zu Platz 10 (schlechtester Platz)) [4ter Platz]  \\\n",
       "0                                     Essen (Foodie)                                                              \n",
       "1                                              Lesen                                                              \n",
       "2                       weitere Serien/Filme schauen                                                              \n",
       "3                                              Sport                                                              \n",
       "4                                              Lesen                                                              \n",
       "\n",
       "  Deine Freizeitaktivitäten (Ranking von Platz 1 (bester Platz) zu Platz 10 (schlechtester Platz)) [5ter Platz]  \\\n",
       "0                                              Musik                                                              \n",
       "1                                      Backen/Kochen                                                              \n",
       "2                                              Lesen                                                              \n",
       "3                                     Animes schauen                                                              \n",
       "4                                          Verreisen                                                              \n",
       "\n",
       "  Deine Freizeitaktivitäten (Ranking von Platz 1 (bester Platz) zu Platz 10 (schlechtester Platz)) [6ter Platz]  \\\n",
       "0                                      Backen/Kochen                                                              \n",
       "1                                     Essen (Foodie)                                                              \n",
       "2                                              Musik                                                              \n",
       "3                              mit Freunden ausgehen                                                              \n",
       "4                                              Musik                                                              \n",
       "\n",
       "  Deine Freizeitaktivitäten (Ranking von Platz 1 (bester Platz) zu Platz 10 (schlechtester Platz)) [7ter Platz]  \\\n",
       "0                                              Sport                                                              \n",
       "1                                          Verreisen                                                              \n",
       "2                                          Verreisen                                                              \n",
       "3                                              Musik                                                              \n",
       "4                                     Essen (Foodie)                                                              \n",
       "\n",
       "  Deine Freizeitaktivitäten (Ranking von Platz 1 (bester Platz) zu Platz 10 (schlechtester Platz)) [8ter Platz]  \\\n",
       "0                                              Lesen                                                              \n",
       "1                                              Sport                                                              \n",
       "2                                              Sport                                                              \n",
       "3                                              Lesen                                                              \n",
       "4                                      Backen/Kochen                                                              \n",
       "\n",
       "  Deine Freizeitaktivitäten (Ranking von Platz 1 (bester Platz) zu Platz 10 (schlechtester Platz)) [Letzter Platz]  \n",
       "0                                     Animes schauen                                                                \n",
       "1                                     Animes schauen                                                                \n",
       "2                                     Animes schauen                                                                \n",
       "3                                      Backen/Kochen                                                                \n",
       "4                                     Animes schauen                                                                "
      ]
     },
     "execution_count": 3,
     "metadata": {},
     "output_type": "execute_result"
    }
   ],
   "source": [
    "df.head(5)"
   ]
  },
  {
   "cell_type": "markdown",
   "metadata": {
    "id": "AvGXzaUZpeGL"
   },
   "source": [
    "## Data Preprocessing"
   ]
  },
  {
   "cell_type": "code",
   "execution_count": 4,
   "metadata": {
    "colab": {
     "base_uri": "https://localhost:8080/"
    },
    "id": "v3L9eATLhlZ8",
    "outputId": "68417aba-299a-44c7-99bf-72d365fcc8a0"
   },
   "outputs": [
    {
     "name": "stdout",
     "output_type": "stream",
     "text": [
      "<class 'pandas.core.frame.DataFrame'>\n",
      "RangeIndex: 16 entries, 0 to 15\n",
      "Data columns (total 20 columns):\n",
      " #   Column                                                                                                                  Non-Null Count  Dtype \n",
      "---  ------                                                                                                                  --------------  ----- \n",
      " 0   Zeitstempel                                                                                                             16 non-null     object\n",
      " 1   Dein Alter                                                                                                              16 non-null     int64 \n",
      " 2   Dein Geschlecht                                                                                                         16 non-null     object\n",
      " 3   Dein Wohnort                                                                                                            16 non-null     object\n",
      " 4   Die Sprachen, die Du bevorzugst zu sprechen                                                                             16 non-null     object\n",
      " 5   Welche Plattform bevorzugst Du für die Kommunikation mit anderen?                                                       16 non-null     object\n",
      " 6   Deine Top 3 Games (1/3)                                                                                                 16 non-null     object\n",
      " 7   Deine Top 3 Games (2/3)                                                                                                 16 non-null     object\n",
      " 8   Deine Top 3 Games (3/3)                                                                                                 16 non-null     object\n",
      " 9   Wie lange spielst Du in einer Woche (im Durchschnitt)?                                                                  16 non-null     object\n",
      " 10  Wie schätz Du dich beim zocken ein?                                                                                     16 non-null     int64 \n",
      " 11  Deine Freizeitaktivitäten (Ranking von Platz 1 (bester Platz) zu Platz 10 (schlechtester Platz)) [Dein Lieblingshobby]  16 non-null     object\n",
      " 12  Deine Freizeitaktivitäten (Ranking von Platz 1 (bester Platz) zu Platz 10 (schlechtester Platz)) [2ter Platz]           16 non-null     object\n",
      " 13  Deine Freizeitaktivitäten (Ranking von Platz 1 (bester Platz) zu Platz 10 (schlechtester Platz)) [3ter Platz]           16 non-null     object\n",
      " 14  Deine Freizeitaktivitäten (Ranking von Platz 1 (bester Platz) zu Platz 10 (schlechtester Platz)) [4ter Platz]           16 non-null     object\n",
      " 15  Deine Freizeitaktivitäten (Ranking von Platz 1 (bester Platz) zu Platz 10 (schlechtester Platz)) [5ter Platz]           16 non-null     object\n",
      " 16  Deine Freizeitaktivitäten (Ranking von Platz 1 (bester Platz) zu Platz 10 (schlechtester Platz)) [6ter Platz]           16 non-null     object\n",
      " 17  Deine Freizeitaktivitäten (Ranking von Platz 1 (bester Platz) zu Platz 10 (schlechtester Platz)) [7ter Platz]           16 non-null     object\n",
      " 18  Deine Freizeitaktivitäten (Ranking von Platz 1 (bester Platz) zu Platz 10 (schlechtester Platz)) [8ter Platz]           16 non-null     object\n",
      " 19  Deine Freizeitaktivitäten (Ranking von Platz 1 (bester Platz) zu Platz 10 (schlechtester Platz)) [Letzter Platz]        16 non-null     object\n",
      "dtypes: int64(2), object(18)\n",
      "memory usage: 2.6+ KB\n"
     ]
    }
   ],
   "source": [
    "# check datatypes because we need data with same type\n",
    "df.info()"
   ]
  },
  {
   "cell_type": "markdown",
   "metadata": {},
   "source": [
    "### First step: check the age range"
   ]
  },
  {
   "cell_type": "markdown",
   "metadata": {},
   "source": [
    "The first step is to check the values. Since the target group is adressed to gamers in the age range of 18 - 35, gamers which are younger than 18 and older than 36 cannot be included and will be removed."
   ]
  },
  {
   "cell_type": "code",
   "execution_count": 5,
   "metadata": {},
   "outputs": [
    {
     "data": {
      "text/plain": [
       "<AxesSubplot:>"
      ]
     },
     "execution_count": 5,
     "metadata": {},
     "output_type": "execute_result"
    },
    {
     "data": {
      "image/png": "[encoded data removed]",
      "text/plain": [
       "<Figure size 432x288 with 1 Axes>"
      ]
     },
     "metadata": {
      "needs_background": "light"
     },
     "output_type": "display_data"
    }
   ],
   "source": [
    "df['Dein Alter'].value_counts().head(10).plot.bar()"
   ]
  },
  {
   "cell_type": "code",
   "execution_count": 6,
   "metadata": {
    "colab": {
     "base_uri": "https://localhost:8080/",
     "height": 297
    },
    "id": "j9zumn7Zh_EF",
    "outputId": "aaaf9d1f-a13b-44a6-e122-b29b34c1f567"
   },
   "outputs": [
    {
     "data": {
      "text/html": [
       "<div>\n",
       "<style scoped>\n",
       "    .dataframe tbody tr th:only-of-type {\n",
       "        vertical-align: middle;\n",
       "    }\n",
       "\n",
       "    .dataframe tbody tr th {\n",
       "        vertical-align: top;\n",
       "    }\n",
       "\n",
       "    .dataframe thead th {\n",
       "        text-align: right;\n",
       "    }\n",
       "</style>\n",
       "<table border=\"1\" class=\"dataframe\">\n",
       "  <thead>\n",
       "    <tr style=\"text-align: right;\">\n",
       "      <th></th>\n",
       "      <th>Dein Alter</th>\n",
       "      <th>Wie schätz Du dich beim zocken ein?</th>\n",
       "    </tr>\n",
       "  </thead>\n",
       "  <tbody>\n",
       "    <tr>\n",
       "      <th>count</th>\n",
       "      <td>16.000000</td>\n",
       "      <td>16.000000</td>\n",
       "    </tr>\n",
       "    <tr>\n",
       "      <th>mean</th>\n",
       "      <td>23.875000</td>\n",
       "      <td>6.187500</td>\n",
       "    </tr>\n",
       "    <tr>\n",
       "      <th>std</th>\n",
       "      <td>2.986079</td>\n",
       "      <td>2.482438</td>\n",
       "    </tr>\n",
       "    <tr>\n",
       "      <th>min</th>\n",
       "      <td>19.000000</td>\n",
       "      <td>2.000000</td>\n",
       "    </tr>\n",
       "    <tr>\n",
       "      <th>25%</th>\n",
       "      <td>22.750000</td>\n",
       "      <td>4.750000</td>\n",
       "    </tr>\n",
       "    <tr>\n",
       "      <th>50%</th>\n",
       "      <td>24.000000</td>\n",
       "      <td>7.500000</td>\n",
       "    </tr>\n",
       "    <tr>\n",
       "      <th>75%</th>\n",
       "      <td>26.000000</td>\n",
       "      <td>8.000000</td>\n",
       "    </tr>\n",
       "    <tr>\n",
       "      <th>max</th>\n",
       "      <td>29.000000</td>\n",
       "      <td>10.000000</td>\n",
       "    </tr>\n",
       "  </tbody>\n",
       "</table>\n",
       "</div>"
      ],
      "text/plain": [
       "       Dein Alter  Wie schätz Du dich beim zocken ein?\n",
       "count   16.000000                            16.000000\n",
       "mean    23.875000                             6.187500\n",
       "std      2.986079                             2.482438\n",
       "min     19.000000                             2.000000\n",
       "25%     22.750000                             4.750000\n",
       "50%     24.000000                             7.500000\n",
       "75%     26.000000                             8.000000\n",
       "max     29.000000                            10.000000"
      ]
     },
     "execution_count": 6,
     "metadata": {},
     "output_type": "execute_result"
    }
   ],
   "source": [
    "# check the mean, minimum and maximum value of numerical features\n",
    "df.describe()"
   ]
  },
  {
   "cell_type": "markdown",
   "metadata": {},
   "source": [
    "### Second step: drop null cells"
   ]
  },
  {
   "cell_type": "markdown",
   "metadata": {},
   "source": [
    "The second step is to drop null cells. Therefore first it will be analyzed whether there are null cells and if so, they will be excluded."
   ]
  },
  {
   "cell_type": "code",
   "execution_count": 7,
   "metadata": {
    "colab": {
     "base_uri": "https://localhost:8080/"
    },
    "id": "K9eZf65Jic6F",
    "outputId": "bac96ff8-624e-42a1-a985-a955e165227b"
   },
   "outputs": [
    {
     "data": {
      "text/plain": [
       "Zeitstempel                                                                                                               False\n",
       "Dein Alter                                                                                                                False\n",
       "Dein Geschlecht                                                                                                           False\n",
       "Dein Wohnort                                                                                                              False\n",
       "Die Sprachen, die Du bevorzugst zu sprechen                                                                               False\n",
       "Welche Plattform bevorzugst Du für die Kommunikation mit anderen?                                                         False\n",
       "Deine Top 3 Games (1/3)                                                                                                   False\n",
       "Deine Top 3 Games (2/3)                                                                                                   False\n",
       "Deine Top 3 Games (3/3)                                                                                                   False\n",
       "Wie lange spielst Du in einer Woche (im Durchschnitt)?                                                                    False\n",
       "Wie schätz Du dich beim zocken ein?                                                                                       False\n",
       "Deine Freizeitaktivitäten (Ranking von Platz 1 (bester Platz) zu Platz 10 (schlechtester Platz)) [Dein Lieblingshobby]    False\n",
       "Deine Freizeitaktivitäten (Ranking von Platz 1 (bester Platz) zu Platz 10 (schlechtester Platz)) [2ter Platz]             False\n",
       "Deine Freizeitaktivitäten (Ranking von Platz 1 (bester Platz) zu Platz 10 (schlechtester Platz)) [3ter Platz]             False\n",
       "Deine Freizeitaktivitäten (Ranking von Platz 1 (bester Platz) zu Platz 10 (schlechtester Platz)) [4ter Platz]             False\n",
       "Deine Freizeitaktivitäten (Ranking von Platz 1 (bester Platz) zu Platz 10 (schlechtester Platz)) [5ter Platz]             False\n",
       "Deine Freizeitaktivitäten (Ranking von Platz 1 (bester Platz) zu Platz 10 (schlechtester Platz)) [6ter Platz]             False\n",
       "Deine Freizeitaktivitäten (Ranking von Platz 1 (bester Platz) zu Platz 10 (schlechtester Platz)) [7ter Platz]             False\n",
       "Deine Freizeitaktivitäten (Ranking von Platz 1 (bester Platz) zu Platz 10 (schlechtester Platz)) [8ter Platz]             False\n",
       "Deine Freizeitaktivitäten (Ranking von Platz 1 (bester Platz) zu Platz 10 (schlechtester Platz)) [Letzter Platz]          False\n",
       "dtype: bool"
      ]
     },
     "execution_count": 7,
     "metadata": {},
     "output_type": "execute_result"
    }
   ],
   "source": [
    "# check \"?\" Question mark in dataset\n",
    "df.isin(['?']).any()"
   ]
  },
  {
   "cell_type": "code",
   "execution_count": 8,
   "metadata": {
    "colab": {
     "base_uri": "https://localhost:8080/"
    },
    "id": "6ncjYbvMigT1",
    "outputId": "24d651af-da5d-4ae6-a8a7-5aadf1974f1f"
   },
   "outputs": [
    {
     "data": {
      "text/plain": [
       "Zeitstempel                                                                                                               False\n",
       "Dein Alter                                                                                                                False\n",
       "Dein Geschlecht                                                                                                           False\n",
       "Dein Wohnort                                                                                                              False\n",
       "Die Sprachen, die Du bevorzugst zu sprechen                                                                               False\n",
       "Welche Plattform bevorzugst Du für die Kommunikation mit anderen?                                                         False\n",
       "Deine Top 3 Games (1/3)                                                                                                   False\n",
       "Deine Top 3 Games (2/3)                                                                                                   False\n",
       "Deine Top 3 Games (3/3)                                                                                                   False\n",
       "Wie lange spielst Du in einer Woche (im Durchschnitt)?                                                                    False\n",
       "Wie schätz Du dich beim zocken ein?                                                                                       False\n",
       "Deine Freizeitaktivitäten (Ranking von Platz 1 (bester Platz) zu Platz 10 (schlechtester Platz)) [Dein Lieblingshobby]    False\n",
       "Deine Freizeitaktivitäten (Ranking von Platz 1 (bester Platz) zu Platz 10 (schlechtester Platz)) [2ter Platz]             False\n",
       "Deine Freizeitaktivitäten (Ranking von Platz 1 (bester Platz) zu Platz 10 (schlechtester Platz)) [3ter Platz]             False\n",
       "Deine Freizeitaktivitäten (Ranking von Platz 1 (bester Platz) zu Platz 10 (schlechtester Platz)) [4ter Platz]             False\n",
       "Deine Freizeitaktivitäten (Ranking von Platz 1 (bester Platz) zu Platz 10 (schlechtester Platz)) [5ter Platz]             False\n",
       "Deine Freizeitaktivitäten (Ranking von Platz 1 (bester Platz) zu Platz 10 (schlechtester Platz)) [6ter Platz]             False\n",
       "Deine Freizeitaktivitäten (Ranking von Platz 1 (bester Platz) zu Platz 10 (schlechtester Platz)) [7ter Platz]             False\n",
       "Deine Freizeitaktivitäten (Ranking von Platz 1 (bester Platz) zu Platz 10 (schlechtester Platz)) [8ter Platz]             False\n",
       "Deine Freizeitaktivitäten (Ranking von Platz 1 (bester Platz) zu Platz 10 (schlechtester Platz)) [Letzter Platz]          False\n",
       "dtype: bool"
      ]
     },
     "execution_count": 8,
     "metadata": {},
     "output_type": "execute_result"
    }
   ],
   "source": [
    "# Check null values in dataset\n",
    "df.isin(['nan']).any()"
   ]
  },
  {
   "cell_type": "code",
   "execution_count": 9,
   "metadata": {},
   "outputs": [
    {
     "data": {
      "text/plain": [
       "Zeitstempel                                                                                                               0\n",
       "Dein Alter                                                                                                                0\n",
       "Dein Geschlecht                                                                                                           0\n",
       "Dein Wohnort                                                                                                              0\n",
       "Die Sprachen, die Du bevorzugst zu sprechen                                                                               0\n",
       "Welche Plattform bevorzugst Du für die Kommunikation mit anderen?                                                         0\n",
       "Deine Top 3 Games (1/3)                                                                                                   0\n",
       "Deine Top 3 Games (2/3)                                                                                                   0\n",
       "Deine Top 3 Games (3/3)                                                                                                   0\n",
       "Wie lange spielst Du in einer Woche (im Durchschnitt)?                                                                    0\n",
       "Wie schätz Du dich beim zocken ein?                                                                                       0\n",
       "Deine Freizeitaktivitäten (Ranking von Platz 1 (bester Platz) zu Platz 10 (schlechtester Platz)) [Dein Lieblingshobby]    0\n",
       "Deine Freizeitaktivitäten (Ranking von Platz 1 (bester Platz) zu Platz 10 (schlechtester Platz)) [2ter Platz]             0\n",
       "Deine Freizeitaktivitäten (Ranking von Platz 1 (bester Platz) zu Platz 10 (schlechtester Platz)) [3ter Platz]             0\n",
       "Deine Freizeitaktivitäten (Ranking von Platz 1 (bester Platz) zu Platz 10 (schlechtester Platz)) [4ter Platz]             0\n",
       "Deine Freizeitaktivitäten (Ranking von Platz 1 (bester Platz) zu Platz 10 (schlechtester Platz)) [5ter Platz]             0\n",
       "Deine Freizeitaktivitäten (Ranking von Platz 1 (bester Platz) zu Platz 10 (schlechtester Platz)) [6ter Platz]             0\n",
       "Deine Freizeitaktivitäten (Ranking von Platz 1 (bester Platz) zu Platz 10 (schlechtester Platz)) [7ter Platz]             0\n",
       "Deine Freizeitaktivitäten (Ranking von Platz 1 (bester Platz) zu Platz 10 (schlechtester Platz)) [8ter Platz]             0\n",
       "Deine Freizeitaktivitäten (Ranking von Platz 1 (bester Platz) zu Platz 10 (schlechtester Platz)) [Letzter Platz]          0\n",
       "dtype: int64"
      ]
     },
     "execution_count": 9,
     "metadata": {},
     "output_type": "execute_result"
    }
   ],
   "source": [
    "# checking the null values\n",
    "df.isnull().sum()"
   ]
  },
  {
   "cell_type": "markdown",
   "metadata": {},
   "source": [
    "No null cell identified "
   ]
  },
  {
   "cell_type": "markdown",
   "metadata": {},
   "source": [
    "### Third Step: Deleting \"Zeitstempel\" (Timestamp)"
   ]
  },
  {
   "cell_type": "markdown",
   "metadata": {},
   "source": [
    "GoogleForms collected the timestamp when users answered the survey. This information is not necessary for this research thats why this column will be deleted."
   ]
  },
  {
   "cell_type": "code",
   "execution_count": 10,
   "metadata": {
    "colab": {
     "base_uri": "https://localhost:8080/",
     "height": 578
    },
    "id": "IC1pllqliB5l",
    "outputId": "df266287-5833-4d48-e0e4-8bc61f3593d1"
   },
   "outputs": [
    {
     "data": {
      "text/html": [
       "<div>\n",
       "<style scoped>\n",
       "    .dataframe tbody tr th:only-of-type {\n",
       "        vertical-align: middle;\n",
       "    }\n",
       "\n",
       "    .dataframe tbody tr th {\n",
       "        vertical-align: top;\n",
       "    }\n",
       "\n",
       "    .dataframe thead th {\n",
       "        text-align: right;\n",
       "    }\n",
       "</style>\n",
       "<table border=\"1\" class=\"dataframe\">\n",
       "  <thead>\n",
       "    <tr style=\"text-align: right;\">\n",
       "      <th></th>\n",
       "      <th>Dein Alter</th>\n",
       "      <th>Dein Geschlecht</th>\n",
       "      <th>Dein Wohnort</th>\n",
       "      <th>Die Sprachen, die Du bevorzugst zu sprechen</th>\n",
       "      <th>Welche Plattform bevorzugst Du für die Kommunikation mit anderen?</th>\n",
       "      <th>Deine Top 3 Games (1/3)</th>\n",
       "      <th>Deine Top 3 Games (2/3)</th>\n",
       "      <th>Deine Top 3 Games (3/3)</th>\n",
       "      <th>Wie lange spielst Du in einer Woche (im Durchschnitt)?</th>\n",
       "      <th>Wie schätz Du dich beim zocken ein?</th>\n",
       "      <th>Deine Freizeitaktivitäten (Ranking von Platz 1 (bester Platz) zu Platz 10 (schlechtester Platz)) [Dein Lieblingshobby]</th>\n",
       "      <th>Deine Freizeitaktivitäten (Ranking von Platz 1 (bester Platz) zu Platz 10 (schlechtester Platz)) [2ter Platz]</th>\n",
       "      <th>Deine Freizeitaktivitäten (Ranking von Platz 1 (bester Platz) zu Platz 10 (schlechtester Platz)) [3ter Platz]</th>\n",
       "      <th>Deine Freizeitaktivitäten (Ranking von Platz 1 (bester Platz) zu Platz 10 (schlechtester Platz)) [4ter Platz]</th>\n",
       "      <th>Deine Freizeitaktivitäten (Ranking von Platz 1 (bester Platz) zu Platz 10 (schlechtester Platz)) [5ter Platz]</th>\n",
       "      <th>Deine Freizeitaktivitäten (Ranking von Platz 1 (bester Platz) zu Platz 10 (schlechtester Platz)) [6ter Platz]</th>\n",
       "      <th>Deine Freizeitaktivitäten (Ranking von Platz 1 (bester Platz) zu Platz 10 (schlechtester Platz)) [7ter Platz]</th>\n",
       "      <th>Deine Freizeitaktivitäten (Ranking von Platz 1 (bester Platz) zu Platz 10 (schlechtester Platz)) [8ter Platz]</th>\n",
       "      <th>Deine Freizeitaktivitäten (Ranking von Platz 1 (bester Platz) zu Platz 10 (schlechtester Platz)) [Letzter Platz]</th>\n",
       "    </tr>\n",
       "  </thead>\n",
       "  <tbody>\n",
       "    <tr>\n",
       "      <th>0</th>\n",
       "      <td>19</td>\n",
       "      <td>Weiblich</td>\n",
       "      <td>Baden-Wuerttemberg</td>\n",
       "      <td>Deutsch</td>\n",
       "      <td>Andere Plattformen</td>\n",
       "      <td>Call of Duty (COD)</td>\n",
       "      <td>Tekken</td>\n",
       "      <td>FIFA</td>\n",
       "      <td>Weniger als 10 Stunden</td>\n",
       "      <td>8</td>\n",
       "      <td>weitere Serien/Filme schauen</td>\n",
       "      <td>mit Freunden ausgehen</td>\n",
       "      <td>Verreisen</td>\n",
       "      <td>Essen (Foodie)</td>\n",
       "      <td>Musik</td>\n",
       "      <td>Backen/Kochen</td>\n",
       "      <td>Sport</td>\n",
       "      <td>Lesen</td>\n",
       "      <td>Animes schauen</td>\n",
       "    </tr>\n",
       "    <tr>\n",
       "      <th>1</th>\n",
       "      <td>24</td>\n",
       "      <td>Weiblich</td>\n",
       "      <td>Baden-Wuerttemberg</td>\n",
       "      <td>Deutsch</td>\n",
       "      <td>Andere Plattformen</td>\n",
       "      <td>FIFA</td>\n",
       "      <td>Tekken</td>\n",
       "      <td>Andere Spiele</td>\n",
       "      <td>Weniger als 10 Stunden</td>\n",
       "      <td>2</td>\n",
       "      <td>mit Freunden ausgehen</td>\n",
       "      <td>weitere Serien/Filme schauen</td>\n",
       "      <td>Musik</td>\n",
       "      <td>Lesen</td>\n",
       "      <td>Backen/Kochen</td>\n",
       "      <td>Essen (Foodie)</td>\n",
       "      <td>Verreisen</td>\n",
       "      <td>Sport</td>\n",
       "      <td>Animes schauen</td>\n",
       "    </tr>\n",
       "    <tr>\n",
       "      <th>2</th>\n",
       "      <td>19</td>\n",
       "      <td>Möchte ich nicht sagen</td>\n",
       "      <td>Baden-Wuerttemberg</td>\n",
       "      <td>Deutsch</td>\n",
       "      <td>Andere Plattformen</td>\n",
       "      <td>Tekken</td>\n",
       "      <td>FIFA</td>\n",
       "      <td>Call of Duty (COD)</td>\n",
       "      <td>Weniger als 10 Stunden</td>\n",
       "      <td>4</td>\n",
       "      <td>mit Freunden ausgehen</td>\n",
       "      <td>Essen (Foodie)</td>\n",
       "      <td>Backen/Kochen</td>\n",
       "      <td>weitere Serien/Filme schauen</td>\n",
       "      <td>Lesen</td>\n",
       "      <td>Musik</td>\n",
       "      <td>Verreisen</td>\n",
       "      <td>Sport</td>\n",
       "      <td>Animes schauen</td>\n",
       "    </tr>\n",
       "    <tr>\n",
       "      <th>3</th>\n",
       "      <td>29</td>\n",
       "      <td>Weiblich</td>\n",
       "      <td>Baden-Wuerttemberg</td>\n",
       "      <td>Deutsch</td>\n",
       "      <td>PS Party</td>\n",
       "      <td>Grand Theft Auto (GTA) Online</td>\n",
       "      <td>Call of Duty (COD)</td>\n",
       "      <td>Keine weiteren Spiele</td>\n",
       "      <td>Weniger als 10 Stunden</td>\n",
       "      <td>2</td>\n",
       "      <td>Essen (Foodie)</td>\n",
       "      <td>Verreisen</td>\n",
       "      <td>weitere Serien/Filme schauen</td>\n",
       "      <td>Sport</td>\n",
       "      <td>Animes schauen</td>\n",
       "      <td>mit Freunden ausgehen</td>\n",
       "      <td>Musik</td>\n",
       "      <td>Lesen</td>\n",
       "      <td>Backen/Kochen</td>\n",
       "    </tr>\n",
       "    <tr>\n",
       "      <th>4</th>\n",
       "      <td>26</td>\n",
       "      <td>Männlich</td>\n",
       "      <td>Baden-Wuerttemberg</td>\n",
       "      <td>Deutsch</td>\n",
       "      <td>PS Party</td>\n",
       "      <td>FIFA</td>\n",
       "      <td>Call of Duty (COD)</td>\n",
       "      <td>Tekken</td>\n",
       "      <td>Weniger als 10 Stunden</td>\n",
       "      <td>8</td>\n",
       "      <td>mit Freunden ausgehen</td>\n",
       "      <td>Sport</td>\n",
       "      <td>weitere Serien/Filme schauen</td>\n",
       "      <td>Lesen</td>\n",
       "      <td>Verreisen</td>\n",
       "      <td>Musik</td>\n",
       "      <td>Essen (Foodie)</td>\n",
       "      <td>Backen/Kochen</td>\n",
       "      <td>Animes schauen</td>\n",
       "    </tr>\n",
       "  </tbody>\n",
       "</table>\n",
       "</div>"
      ],
      "text/plain": [
       "   Dein Alter         Dein Geschlecht        Dein Wohnort  \\\n",
       "0          19                Weiblich  Baden-Wuerttemberg   \n",
       "1          24                Weiblich  Baden-Wuerttemberg   \n",
       "2          19  Möchte ich nicht sagen  Baden-Wuerttemberg   \n",
       "3          29                Weiblich  Baden-Wuerttemberg   \n",
       "4          26                Männlich  Baden-Wuerttemberg   \n",
       "\n",
       "  Die Sprachen, die Du bevorzugst zu sprechen  \\\n",
       "0                                     Deutsch   \n",
       "1                                     Deutsch   \n",
       "2                                     Deutsch   \n",
       "3                                     Deutsch   \n",
       "4                                     Deutsch   \n",
       "\n",
       "  Welche Plattform bevorzugst Du für die Kommunikation mit anderen?  \\\n",
       "0                                 Andere Plattformen                  \n",
       "1                                 Andere Plattformen                  \n",
       "2                                 Andere Plattformen                  \n",
       "3                                           PS Party                  \n",
       "4                                           PS Party                  \n",
       "\n",
       "         Deine Top 3 Games (1/3) Deine Top 3 Games (2/3)  \\\n",
       "0             Call of Duty (COD)                  Tekken   \n",
       "1                           FIFA                  Tekken   \n",
       "2                         Tekken                    FIFA   \n",
       "3  Grand Theft Auto (GTA) Online      Call of Duty (COD)   \n",
       "4                           FIFA      Call of Duty (COD)   \n",
       "\n",
       "  Deine Top 3 Games (3/3)  \\\n",
       "0                    FIFA   \n",
       "1           Andere Spiele   \n",
       "2      Call of Duty (COD)   \n",
       "3   Keine weiteren Spiele   \n",
       "4                  Tekken   \n",
       "\n",
       "  Wie lange spielst Du in einer Woche (im Durchschnitt)?  \\\n",
       "0                             Weniger als 10 Stunden       \n",
       "1                             Weniger als 10 Stunden       \n",
       "2                             Weniger als 10 Stunden       \n",
       "3                             Weniger als 10 Stunden       \n",
       "4                             Weniger als 10 Stunden       \n",
       "\n",
       "   Wie schätz Du dich beim zocken ein?  \\\n",
       "0                                    8   \n",
       "1                                    2   \n",
       "2                                    4   \n",
       "3                                    2   \n",
       "4                                    8   \n",
       "\n",
       "  Deine Freizeitaktivitäten (Ranking von Platz 1 (bester Platz) zu Platz 10 (schlechtester Platz)) [Dein Lieblingshobby]  \\\n",
       "0                       weitere Serien/Filme schauen                                                                       \n",
       "1                              mit Freunden ausgehen                                                                       \n",
       "2                              mit Freunden ausgehen                                                                       \n",
       "3                                     Essen (Foodie)                                                                       \n",
       "4                              mit Freunden ausgehen                                                                       \n",
       "\n",
       "  Deine Freizeitaktivitäten (Ranking von Platz 1 (bester Platz) zu Platz 10 (schlechtester Platz)) [2ter Platz]  \\\n",
       "0                              mit Freunden ausgehen                                                              \n",
       "1                       weitere Serien/Filme schauen                                                              \n",
       "2                                     Essen (Foodie)                                                              \n",
       "3                                          Verreisen                                                              \n",
       "4                                              Sport                                                              \n",
       "\n",
       "  Deine Freizeitaktivitäten (Ranking von Platz 1 (bester Platz) zu Platz 10 (schlechtester Platz)) [3ter Platz]  \\\n",
       "0                                          Verreisen                                                              \n",
       "1                                              Musik                                                              \n",
       "2                                      Backen/Kochen                                                              \n",
       "3                       weitere Serien/Filme schauen                                                              \n",
       "4                       weitere Serien/Filme schauen                                                              \n",
       "\n",
       "  Deine Freizeitaktivitäten (Ranking von Platz 1 (bester Platz) zu Platz 10 (schlechtester Platz)) [4ter Platz]  \\\n",
       "0                                     Essen (Foodie)                                                              \n",
       "1                                              Lesen                                                              \n",
       "2                       weitere Serien/Filme schauen                                                              \n",
       "3                                              Sport                                                              \n",
       "4                                              Lesen                                                              \n",
       "\n",
       "  Deine Freizeitaktivitäten (Ranking von Platz 1 (bester Platz) zu Platz 10 (schlechtester Platz)) [5ter Platz]  \\\n",
       "0                                              Musik                                                              \n",
       "1                                      Backen/Kochen                                                              \n",
       "2                                              Lesen                                                              \n",
       "3                                     Animes schauen                                                              \n",
       "4                                          Verreisen                                                              \n",
       "\n",
       "  Deine Freizeitaktivitäten (Ranking von Platz 1 (bester Platz) zu Platz 10 (schlechtester Platz)) [6ter Platz]  \\\n",
       "0                                      Backen/Kochen                                                              \n",
       "1                                     Essen (Foodie)                                                              \n",
       "2                                              Musik                                                              \n",
       "3                              mit Freunden ausgehen                                                              \n",
       "4                                              Musik                                                              \n",
       "\n",
       "  Deine Freizeitaktivitäten (Ranking von Platz 1 (bester Platz) zu Platz 10 (schlechtester Platz)) [7ter Platz]  \\\n",
       "0                                              Sport                                                              \n",
       "1                                          Verreisen                                                              \n",
       "2                                          Verreisen                                                              \n",
       "3                                              Musik                                                              \n",
       "4                                     Essen (Foodie)                                                              \n",
       "\n",
       "  Deine Freizeitaktivitäten (Ranking von Platz 1 (bester Platz) zu Platz 10 (schlechtester Platz)) [8ter Platz]  \\\n",
       "0                                              Lesen                                                              \n",
       "1                                              Sport                                                              \n",
       "2                                              Sport                                                              \n",
       "3                                              Lesen                                                              \n",
       "4                                      Backen/Kochen                                                              \n",
       "\n",
       "  Deine Freizeitaktivitäten (Ranking von Platz 1 (bester Platz) zu Platz 10 (schlechtester Platz)) [Letzter Platz]  \n",
       "0                                     Animes schauen                                                                \n",
       "1                                     Animes schauen                                                                \n",
       "2                                     Animes schauen                                                                \n",
       "3                                      Backen/Kochen                                                                \n",
       "4                                     Animes schauen                                                                "
      ]
     },
     "execution_count": 10,
     "metadata": {},
     "output_type": "execute_result"
    }
   ],
   "source": [
    "# drop 'Zeitstempel' column because we don't need it to match the gamers\n",
    "df.drop('Zeitstempel', axis=1, inplace=True)\n",
    "df.head()"
   ]
  },
  {
   "cell_type": "markdown",
   "metadata": {},
   "source": [
    "### Fourth step: Translating into English"
   ]
  },
  {
   "cell_type": "markdown",
   "metadata": {},
   "source": [
    "Thereby, the values of the columns will be translated"
   ]
  },
  {
   "cell_type": "markdown",
   "metadata": {},
   "source": [
    "#### Translating the language the user prefers to speak"
   ]
  },
  {
   "cell_type": "markdown",
   "metadata": {},
   "source": [
    "First checking which values are available:"
   ]
  },
  {
   "cell_type": "code",
   "execution_count": 11,
   "metadata": {},
   "outputs": [
    {
     "data": {
      "text/plain": [
       "<AxesSubplot:>"
      ]
     },
     "execution_count": 11,
     "metadata": {},
     "output_type": "execute_result"
    },
    {
     "data": {
      "image/png": "[encoded data removed]",
      "text/plain": [
       "<Figure size 432x288 with 1 Axes>"
      ]
     },
     "metadata": {
      "needs_background": "light"
     },
     "output_type": "display_data"
    }
   ],
   "source": [
    "# plot the gender\n",
    "df['Dein Geschlecht'].value_counts().head(10).plot.bar()"
   ]
  },
  {
   "cell_type": "markdown",
   "metadata": {},
   "source": [
    "Afterwards translating the languages"
   ]
  },
  {
   "cell_type": "code",
   "execution_count": 12,
   "metadata": {},
   "outputs": [],
   "source": [
    "df.loc[df['Dein Geschlecht'].str.contains('Weiblich'), 'Dein Geschlecht'] = 'Female'\n",
    "df.loc[df['Dein Geschlecht'].str.contains('Männlich'), 'Dein Geschlecht'] = 'Male'\n",
    "df.loc[df['Dein Geschlecht'].str.contains('Möchte ich nicht sagen'), 'Dein Geschlecht'] = 'Prefer not to say'"
   ]
  },
  {
   "cell_type": "markdown",
   "metadata": {},
   "source": [
    "#### Translating the communication platform"
   ]
  },
  {
   "cell_type": "markdown",
   "metadata": {},
   "source": [
    "First checking which values exist"
   ]
  },
  {
   "cell_type": "code",
   "execution_count": 13,
   "metadata": {},
   "outputs": [
    {
     "data": {
      "text/plain": [
       "<AxesSubplot:>"
      ]
     },
     "execution_count": 13,
     "metadata": {},
     "output_type": "execute_result"
    },
    {
     "data": {
      "image/png": "[encoded data removed]",
      "text/plain": [
       "<Figure size 432x288 with 1 Axes>"
      ]
     },
     "metadata": {
      "needs_background": "light"
     },
     "output_type": "display_data"
    }
   ],
   "source": [
    "# plot the languages \n",
    "df['Die Sprachen, die Du bevorzugst zu sprechen'].value_counts().head(10).plot.bar()"
   ]
  },
  {
   "cell_type": "markdown",
   "metadata": {},
   "source": [
    "Afterwards translating:"
   ]
  },
  {
   "cell_type": "code",
   "execution_count": 14,
   "metadata": {},
   "outputs": [],
   "source": [
    "df.loc[df['Die Sprachen, die Du bevorzugst zu sprechen'].str.contains('De'), 'Die Sprachen, die Du bevorzugst zu sprechen'] = 'German'\n",
    "df.loc[df['Die Sprachen, die Du bevorzugst zu sprechen'].str.contains('En'), 'Die Sprachen, die Du bevorzugst zu sprechen'] = 'English'"
   ]
  },
  {
   "cell_type": "markdown",
   "metadata": {},
   "source": [
    "#### Translating the communication platform"
   ]
  },
  {
   "cell_type": "markdown",
   "metadata": {},
   "source": [
    "In this case also the values are analyzed"
   ]
  },
  {
   "cell_type": "code",
   "execution_count": 15,
   "metadata": {},
   "outputs": [
    {
     "data": {
      "text/plain": [
       "<AxesSubplot:>"
      ]
     },
     "execution_count": 15,
     "metadata": {},
     "output_type": "execute_result"
    },
    {
     "data": {
      "image/png": "[encoded data removed]",
      "text/plain": [
       "<Figure size 432x288 with 1 Axes>"
      ]
     },
     "metadata": {
      "needs_background": "light"
     },
     "output_type": "display_data"
    }
   ],
   "source": [
    "# plot the platforms\n",
    "df['Welche Plattform bevorzugst Du für die Kommunikation mit anderen?'].value_counts().head(10).plot.bar()"
   ]
  },
  {
   "cell_type": "markdown",
   "metadata": {},
   "source": [
    "Afterwards translating:"
   ]
  },
  {
   "cell_type": "code",
   "execution_count": 16,
   "metadata": {},
   "outputs": [],
   "source": [
    "df.loc[df['Welche Plattform bevorzugst Du für die Kommunikation mit anderen?'].str.contains('Andere Plattformen'), 'Welche Plattform bevorzugst Du für die Kommunikation mit anderen?'] = 'Other Platforms'"
   ]
  },
  {
   "cell_type": "markdown",
   "metadata": {},
   "source": [
    "#### Translating the games"
   ]
  },
  {
   "cell_type": "code",
   "execution_count": 17,
   "metadata": {},
   "outputs": [
    {
     "data": {
      "text/plain": [
       "<AxesSubplot:>"
      ]
     },
     "execution_count": 17,
     "metadata": {},
     "output_type": "execute_result"
    },
    {
     "data": {
      "image/png": "[encoded data removed]",
      "text/plain": [
       "<Figure size 432x288 with 1 Axes>"
      ]
     },
     "metadata": {
      "needs_background": "light"
     },
     "output_type": "display_data"
    }
   ],
   "source": [
    "# plot the top 3 games (1/3)\n",
    "df['Deine Top 3 Games (1/3)'].value_counts().head(10).plot.bar()"
   ]
  },
  {
   "cell_type": "markdown",
   "metadata": {},
   "source": [
    "In this case also the values are analyzed"
   ]
  },
  {
   "cell_type": "code",
   "execution_count": 18,
   "metadata": {},
   "outputs": [
    {
     "data": {
      "text/plain": [
       "<AxesSubplot:>"
      ]
     },
     "execution_count": 18,
     "metadata": {},
     "output_type": "execute_result"
    },
    {
     "data": {
      "image/png": "[encoded data removed]",
      "text/plain": [
       "<Figure size 432x288 with 1 Axes>"
      ]
     },
     "metadata": {
      "needs_background": "light"
     },
     "output_type": "display_data"
    }
   ],
   "source": [
    "# plot the top 3 games (2/3)\n",
    "df['Deine Top 3 Games (2/3)'].value_counts().head(10).plot.bar()"
   ]
  },
  {
   "cell_type": "code",
   "execution_count": 19,
   "metadata": {},
   "outputs": [
    {
     "data": {
      "text/plain": [
       "<AxesSubplot:>"
      ]
     },
     "execution_count": 19,
     "metadata": {},
     "output_type": "execute_result"
    },
    {
     "data": {
      "image/png": "[encoded data removed]",
      "text/plain": [
       "<Figure size 432x288 with 1 Axes>"
      ]
     },
     "metadata": {
      "needs_background": "light"
     },
     "output_type": "display_data"
    }
   ],
   "source": [
    "# plot the top 3 games (3/3)\n",
    "df['Deine Top 3 Games (3/3)'].value_counts().head(10).plot.bar()"
   ]
  },
  {
   "cell_type": "code",
   "execution_count": 20,
   "metadata": {},
   "outputs": [],
   "source": [
    "#converting \"Andere Spiele\" into \"Other Games\"\n",
    "df.loc[df['Deine Top 3 Games (1/3)'].str.contains('Andere Spiele'), 'Deine Top 3 Games (1/3)'] = 'Other Games'\n",
    "df.loc[df['Deine Top 3 Games (2/3)'].str.contains('Andere Spiele'), 'Deine Top 3 Games (2/3)'] = 'Other Games'\n",
    "df.loc[df['Deine Top 3 Games (3/3)'].str.contains('Andere Spiele'), 'Deine Top 3 Games (3/3)'] = 'Other Games'"
   ]
  },
  {
   "cell_type": "code",
   "execution_count": 21,
   "metadata": {},
   "outputs": [],
   "source": [
    "#converting \"Keine weiteren Spiele\" into \"No additional game\"\n",
    "df.loc[df['Deine Top 3 Games (2/3)'].str.contains('Keine weiteren Spiele'), 'Deine Top 3 Games (2/3)'] = 'No additional game'\n",
    "df.loc[df['Deine Top 3 Games (3/3)'].str.contains('Keine weiteren Spiele'), 'Deine Top 3 Games (3/3)'] = 'No additional game'"
   ]
  },
  {
   "cell_type": "markdown",
   "metadata": {},
   "source": [
    "#### Translating how long the gamer plays in a week (in average)"
   ]
  },
  {
   "cell_type": "markdown",
   "metadata": {},
   "source": [
    "Also in this case, the values are first analyzed"
   ]
  },
  {
   "cell_type": "code",
   "execution_count": 22,
   "metadata": {
    "scrolled": true
   },
   "outputs": [
    {
     "data": {
      "text/plain": [
       "<AxesSubplot:>"
      ]
     },
     "execution_count": 22,
     "metadata": {},
     "output_type": "execute_result"
    },
    {
     "data": {
      "image/png": "[encoded data removed]",
      "text/plain": [
       "<Figure size 432x288 with 1 Axes>"
      ]
     },
     "metadata": {
      "needs_background": "light"
     },
     "output_type": "display_data"
    }
   ],
   "source": [
    "# plot how long the gamers play\n",
    "df['Wie lange spielst Du in einer Woche (im Durchschnitt)?'].value_counts().head(10).plot.bar()"
   ]
  },
  {
   "cell_type": "markdown",
   "metadata": {},
   "source": [
    "And afterwards translated:"
   ]
  },
  {
   "cell_type": "code",
   "execution_count": 23,
   "metadata": {},
   "outputs": [],
   "source": [
    "df.loc[df['Wie lange spielst Du in einer Woche (im Durchschnitt)?'].str.contains('Weniger als 10 Stunden'), 'Wie lange spielst Du in einer Woche (im Durchschnitt)?'] = 'Less than 10 hours'\n",
    "df.loc[df['Wie lange spielst Du in einer Woche (im Durchschnitt)?'].str.contains('10 - 15 Stunden'), 'Wie lange spielst Du in einer Woche (im Durchschnitt)?'] = '10 - 15 hours'\n",
    "df.loc[df['Wie lange spielst Du in einer Woche (im Durchschnitt)?'].str.contains('16 - 20 Stunden'), 'Wie lange spielst Du in einer Woche (im Durchschnitt)?'] = '16 - 20 hours'\n",
    "df.loc[df['Wie lange spielst Du in einer Woche (im Durchschnitt)?'].str.contains('21 - 25 Stunden'), 'Wie lange spielst Du in einer Woche (im Durchschnitt)?'] = '21 - 25 hours'\n",
    "df.loc[df['Wie lange spielst Du in einer Woche (im Durchschnitt)?'].str.contains('Mehr als 26 Stunden'), 'Wie lange spielst Du in einer Woche (im Durchschnitt)?'] = 'More than 26 hours'\n"
   ]
  },
  {
   "cell_type": "markdown",
   "metadata": {},
   "source": [
    "#### Translating the hobbies"
   ]
  },
  {
   "cell_type": "markdown",
   "metadata": {},
   "source": [
    "Finally the hobbies are translated"
   ]
  },
  {
   "cell_type": "code",
   "execution_count": 24,
   "metadata": {},
   "outputs": [
    {
     "data": {
      "text/plain": [
       "<AxesSubplot:>"
      ]
     },
     "execution_count": 24,
     "metadata": {},
     "output_type": "execute_result"
    },
    {
     "data": {
      "image/png": "[encoded data removed]",
      "text/plain": [
       "<Figure size 432x288 with 1 Axes>"
      ]
     },
     "metadata": {
      "needs_background": "light"
     },
     "output_type": "display_data"
    }
   ],
   "source": [
    "df['Deine Freizeitaktivitäten (Ranking von Platz 1 (bester Platz) zu Platz 10 (schlechtester Platz)) [Dein Lieblingshobby]'].value_counts().head(10).plot.bar()\n"
   ]
  },
  {
   "cell_type": "code",
   "execution_count": 25,
   "metadata": {},
   "outputs": [
    {
     "data": {
      "text/plain": [
       "<AxesSubplot:>"
      ]
     },
     "execution_count": 25,
     "metadata": {},
     "output_type": "execute_result"
    },
    {
     "data": {
      "image/png": "[encoded data removed]",
      "text/plain": [
       "<Figure size 432x288 with 1 Axes>"
      ]
     },
     "metadata": {
      "needs_background": "light"
     },
     "output_type": "display_data"
    }
   ],
   "source": [
    "df['Deine Freizeitaktivitäten (Ranking von Platz 1 (bester Platz) zu Platz 10 (schlechtester Platz)) [2ter Platz]'].value_counts().head(10).plot.bar()"
   ]
  },
  {
   "cell_type": "code",
   "execution_count": 26,
   "metadata": {},
   "outputs": [
    {
     "data": {
      "text/plain": [
       "<AxesSubplot:>"
      ]
     },
     "execution_count": 26,
     "metadata": {},
     "output_type": "execute_result"
    },
    {
     "data": {
      "image/png": "[encoded data removed]",
      "text/plain": [
       "<Figure size 432x288 with 1 Axes>"
      ]
     },
     "metadata": {
      "needs_background": "light"
     },
     "output_type": "display_data"
    }
   ],
   "source": [
    "df['Deine Freizeitaktivitäten (Ranking von Platz 1 (bester Platz) zu Platz 10 (schlechtester Platz)) [3ter Platz]'].value_counts().head(10).plot.bar()"
   ]
  },
  {
   "cell_type": "code",
   "execution_count": 27,
   "metadata": {},
   "outputs": [],
   "source": [
    "df.loc[df['Deine Freizeitaktivitäten (Ranking von Platz 1 (bester Platz) zu Platz 10 (schlechtester Platz)) [Dein Lieblingshobby]'].str.contains('Animes schauen'), 'Deine Freizeitaktivitäten (Ranking von Platz 1 (bester Platz) zu Platz 10 (schlechtester Platz)) [Dein Lieblingshobby]'] = 'Watching Animes'\n",
    "df.loc[df['Deine Freizeitaktivitäten (Ranking von Platz 1 (bester Platz) zu Platz 10 (schlechtester Platz)) [Dein Lieblingshobby]'].str.contains('Verreisen'), 'Deine Freizeitaktivitäten (Ranking von Platz 1 (bester Platz) zu Platz 10 (schlechtester Platz)) [Dein Lieblingshobby]'] = 'Travelling'\n",
    "df.loc[df['Deine Freizeitaktivitäten (Ranking von Platz 1 (bester Platz) zu Platz 10 (schlechtester Platz)) [Dein Lieblingshobby]'].str.contains('Netflix'), 'Deine Freizeitaktivitäten (Ranking von Platz 1 (bester Platz) zu Platz 10 (schlechtester Platz)) [Dein Lieblingshobby]'] = 'Watching Netflix'\n",
    "df.loc[df['Deine Freizeitaktivitäten (Ranking von Platz 1 (bester Platz) zu Platz 10 (schlechtester Platz)) [Dein Lieblingshobby]'].str.contains('Freunden'), 'Deine Freizeitaktivitäten (Ranking von Platz 1 (bester Platz) zu Platz 10 (schlechtester Platz)) [Dein Lieblingshobby]'] = 'Going out with Friends'\n",
    "df.loc[df['Deine Freizeitaktivitäten (Ranking von Platz 1 (bester Platz) zu Platz 10 (schlechtester Platz)) [Dein Lieblingshobby]'].str.contains('Serien/Filme'), 'Deine Freizeitaktivitäten (Ranking von Platz 1 (bester Platz) zu Platz 10 (schlechtester Platz)) [Dein Lieblingshobby]'] = 'Watching other Series/Movies'\n",
    "df.loc[df['Deine Freizeitaktivitäten (Ranking von Platz 1 (bester Platz) zu Platz 10 (schlechtester Platz)) [Dein Lieblingshobby]'].str.contains('Musik'), 'Deine Freizeitaktivitäten (Ranking von Platz 1 (bester Platz) zu Platz 10 (schlechtester Platz)) [Dein Lieblingshobby]'] = 'Music'\n",
    "df.loc[df['Deine Freizeitaktivitäten (Ranking von Platz 1 (bester Platz) zu Platz 10 (schlechtester Platz)) [Dein Lieblingshobby]'].str.contains('Kinos'), 'Deine Freizeitaktivitäten (Ranking von Platz 1 (bester Platz) zu Platz 10 (schlechtester Platz)) [Dein Lieblingshobby]'] = 'Going to the cinemas'\n",
    "df.loc[df['Deine Freizeitaktivitäten (Ranking von Platz 1 (bester Platz) zu Platz 10 (schlechtester Platz)) [Dein Lieblingshobby]'].str.contains('Essen'), 'Deine Freizeitaktivitäten (Ranking von Platz 1 (bester Platz) zu Platz 10 (schlechtester Platz)) [Dein Lieblingshobby]'] = 'Foodie'\n",
    "df.loc[df['Deine Freizeitaktivitäten (Ranking von Platz 1 (bester Platz) zu Platz 10 (schlechtester Platz)) [Dein Lieblingshobby]'].str.contains('Keine'), 'Deine Freizeitaktivitäten (Ranking von Platz 1 (bester Platz) zu Platz 10 (schlechtester Platz)) [Dein Lieblingshobby]'] = 'Nothing at all'\n",
    "df.loc[df['Deine Freizeitaktivitäten (Ranking von Platz 1 (bester Platz) zu Platz 10 (schlechtester Platz)) [Dein Lieblingshobby]'].str.contains('Andere'), 'Deine Freizeitaktivitäten (Ranking von Platz 1 (bester Platz) zu Platz 10 (schlechtester Platz)) [Dein Lieblingshobby]'] = 'Others'\n",
    "df.loc[df['Deine Freizeitaktivitäten (Ranking von Platz 1 (bester Platz) zu Platz 10 (schlechtester Platz)) [Dein Lieblingshobby]'].str.contains('Backen/Kochen'), 'Deine Freizeitaktivitäten (Ranking von Platz 1 (bester Platz) zu Platz 10 (schlechtester Platz)) [Dein Lieblingshobby]'] = 'Baking/Cooking'\n",
    "df.loc[df['Deine Freizeitaktivitäten (Ranking von Platz 1 (bester Platz) zu Platz 10 (schlechtester Platz)) [Dein Lieblingshobby]'].str.contains('Lesen'), 'Deine Freizeitaktivitäten (Ranking von Platz 1 (bester Platz) zu Platz 10 (schlechtester Platz)) [Dein Lieblingshobby]'] = 'Reading'"
   ]
  },
  {
   "cell_type": "code",
   "execution_count": 28,
   "metadata": {},
   "outputs": [],
   "source": [
    "df.loc[df['Deine Freizeitaktivitäten (Ranking von Platz 1 (bester Platz) zu Platz 10 (schlechtester Platz)) [2ter Platz]'].str.contains('Animes schauen'), 'Deine Freizeitaktivitäten (Ranking von Platz 1 (bester Platz) zu Platz 10 (schlechtester Platz)) [2ter Platz]'] = 'Watching Animes'\n",
    "df.loc[df['Deine Freizeitaktivitäten (Ranking von Platz 1 (bester Platz) zu Platz 10 (schlechtester Platz)) [2ter Platz]'].str.contains('Verreisen'), 'Deine Freizeitaktivitäten (Ranking von Platz 1 (bester Platz) zu Platz 10 (schlechtester Platz)) [2ter Platz]'] = 'Travelling'\n",
    "df.loc[df['Deine Freizeitaktivitäten (Ranking von Platz 1 (bester Platz) zu Platz 10 (schlechtester Platz)) [2ter Platz]'].str.contains('Netflix'), 'Deine Freizeitaktivitäten (Ranking von Platz 1 (bester Platz) zu Platz 10 (schlechtester Platz)) [2ter Platz]'] = 'Watching Netflix'\n",
    "df.loc[df['Deine Freizeitaktivitäten (Ranking von Platz 1 (bester Platz) zu Platz 10 (schlechtester Platz)) [2ter Platz]'].str.contains('Freunden'), 'Deine Freizeitaktivitäten (Ranking von Platz 1 (bester Platz) zu Platz 10 (schlechtester Platz)) [2ter Platz]'] = 'Going out with Friends'\n",
    "df.loc[df['Deine Freizeitaktivitäten (Ranking von Platz 1 (bester Platz) zu Platz 10 (schlechtester Platz)) [2ter Platz]'].str.contains('Musik'), 'Deine Freizeitaktivitäten (Ranking von Platz 1 (bester Platz) zu Platz 10 (schlechtester Platz)) [2ter Platz]'] = 'Music'\n",
    "df.loc[df['Deine Freizeitaktivitäten (Ranking von Platz 1 (bester Platz) zu Platz 10 (schlechtester Platz)) [2ter Platz]'].str.contains('Kinos'), 'Deine Freizeitaktivitäten (Ranking von Platz 1 (bester Platz) zu Platz 10 (schlechtester Platz)) [2ter Platz]'] = 'Going to the cinemas'\n",
    "df.loc[df['Deine Freizeitaktivitäten (Ranking von Platz 1 (bester Platz) zu Platz 10 (schlechtester Platz)) [2ter Platz]'].str.contains('Essen'), 'Deine Freizeitaktivitäten (Ranking von Platz 1 (bester Platz) zu Platz 10 (schlechtester Platz)) [2ter Platz]'] = 'Foodie'\n",
    "df.loc[df['Deine Freizeitaktivitäten (Ranking von Platz 1 (bester Platz) zu Platz 10 (schlechtester Platz)) [2ter Platz]'].str.contains('Keine'), 'Deine Freizeitaktivitäten (Ranking von Platz 1 (bester Platz) zu Platz 10 (schlechtester Platz)) [2ter Platz]'] = 'Nothing at all'\n",
    "df.loc[df['Deine Freizeitaktivitäten (Ranking von Platz 1 (bester Platz) zu Platz 10 (schlechtester Platz)) [2ter Platz]'].str.contains('Andere'), 'Deine Freizeitaktivitäten (Ranking von Platz 1 (bester Platz) zu Platz 10 (schlechtester Platz)) [2ter Platz]'] = 'Others'\n",
    "df.loc[df['Deine Freizeitaktivitäten (Ranking von Platz 1 (bester Platz) zu Platz 10 (schlechtester Platz)) [2ter Platz]'].str.contains('Serien/Filme'), 'Deine Freizeitaktivitäten (Ranking von Platz 1 (bester Platz) zu Platz 10 (schlechtester Platz)) [2ter Platz]'] = 'Watching other Series/Movies'\n",
    "df.loc[df['Deine Freizeitaktivitäten (Ranking von Platz 1 (bester Platz) zu Platz 10 (schlechtester Platz)) [2ter Platz]'].str.contains('Backen/Kochen'), 'Deine Freizeitaktivitäten (Ranking von Platz 1 (bester Platz) zu Platz 10 (schlechtester Platz)) [2ter Platz]'] = 'Baking/Cooking'\n",
    "df.loc[df['Deine Freizeitaktivitäten (Ranking von Platz 1 (bester Platz) zu Platz 10 (schlechtester Platz)) [2ter Platz]'].str.contains('Lesen'), 'Deine Freizeitaktivitäten (Ranking von Platz 1 (bester Platz) zu Platz 10 (schlechtester Platz)) [2ter Platz]'] = 'Reading'"
   ]
  },
  {
   "cell_type": "code",
   "execution_count": 29,
   "metadata": {},
   "outputs": [],
   "source": [
    "df.loc[df['Deine Freizeitaktivitäten (Ranking von Platz 1 (bester Platz) zu Platz 10 (schlechtester Platz)) [3ter Platz]'].str.contains('Animes schauen'), 'Deine Freizeitaktivitäten (Ranking von Platz 1 (bester Platz) zu Platz 10 (schlechtester Platz)) [3ter Platz]'] = 'Watching Animes'\n",
    "df.loc[df['Deine Freizeitaktivitäten (Ranking von Platz 1 (bester Platz) zu Platz 10 (schlechtester Platz)) [3ter Platz]'].str.contains('Verreisen'), 'Deine Freizeitaktivitäten (Ranking von Platz 1 (bester Platz) zu Platz 10 (schlechtester Platz)) [3ter Platz]'] = 'Travelling'\n",
    "df.loc[df['Deine Freizeitaktivitäten (Ranking von Platz 1 (bester Platz) zu Platz 10 (schlechtester Platz)) [3ter Platz]'].str.contains('Netflix'), 'Deine Freizeitaktivitäten (Ranking von Platz 1 (bester Platz) zu Platz 10 (schlechtester Platz)) [3ter Platz]'] = 'Watching Netflix'\n",
    "df.loc[df['Deine Freizeitaktivitäten (Ranking von Platz 1 (bester Platz) zu Platz 10 (schlechtester Platz)) [3ter Platz]'].str.contains('Freunden'), 'Deine Freizeitaktivitäten (Ranking von Platz 1 (bester Platz) zu Platz 10 (schlechtester Platz)) [3ter Platz]'] = 'Going out with Friends'\n",
    "df.loc[df['Deine Freizeitaktivitäten (Ranking von Platz 1 (bester Platz) zu Platz 10 (schlechtester Platz)) [3ter Platz]'].str.contains('Musik'), 'Deine Freizeitaktivitäten (Ranking von Platz 1 (bester Platz) zu Platz 10 (schlechtester Platz)) [3ter Platz]'] = 'Music'\n",
    "df.loc[df['Deine Freizeitaktivitäten (Ranking von Platz 1 (bester Platz) zu Platz 10 (schlechtester Platz)) [3ter Platz]'].str.contains('Kinos'), 'Deine Freizeitaktivitäten (Ranking von Platz 1 (bester Platz) zu Platz 10 (schlechtester Platz)) [3ter Platz]'] = 'Going to the cinemas'\n",
    "df.loc[df['Deine Freizeitaktivitäten (Ranking von Platz 1 (bester Platz) zu Platz 10 (schlechtester Platz)) [3ter Platz]'].str.contains('Essen'), 'Deine Freizeitaktivitäten (Ranking von Platz 1 (bester Platz) zu Platz 10 (schlechtester Platz)) [3ter Platz]'] = 'Foodie'\n",
    "df.loc[df['Deine Freizeitaktivitäten (Ranking von Platz 1 (bester Platz) zu Platz 10 (schlechtester Platz)) [3ter Platz]'].str.contains('Keine'), 'Deine Freizeitaktivitäten (Ranking von Platz 1 (bester Platz) zu Platz 10 (schlechtester Platz)) [3ter Platz]'] = 'Nothing at all'\n",
    "df.loc[df['Deine Freizeitaktivitäten (Ranking von Platz 1 (bester Platz) zu Platz 10 (schlechtester Platz)) [3ter Platz]'].str.contains('Andere'), 'Deine Freizeitaktivitäten (Ranking von Platz 1 (bester Platz) zu Platz 10 (schlechtester Platz)) [3ter Platz]'] = 'Others'\n",
    "df.loc[df['Deine Freizeitaktivitäten (Ranking von Platz 1 (bester Platz) zu Platz 10 (schlechtester Platz)) [3ter Platz]'].str.contains('Serien/Filme'), 'Deine Freizeitaktivitäten (Ranking von Platz 1 (bester Platz) zu Platz 10 (schlechtester Platz)) [3ter Platz]'] = 'Watching other Series/Movies'\n",
    "df.loc[df['Deine Freizeitaktivitäten (Ranking von Platz 1 (bester Platz) zu Platz 10 (schlechtester Platz)) [3ter Platz]'].str.contains('Backen/Kochen'), 'Deine Freizeitaktivitäten (Ranking von Platz 1 (bester Platz) zu Platz 10 (schlechtester Platz)) [3ter Platz]'] = 'Baking/Cooking'\n",
    "df.loc[df['Deine Freizeitaktivitäten (Ranking von Platz 1 (bester Platz) zu Platz 10 (schlechtester Platz)) [3ter Platz]'].str.contains('Lesen'), 'Deine Freizeitaktivitäten (Ranking von Platz 1 (bester Platz) zu Platz 10 (schlechtester Platz)) [3ter Platz]'] = 'Reading'"
   ]
  },
  {
   "cell_type": "code",
   "execution_count": 30,
   "metadata": {},
   "outputs": [],
   "source": [
    "df.loc[df['Deine Freizeitaktivitäten (Ranking von Platz 1 (bester Platz) zu Platz 10 (schlechtester Platz)) [4ter Platz]'].str.contains('Animes schauen'), 'Deine Freizeitaktivitäten (Ranking von Platz 1 (bester Platz) zu Platz 10 (schlechtester Platz)) [4ter Platz]'] = 'Watching Animes'\n",
    "df.loc[df['Deine Freizeitaktivitäten (Ranking von Platz 1 (bester Platz) zu Platz 10 (schlechtester Platz)) [4ter Platz]'].str.contains('Verreisen'), 'Deine Freizeitaktivitäten (Ranking von Platz 1 (bester Platz) zu Platz 10 (schlechtester Platz)) [4ter Platz]'] = 'Travelling'\n",
    "df.loc[df['Deine Freizeitaktivitäten (Ranking von Platz 1 (bester Platz) zu Platz 10 (schlechtester Platz)) [4ter Platz]'].str.contains('Netflix'), 'Deine Freizeitaktivitäten (Ranking von Platz 1 (bester Platz) zu Platz 10 (schlechtester Platz)) [4ter Platz]'] = 'Watching Netflix'\n",
    "df.loc[df['Deine Freizeitaktivitäten (Ranking von Platz 1 (bester Platz) zu Platz 10 (schlechtester Platz)) [4ter Platz]'].str.contains('Freunden'), 'Deine Freizeitaktivitäten (Ranking von Platz 1 (bester Platz) zu Platz 10 (schlechtester Platz)) [4ter Platz]'] = 'Going out with Friends'\n",
    "df.loc[df['Deine Freizeitaktivitäten (Ranking von Platz 1 (bester Platz) zu Platz 10 (schlechtester Platz)) [4ter Platz]'].str.contains('Musik'), 'Deine Freizeitaktivitäten (Ranking von Platz 1 (bester Platz) zu Platz 10 (schlechtester Platz)) [4ter Platz]'] = 'Music'\n",
    "df.loc[df['Deine Freizeitaktivitäten (Ranking von Platz 1 (bester Platz) zu Platz 10 (schlechtester Platz)) [4ter Platz]'].str.contains('Kinos'), 'Deine Freizeitaktivitäten (Ranking von Platz 1 (bester Platz) zu Platz 10 (schlechtester Platz)) [4ter Platz]'] = 'Going to the cinemas'\n",
    "df.loc[df['Deine Freizeitaktivitäten (Ranking von Platz 1 (bester Platz) zu Platz 10 (schlechtester Platz)) [4ter Platz]'].str.contains('Essen'), 'Deine Freizeitaktivitäten (Ranking von Platz 1 (bester Platz) zu Platz 10 (schlechtester Platz)) [4ter Platz]'] = 'Foodie'\n",
    "df.loc[df['Deine Freizeitaktivitäten (Ranking von Platz 1 (bester Platz) zu Platz 10 (schlechtester Platz)) [4ter Platz]'].str.contains('Keine'), 'Deine Freizeitaktivitäten (Ranking von Platz 1 (bester Platz) zu Platz 10 (schlechtester Platz)) [4ter Platz]'] = 'Nothing at all'\n",
    "df.loc[df['Deine Freizeitaktivitäten (Ranking von Platz 1 (bester Platz) zu Platz 10 (schlechtester Platz)) [4ter Platz]'].str.contains('Andere'), 'Deine Freizeitaktivitäten (Ranking von Platz 1 (bester Platz) zu Platz 10 (schlechtester Platz)) [4ter Platz]'] = 'Others'\n",
    "df.loc[df['Deine Freizeitaktivitäten (Ranking von Platz 1 (bester Platz) zu Platz 10 (schlechtester Platz)) [4ter Platz]'].str.contains('Serien/Filme'), 'Deine Freizeitaktivitäten (Ranking von Platz 1 (bester Platz) zu Platz 10 (schlechtester Platz)) [4ter Platz]'] = 'Watching other Series/Movies'\n",
    "df.loc[df['Deine Freizeitaktivitäten (Ranking von Platz 1 (bester Platz) zu Platz 10 (schlechtester Platz)) [4ter Platz]'].str.contains('Backen/Kochen'), 'Deine Freizeitaktivitäten (Ranking von Platz 1 (bester Platz) zu Platz 10 (schlechtester Platz)) [4ter Platz]'] = 'Baking/Cooking'\n",
    "df.loc[df['Deine Freizeitaktivitäten (Ranking von Platz 1 (bester Platz) zu Platz 10 (schlechtester Platz)) [4ter Platz]'].str.contains('Lesen'), 'Deine Freizeitaktivitäten (Ranking von Platz 1 (bester Platz) zu Platz 10 (schlechtester Platz)) [4ter Platz]'] = 'Reading'"
   ]
  },
  {
   "cell_type": "code",
   "execution_count": 31,
   "metadata": {},
   "outputs": [],
   "source": [
    "df.loc[df['Deine Freizeitaktivitäten (Ranking von Platz 1 (bester Platz) zu Platz 10 (schlechtester Platz)) [5ter Platz]'].str.contains('Animes schauen'), 'Deine Freizeitaktivitäten (Ranking von Platz 1 (bester Platz) zu Platz 10 (schlechtester Platz)) [5ter Platz]'] = 'Watching Animes'\n",
    "df.loc[df['Deine Freizeitaktivitäten (Ranking von Platz 1 (bester Platz) zu Platz 10 (schlechtester Platz)) [5ter Platz]'].str.contains('Verreisen'), 'Deine Freizeitaktivitäten (Ranking von Platz 1 (bester Platz) zu Platz 10 (schlechtester Platz)) [5ter Platz]'] = 'Travelling'\n",
    "df.loc[df['Deine Freizeitaktivitäten (Ranking von Platz 1 (bester Platz) zu Platz 10 (schlechtester Platz)) [5ter Platz]'].str.contains('Netflix'), 'Deine Freizeitaktivitäten (Ranking von Platz 1 (bester Platz) zu Platz 10 (schlechtester Platz)) [5ter Platz]'] = 'Watching Netflix'\n",
    "df.loc[df['Deine Freizeitaktivitäten (Ranking von Platz 1 (bester Platz) zu Platz 10 (schlechtester Platz)) [5ter Platz]'].str.contains('Freunden'), 'Deine Freizeitaktivitäten (Ranking von Platz 1 (bester Platz) zu Platz 10 (schlechtester Platz)) [5ter Platz]'] = 'Going out with Friends'\n",
    "df.loc[df['Deine Freizeitaktivitäten (Ranking von Platz 1 (bester Platz) zu Platz 10 (schlechtester Platz)) [5ter Platz]'].str.contains('Musik'), 'Deine Freizeitaktivitäten (Ranking von Platz 1 (bester Platz) zu Platz 10 (schlechtester Platz)) [5ter Platz]'] = 'Music'\n",
    "df.loc[df['Deine Freizeitaktivitäten (Ranking von Platz 1 (bester Platz) zu Platz 10 (schlechtester Platz)) [5ter Platz]'].str.contains('Kinos'), 'Deine Freizeitaktivitäten (Ranking von Platz 1 (bester Platz) zu Platz 10 (schlechtester Platz)) [5ter Platz]'] = 'Going to the cinemas'\n",
    "df.loc[df['Deine Freizeitaktivitäten (Ranking von Platz 1 (bester Platz) zu Platz 10 (schlechtester Platz)) [5ter Platz]'].str.contains('Essen'), 'Deine Freizeitaktivitäten (Ranking von Platz 1 (bester Platz) zu Platz 10 (schlechtester Platz)) [5ter Platz]'] = 'Foodie'\n",
    "df.loc[df['Deine Freizeitaktivitäten (Ranking von Platz 1 (bester Platz) zu Platz 10 (schlechtester Platz)) [5ter Platz]'].str.contains('Keine'), 'Deine Freizeitaktivitäten (Ranking von Platz 1 (bester Platz) zu Platz 10 (schlechtester Platz)) [5ter Platz]'] = 'Nothing at all'\n",
    "df.loc[df['Deine Freizeitaktivitäten (Ranking von Platz 1 (bester Platz) zu Platz 10 (schlechtester Platz)) [5ter Platz]'].str.contains('Andere'), 'Deine Freizeitaktivitäten (Ranking von Platz 1 (bester Platz) zu Platz 10 (schlechtester Platz)) [5ter Platz]'] = 'Others'\n",
    "df.loc[df['Deine Freizeitaktivitäten (Ranking von Platz 1 (bester Platz) zu Platz 10 (schlechtester Platz)) [5ter Platz]'].str.contains('Serien/Filme'), 'Deine Freizeitaktivitäten (Ranking von Platz 1 (bester Platz) zu Platz 10 (schlechtester Platz)) [5ter Platz]'] = 'Watching other Series/Movies'\n",
    "df.loc[df['Deine Freizeitaktivitäten (Ranking von Platz 1 (bester Platz) zu Platz 10 (schlechtester Platz)) [5ter Platz]'].str.contains('Backen/Kochen'), 'Deine Freizeitaktivitäten (Ranking von Platz 1 (bester Platz) zu Platz 10 (schlechtester Platz)) [5ter Platz]'] = 'Baking/Cooking'\n",
    "df.loc[df['Deine Freizeitaktivitäten (Ranking von Platz 1 (bester Platz) zu Platz 10 (schlechtester Platz)) [5ter Platz]'].str.contains('Lesen'), 'Deine Freizeitaktivitäten (Ranking von Platz 1 (bester Platz) zu Platz 10 (schlechtester Platz)) [5ter Platz]'] = 'Reading'"
   ]
  },
  {
   "cell_type": "code",
   "execution_count": 32,
   "metadata": {},
   "outputs": [],
   "source": [
    "df.loc[df['Deine Freizeitaktivitäten (Ranking von Platz 1 (bester Platz) zu Platz 10 (schlechtester Platz)) [6ter Platz]'].str.contains('Animes schauen'), 'Deine Freizeitaktivitäten (Ranking von Platz 1 (bester Platz) zu Platz 10 (schlechtester Platz)) [6ter Platz]'] = 'Watching Animes'\n",
    "df.loc[df['Deine Freizeitaktivitäten (Ranking von Platz 1 (bester Platz) zu Platz 10 (schlechtester Platz)) [6ter Platz]'].str.contains('Verreisen'), 'Deine Freizeitaktivitäten (Ranking von Platz 1 (bester Platz) zu Platz 10 (schlechtester Platz)) [6ter Platz]'] = 'Travelling'\n",
    "df.loc[df['Deine Freizeitaktivitäten (Ranking von Platz 1 (bester Platz) zu Platz 10 (schlechtester Platz)) [6ter Platz]'].str.contains('Netflix'), 'Deine Freizeitaktivitäten (Ranking von Platz 1 (bester Platz) zu Platz 10 (schlechtester Platz)) [6ter Platz]'] = 'Watching Netflix'\n",
    "df.loc[df['Deine Freizeitaktivitäten (Ranking von Platz 1 (bester Platz) zu Platz 10 (schlechtester Platz)) [6ter Platz]'].str.contains('Freunden'), 'Deine Freizeitaktivitäten (Ranking von Platz 1 (bester Platz) zu Platz 10 (schlechtester Platz)) [6ter Platz]'] = 'Going out with Friends'\n",
    "df.loc[df['Deine Freizeitaktivitäten (Ranking von Platz 1 (bester Platz) zu Platz 10 (schlechtester Platz)) [6ter Platz]'].str.contains('Musik'), 'Deine Freizeitaktivitäten (Ranking von Platz 1 (bester Platz) zu Platz 10 (schlechtester Platz)) [6ter Platz]'] = 'Music'\n",
    "df.loc[df['Deine Freizeitaktivitäten (Ranking von Platz 1 (bester Platz) zu Platz 10 (schlechtester Platz)) [6ter Platz]'].str.contains('Kinos'), 'Deine Freizeitaktivitäten (Ranking von Platz 1 (bester Platz) zu Platz 10 (schlechtester Platz)) [6ter Platz]'] = 'Going to the cinemas'\n",
    "df.loc[df['Deine Freizeitaktivitäten (Ranking von Platz 1 (bester Platz) zu Platz 10 (schlechtester Platz)) [6ter Platz]'].str.contains('Essen'), 'Deine Freizeitaktivitäten (Ranking von Platz 1 (bester Platz) zu Platz 10 (schlechtester Platz)) [6ter Platz]'] = 'Foodie'\n",
    "df.loc[df['Deine Freizeitaktivitäten (Ranking von Platz 1 (bester Platz) zu Platz 10 (schlechtester Platz)) [6ter Platz]'].str.contains('Keine'), 'Deine Freizeitaktivitäten (Ranking von Platz 1 (bester Platz) zu Platz 10 (schlechtester Platz)) [6ter Platz]'] = 'Nothing at all'\n",
    "df.loc[df['Deine Freizeitaktivitäten (Ranking von Platz 1 (bester Platz) zu Platz 10 (schlechtester Platz)) [6ter Platz]'].str.contains('Andere'), 'Deine Freizeitaktivitäten (Ranking von Platz 1 (bester Platz) zu Platz 10 (schlechtester Platz)) [6ter Platz]'] = 'Others'\n",
    "df.loc[df['Deine Freizeitaktivitäten (Ranking von Platz 1 (bester Platz) zu Platz 10 (schlechtester Platz)) [6ter Platz]'].str.contains('Serien/Filme'), 'Deine Freizeitaktivitäten (Ranking von Platz 1 (bester Platz) zu Platz 10 (schlechtester Platz)) [6ter Platz]'] = 'Watching other Series/Movies'\n",
    "df.loc[df['Deine Freizeitaktivitäten (Ranking von Platz 1 (bester Platz) zu Platz 10 (schlechtester Platz)) [6ter Platz]'].str.contains('Backen/Kochen'), 'Deine Freizeitaktivitäten (Ranking von Platz 1 (bester Platz) zu Platz 10 (schlechtester Platz)) [6ter Platz]'] = 'Baking/Cooking'\n",
    "df.loc[df['Deine Freizeitaktivitäten (Ranking von Platz 1 (bester Platz) zu Platz 10 (schlechtester Platz)) [6ter Platz]'].str.contains('Lesen'), 'Deine Freizeitaktivitäten (Ranking von Platz 1 (bester Platz) zu Platz 10 (schlechtester Platz)) [6ter Platz]'] = 'Reading'"
   ]
  },
  {
   "cell_type": "code",
   "execution_count": 33,
   "metadata": {},
   "outputs": [],
   "source": [
    "df.loc[df['Deine Freizeitaktivitäten (Ranking von Platz 1 (bester Platz) zu Platz 10 (schlechtester Platz)) [7ter Platz]'].str.contains('Animes schauen'), 'Deine Freizeitaktivitäten (Ranking von Platz 1 (bester Platz) zu Platz 10 (schlechtester Platz)) [7ter Platz]'] = 'Watching Animes'\n",
    "df.loc[df['Deine Freizeitaktivitäten (Ranking von Platz 1 (bester Platz) zu Platz 10 (schlechtester Platz)) [7ter Platz]'].str.contains('Verreisen'), 'Deine Freizeitaktivitäten (Ranking von Platz 1 (bester Platz) zu Platz 10 (schlechtester Platz)) [7ter Platz]'] = 'Travelling'\n",
    "df.loc[df['Deine Freizeitaktivitäten (Ranking von Platz 1 (bester Platz) zu Platz 10 (schlechtester Platz)) [7ter Platz]'].str.contains('Netflix'), 'Deine Freizeitaktivitäten (Ranking von Platz 1 (bester Platz) zu Platz 10 (schlechtester Platz)) [7ter Platz]'] = 'Watching Netflix'\n",
    "df.loc[df['Deine Freizeitaktivitäten (Ranking von Platz 1 (bester Platz) zu Platz 10 (schlechtester Platz)) [7ter Platz]'].str.contains('Freunden'), 'Deine Freizeitaktivitäten (Ranking von Platz 1 (bester Platz) zu Platz 10 (schlechtester Platz)) [7ter Platz]'] = 'Going out with Friends'\n",
    "df.loc[df['Deine Freizeitaktivitäten (Ranking von Platz 1 (bester Platz) zu Platz 10 (schlechtester Platz)) [7ter Platz]'].str.contains('Musik'), 'Deine Freizeitaktivitäten (Ranking von Platz 1 (bester Platz) zu Platz 10 (schlechtester Platz)) [7ter Platz]'] = 'Music'\n",
    "df.loc[df['Deine Freizeitaktivitäten (Ranking von Platz 1 (bester Platz) zu Platz 10 (schlechtester Platz)) [7ter Platz]'].str.contains('Kinos'), 'Deine Freizeitaktivitäten (Ranking von Platz 1 (bester Platz) zu Platz 10 (schlechtester Platz)) [7ter Platz]'] = 'Going to the cinemas'\n",
    "df.loc[df['Deine Freizeitaktivitäten (Ranking von Platz 1 (bester Platz) zu Platz 10 (schlechtester Platz)) [7ter Platz]'].str.contains('Essen'), 'Deine Freizeitaktivitäten (Ranking von Platz 1 (bester Platz) zu Platz 10 (schlechtester Platz)) [7ter Platz]'] = 'Foodie'\n",
    "df.loc[df['Deine Freizeitaktivitäten (Ranking von Platz 1 (bester Platz) zu Platz 10 (schlechtester Platz)) [7ter Platz]'].str.contains('Keine'), 'Deine Freizeitaktivitäten (Ranking von Platz 1 (bester Platz) zu Platz 10 (schlechtester Platz)) [7ter Platz]'] = 'Nothing at all'\n",
    "df.loc[df['Deine Freizeitaktivitäten (Ranking von Platz 1 (bester Platz) zu Platz 10 (schlechtester Platz)) [7ter Platz]'].str.contains('Andere'), 'Deine Freizeitaktivitäten (Ranking von Platz 1 (bester Platz) zu Platz 10 (schlechtester Platz)) [7ter Platz]'] = 'Others'\n",
    "df.loc[df['Deine Freizeitaktivitäten (Ranking von Platz 1 (bester Platz) zu Platz 10 (schlechtester Platz)) [7ter Platz]'].str.contains('Serien/Filme'), 'Deine Freizeitaktivitäten (Ranking von Platz 1 (bester Platz) zu Platz 10 (schlechtester Platz)) [7ter Platz]'] = 'Watching other Series/Movies'\n",
    "df.loc[df['Deine Freizeitaktivitäten (Ranking von Platz 1 (bester Platz) zu Platz 10 (schlechtester Platz)) [7ter Platz]'].str.contains('Backen/Kochen'), 'Deine Freizeitaktivitäten (Ranking von Platz 1 (bester Platz) zu Platz 10 (schlechtester Platz)) [7ter Platz]'] = 'Baking/Cooking'\n",
    "df.loc[df['Deine Freizeitaktivitäten (Ranking von Platz 1 (bester Platz) zu Platz 10 (schlechtester Platz)) [7ter Platz]'].str.contains('Lesen'), 'Deine Freizeitaktivitäten (Ranking von Platz 1 (bester Platz) zu Platz 10 (schlechtester Platz)) [7ter Platz]'] = 'Reading'"
   ]
  },
  {
   "cell_type": "code",
   "execution_count": 34,
   "metadata": {},
   "outputs": [],
   "source": [
    "df.loc[df['Deine Freizeitaktivitäten (Ranking von Platz 1 (bester Platz) zu Platz 10 (schlechtester Platz)) [8ter Platz]'].str.contains('Animes schauen'), 'Deine Freizeitaktivitäten (Ranking von Platz 1 (bester Platz) zu Platz 10 (schlechtester Platz)) [8ter Platz]'] = 'Watching Animes'\n",
    "df.loc[df['Deine Freizeitaktivitäten (Ranking von Platz 1 (bester Platz) zu Platz 10 (schlechtester Platz)) [8ter Platz]'].str.contains('Verreisen'), 'Deine Freizeitaktivitäten (Ranking von Platz 1 (bester Platz) zu Platz 10 (schlechtester Platz)) [8ter Platz]'] = 'Travelling'\n",
    "df.loc[df['Deine Freizeitaktivitäten (Ranking von Platz 1 (bester Platz) zu Platz 10 (schlechtester Platz)) [8ter Platz]'].str.contains('Netflix'), 'Deine Freizeitaktivitäten (Ranking von Platz 1 (bester Platz) zu Platz 10 (schlechtester Platz)) [8ter Platz]'] = 'Watching Netflix'\n",
    "df.loc[df['Deine Freizeitaktivitäten (Ranking von Platz 1 (bester Platz) zu Platz 10 (schlechtester Platz)) [8ter Platz]'].str.contains('Freunden'), 'Deine Freizeitaktivitäten (Ranking von Platz 1 (bester Platz) zu Platz 10 (schlechtester Platz)) [8ter Platz]'] = 'Going out with Friends'\n",
    "df.loc[df['Deine Freizeitaktivitäten (Ranking von Platz 1 (bester Platz) zu Platz 10 (schlechtester Platz)) [8ter Platz]'].str.contains('Musik'), 'Deine Freizeitaktivitäten (Ranking von Platz 1 (bester Platz) zu Platz 10 (schlechtester Platz)) [8ter Platz]'] = 'Music'\n",
    "df.loc[df['Deine Freizeitaktivitäten (Ranking von Platz 1 (bester Platz) zu Platz 10 (schlechtester Platz)) [8ter Platz]'].str.contains('Kinos'), 'Deine Freizeitaktivitäten (Ranking von Platz 1 (bester Platz) zu Platz 10 (schlechtester Platz)) [8ter Platz]'] = 'Going to the cinemas'\n",
    "df.loc[df['Deine Freizeitaktivitäten (Ranking von Platz 1 (bester Platz) zu Platz 10 (schlechtester Platz)) [8ter Platz]'].str.contains('Essen'), 'Deine Freizeitaktivitäten (Ranking von Platz 1 (bester Platz) zu Platz 10 (schlechtester Platz)) [8ter Platz]'] = 'Foodie'\n",
    "df.loc[df['Deine Freizeitaktivitäten (Ranking von Platz 1 (bester Platz) zu Platz 10 (schlechtester Platz)) [8ter Platz]'].str.contains('Keine'), 'Deine Freizeitaktivitäten (Ranking von Platz 1 (bester Platz) zu Platz 10 (schlechtester Platz)) [8ter Platz]'] = 'Nothing at all'\n",
    "df.loc[df['Deine Freizeitaktivitäten (Ranking von Platz 1 (bester Platz) zu Platz 10 (schlechtester Platz)) [8ter Platz]'].str.contains('Andere'), 'Deine Freizeitaktivitäten (Ranking von Platz 1 (bester Platz) zu Platz 10 (schlechtester Platz)) [8ter Platz]'] = 'Others'\n",
    "df.loc[df['Deine Freizeitaktivitäten (Ranking von Platz 1 (bester Platz) zu Platz 10 (schlechtester Platz)) [8ter Platz]'].str.contains('Serien/Filme'), 'Deine Freizeitaktivitäten (Ranking von Platz 1 (bester Platz) zu Platz 10 (schlechtester Platz)) [8ter Platz]'] = 'Watching other Series/Movies'\n",
    "df.loc[df['Deine Freizeitaktivitäten (Ranking von Platz 1 (bester Platz) zu Platz 10 (schlechtester Platz)) [8ter Platz]'].str.contains('Backen/Kochen'), 'Deine Freizeitaktivitäten (Ranking von Platz 1 (bester Platz) zu Platz 10 (schlechtester Platz)) [8ter Platz]'] = 'Baking/Cooking'\n",
    "df.loc[df['Deine Freizeitaktivitäten (Ranking von Platz 1 (bester Platz) zu Platz 10 (schlechtester Platz)) [8ter Platz]'].str.contains('Lesen'), 'Deine Freizeitaktivitäten (Ranking von Platz 1 (bester Platz) zu Platz 10 (schlechtester Platz)) [8ter Platz]'] = 'Reading'"
   ]
  },
  {
   "cell_type": "code",
   "execution_count": 35,
   "metadata": {},
   "outputs": [],
   "source": [
    "df.loc[df['Deine Freizeitaktivitäten (Ranking von Platz 1 (bester Platz) zu Platz 10 (schlechtester Platz)) [Letzter Platz]'].str.contains('Animes schauen'), 'Deine Freizeitaktivitäten (Ranking von Platz 1 (bester Platz) zu Platz 10 (schlechtester Platz)) [Letzter Platz]'] = 'Watching Animes'\n",
    "df.loc[df['Deine Freizeitaktivitäten (Ranking von Platz 1 (bester Platz) zu Platz 10 (schlechtester Platz)) [Letzter Platz]'].str.contains('Verreisen'), 'Deine Freizeitaktivitäten (Ranking von Platz 1 (bester Platz) zu Platz 10 (schlechtester Platz)) [Letzter Platz]'] = 'Travelling'\n",
    "df.loc[df['Deine Freizeitaktivitäten (Ranking von Platz 1 (bester Platz) zu Platz 10 (schlechtester Platz)) [Letzter Platz]'].str.contains('Netflix'), 'Deine Freizeitaktivitäten (Ranking von Platz 1 (bester Platz) zu Platz 10 (schlechtester Platz)) [Letzter Platz]'] = 'Watching Netflix'\n",
    "df.loc[df['Deine Freizeitaktivitäten (Ranking von Platz 1 (bester Platz) zu Platz 10 (schlechtester Platz)) [Letzter Platz]'].str.contains('Freunden'), 'Deine Freizeitaktivitäten (Ranking von Platz 1 (bester Platz) zu Platz 10 (schlechtester Platz)) [Letzter Platz]'] = 'Going out with Friends'\n",
    "df.loc[df['Deine Freizeitaktivitäten (Ranking von Platz 1 (bester Platz) zu Platz 10 (schlechtester Platz)) [Letzter Platz]'].str.contains('Musik'), 'Deine Freizeitaktivitäten (Ranking von Platz 1 (bester Platz) zu Platz 10 (schlechtester Platz)) [Letzter Platz]'] = 'Music'\n",
    "df.loc[df['Deine Freizeitaktivitäten (Ranking von Platz 1 (bester Platz) zu Platz 10 (schlechtester Platz)) [Letzter Platz]'].str.contains('Kinos'), 'Deine Freizeitaktivitäten (Ranking von Platz 1 (bester Platz) zu Platz 10 (schlechtester Platz)) [Letzter Platz]'] = 'Going to the cinemas'\n",
    "df.loc[df['Deine Freizeitaktivitäten (Ranking von Platz 1 (bester Platz) zu Platz 10 (schlechtester Platz)) [Letzter Platz]'].str.contains('Essen'), 'Deine Freizeitaktivitäten (Ranking von Platz 1 (bester Platz) zu Platz 10 (schlechtester Platz)) [Letzter Platz]'] = 'Foodie'\n",
    "df.loc[df['Deine Freizeitaktivitäten (Ranking von Platz 1 (bester Platz) zu Platz 10 (schlechtester Platz)) [Letzter Platz]'].str.contains('Keine'), 'Deine Freizeitaktivitäten (Ranking von Platz 1 (bester Platz) zu Platz 10 (schlechtester Platz)) [Letzter Platz]'] = 'Nothing at all'\n",
    "df.loc[df['Deine Freizeitaktivitäten (Ranking von Platz 1 (bester Platz) zu Platz 10 (schlechtester Platz)) [Letzter Platz]'].str.contains('Andere'), 'Deine Freizeitaktivitäten (Ranking von Platz 1 (bester Platz) zu Platz 10 (schlechtester Platz)) [Letzter Platz]'] = 'Others'\n",
    "df.loc[df['Deine Freizeitaktivitäten (Ranking von Platz 1 (bester Platz) zu Platz 10 (schlechtester Platz)) [Letzter Platz]'].str.contains('Serien/Filme'), 'Deine Freizeitaktivitäten (Ranking von Platz 1 (bester Platz) zu Platz 10 (schlechtester Platz)) [Letzter Platz]'] = 'Watching other Series/Movies'\n",
    "df.loc[df['Deine Freizeitaktivitäten (Ranking von Platz 1 (bester Platz) zu Platz 10 (schlechtester Platz)) [Letzter Platz]'].str.contains('Backen/Kochen'), 'Deine Freizeitaktivitäten (Ranking von Platz 1 (bester Platz) zu Platz 10 (schlechtester Platz)) [Letzter Platz]'] = 'Baking/Cooking'\n",
    "df.loc[df['Deine Freizeitaktivitäten (Ranking von Platz 1 (bester Platz) zu Platz 10 (schlechtester Platz)) [Letzter Platz]'].str.contains('Lesen'), 'Deine Freizeitaktivitäten (Ranking von Platz 1 (bester Platz) zu Platz 10 (schlechtester Platz)) [Letzter Platz]'] = 'Reading'"
   ]
  },
  {
   "cell_type": "markdown",
   "metadata": {},
   "source": [
    "#### Translating the head of the columns"
   ]
  },
  {
   "cell_type": "code",
   "execution_count": 36,
   "metadata": {},
   "outputs": [],
   "source": [
    "df.columns = [\"Your Age\", \"Your Gender\", \"Your Location\", \"Languages you prefer to speak\", \"Platform to communicate\", \"Top 3 Games (1/3)\", \"Top 3 Games (2/3)\", \"Top 3 Games (3/3)\", \"How long do you play\", \"Your Performance\", \"Your favorite hobby\", \"Second favorite hobby\", \"Third favorite hobby\", \"Fourth favorite hobby\", \"Fifth favorite hobby\", \"Sixth favorite hobby\", \"Seventh favorite hobby\", \"Eight favorite hobby\", \"Least favorite hobby\"]"
   ]
  },
  {
   "cell_type": "markdown",
   "metadata": {},
   "source": [
    "Ét voila: the whole dataframe is translated"
   ]
  },
  {
   "cell_type": "code",
   "execution_count": 37,
   "metadata": {},
   "outputs": [
    {
     "data": {
      "text/html": [
       "<div>\n",
       "<style scoped>\n",
       "    .dataframe tbody tr th:only-of-type {\n",
       "        vertical-align: middle;\n",
       "    }\n",
       "\n",
       "    .dataframe tbody tr th {\n",
       "        vertical-align: top;\n",
       "    }\n",
       "\n",
       "    .dataframe thead th {\n",
       "        text-align: right;\n",
       "    }\n",
       "</style>\n",
       "<table border=\"1\" class=\"dataframe\">\n",
       "  <thead>\n",
       "    <tr style=\"text-align: right;\">\n",
       "      <th></th>\n",
       "      <th>Your Age</th>\n",
       "      <th>Your Gender</th>\n",
       "      <th>Your Location</th>\n",
       "      <th>Languages you prefer to speak</th>\n",
       "      <th>Platform to communicate</th>\n",
       "      <th>Top 3 Games (1/3)</th>\n",
       "      <th>Top 3 Games (2/3)</th>\n",
       "      <th>Top 3 Games (3/3)</th>\n",
       "      <th>How long do you play</th>\n",
       "      <th>Your Performance</th>\n",
       "      <th>Your favorite hobby</th>\n",
       "      <th>Second favorite hobby</th>\n",
       "      <th>Third favorite hobby</th>\n",
       "      <th>Fourth favorite hobby</th>\n",
       "      <th>Fifth favorite hobby</th>\n",
       "      <th>Sixth favorite hobby</th>\n",
       "      <th>Seventh favorite hobby</th>\n",
       "      <th>Eight favorite hobby</th>\n",
       "      <th>Least favorite hobby</th>\n",
       "    </tr>\n",
       "  </thead>\n",
       "  <tbody>\n",
       "    <tr>\n",
       "      <th>0</th>\n",
       "      <td>19</td>\n",
       "      <td>Female</td>\n",
       "      <td>Baden-Wuerttemberg</td>\n",
       "      <td>German</td>\n",
       "      <td>Other Platforms</td>\n",
       "      <td>Call of Duty (COD)</td>\n",
       "      <td>Tekken</td>\n",
       "      <td>FIFA</td>\n",
       "      <td>Less than 10 hours</td>\n",
       "      <td>8</td>\n",
       "      <td>Watching other Series/Movies</td>\n",
       "      <td>Going out with Friends</td>\n",
       "      <td>Travelling</td>\n",
       "      <td>Foodie</td>\n",
       "      <td>Music</td>\n",
       "      <td>Baking/Cooking</td>\n",
       "      <td>Sport</td>\n",
       "      <td>Reading</td>\n",
       "      <td>Watching Animes</td>\n",
       "    </tr>\n",
       "    <tr>\n",
       "      <th>1</th>\n",
       "      <td>24</td>\n",
       "      <td>Female</td>\n",
       "      <td>Baden-Wuerttemberg</td>\n",
       "      <td>German</td>\n",
       "      <td>Other Platforms</td>\n",
       "      <td>FIFA</td>\n",
       "      <td>Tekken</td>\n",
       "      <td>Other Games</td>\n",
       "      <td>Less than 10 hours</td>\n",
       "      <td>2</td>\n",
       "      <td>Going out with Friends</td>\n",
       "      <td>Watching other Series/Movies</td>\n",
       "      <td>Music</td>\n",
       "      <td>Reading</td>\n",
       "      <td>Baking/Cooking</td>\n",
       "      <td>Foodie</td>\n",
       "      <td>Travelling</td>\n",
       "      <td>Sport</td>\n",
       "      <td>Watching Animes</td>\n",
       "    </tr>\n",
       "    <tr>\n",
       "      <th>2</th>\n",
       "      <td>19</td>\n",
       "      <td>Prefer not to say</td>\n",
       "      <td>Baden-Wuerttemberg</td>\n",
       "      <td>German</td>\n",
       "      <td>Other Platforms</td>\n",
       "      <td>Tekken</td>\n",
       "      <td>FIFA</td>\n",
       "      <td>Call of Duty (COD)</td>\n",
       "      <td>Less than 10 hours</td>\n",
       "      <td>4</td>\n",
       "      <td>Going out with Friends</td>\n",
       "      <td>Foodie</td>\n",
       "      <td>Baking/Cooking</td>\n",
       "      <td>Watching other Series/Movies</td>\n",
       "      <td>Reading</td>\n",
       "      <td>Music</td>\n",
       "      <td>Travelling</td>\n",
       "      <td>Sport</td>\n",
       "      <td>Watching Animes</td>\n",
       "    </tr>\n",
       "    <tr>\n",
       "      <th>3</th>\n",
       "      <td>29</td>\n",
       "      <td>Female</td>\n",
       "      <td>Baden-Wuerttemberg</td>\n",
       "      <td>German</td>\n",
       "      <td>PS Party</td>\n",
       "      <td>Grand Theft Auto (GTA) Online</td>\n",
       "      <td>Call of Duty (COD)</td>\n",
       "      <td>No additional game</td>\n",
       "      <td>Less than 10 hours</td>\n",
       "      <td>2</td>\n",
       "      <td>Foodie</td>\n",
       "      <td>Travelling</td>\n",
       "      <td>Watching other Series/Movies</td>\n",
       "      <td>Sport</td>\n",
       "      <td>Watching Animes</td>\n",
       "      <td>Going out with Friends</td>\n",
       "      <td>Music</td>\n",
       "      <td>Reading</td>\n",
       "      <td>Baking/Cooking</td>\n",
       "    </tr>\n",
       "    <tr>\n",
       "      <th>4</th>\n",
       "      <td>26</td>\n",
       "      <td>Male</td>\n",
       "      <td>Baden-Wuerttemberg</td>\n",
       "      <td>German</td>\n",
       "      <td>PS Party</td>\n",
       "      <td>FIFA</td>\n",
       "      <td>Call of Duty (COD)</td>\n",
       "      <td>Tekken</td>\n",
       "      <td>Less than 10 hours</td>\n",
       "      <td>8</td>\n",
       "      <td>Going out with Friends</td>\n",
       "      <td>Sport</td>\n",
       "      <td>Watching other Series/Movies</td>\n",
       "      <td>Reading</td>\n",
       "      <td>Travelling</td>\n",
       "      <td>Music</td>\n",
       "      <td>Foodie</td>\n",
       "      <td>Baking/Cooking</td>\n",
       "      <td>Watching Animes</td>\n",
       "    </tr>\n",
       "  </tbody>\n",
       "</table>\n",
       "</div>"
      ],
      "text/plain": [
       "   Your Age        Your Gender       Your Location  \\\n",
       "0        19             Female  Baden-Wuerttemberg   \n",
       "1        24             Female  Baden-Wuerttemberg   \n",
       "2        19  Prefer not to say  Baden-Wuerttemberg   \n",
       "3        29             Female  Baden-Wuerttemberg   \n",
       "4        26               Male  Baden-Wuerttemberg   \n",
       "\n",
       "  Languages you prefer to speak Platform to communicate  \\\n",
       "0                        German         Other Platforms   \n",
       "1                        German         Other Platforms   \n",
       "2                        German         Other Platforms   \n",
       "3                        German                PS Party   \n",
       "4                        German                PS Party   \n",
       "\n",
       "               Top 3 Games (1/3)   Top 3 Games (2/3)   Top 3 Games (3/3)  \\\n",
       "0             Call of Duty (COD)              Tekken                FIFA   \n",
       "1                           FIFA              Tekken         Other Games   \n",
       "2                         Tekken                FIFA  Call of Duty (COD)   \n",
       "3  Grand Theft Auto (GTA) Online  Call of Duty (COD)  No additional game   \n",
       "4                           FIFA  Call of Duty (COD)              Tekken   \n",
       "\n",
       "  How long do you play  Your Performance           Your favorite hobby  \\\n",
       "0   Less than 10 hours                 8  Watching other Series/Movies   \n",
       "1   Less than 10 hours                 2        Going out with Friends   \n",
       "2   Less than 10 hours                 4        Going out with Friends   \n",
       "3   Less than 10 hours                 2                        Foodie   \n",
       "4   Less than 10 hours                 8        Going out with Friends   \n",
       "\n",
       "          Second favorite hobby          Third favorite hobby  \\\n",
       "0        Going out with Friends                    Travelling   \n",
       "1  Watching other Series/Movies                         Music   \n",
       "2                        Foodie                Baking/Cooking   \n",
       "3                    Travelling  Watching other Series/Movies   \n",
       "4                         Sport  Watching other Series/Movies   \n",
       "\n",
       "          Fourth favorite hobby Fifth favorite hobby    Sixth favorite hobby  \\\n",
       "0                        Foodie                Music          Baking/Cooking   \n",
       "1                       Reading       Baking/Cooking                  Foodie   \n",
       "2  Watching other Series/Movies              Reading                   Music   \n",
       "3                         Sport      Watching Animes  Going out with Friends   \n",
       "4                       Reading           Travelling                   Music   \n",
       "\n",
       "  Seventh favorite hobby Eight favorite hobby Least favorite hobby  \n",
       "0                  Sport              Reading      Watching Animes  \n",
       "1             Travelling                Sport      Watching Animes  \n",
       "2             Travelling                Sport      Watching Animes  \n",
       "3                  Music              Reading       Baking/Cooking  \n",
       "4                 Foodie       Baking/Cooking      Watching Animes  "
      ]
     },
     "execution_count": 37,
     "metadata": {},
     "output_type": "execute_result"
    }
   ],
   "source": [
    "df.head()"
   ]
  },
  {
   "cell_type": "markdown",
   "metadata": {},
   "source": [
    "Saving the csv file to apply the algorithm KNN in a seperate notebook"
   ]
  },
  {
   "cell_type": "code",
   "execution_count": 38,
   "metadata": {},
   "outputs": [],
   "source": [
    "df.to_csv('MatchingGamers_KNN_Finale.csv')"
   ]
  }
 ],
 "metadata": {
  "colab": {
   "name": "Matching_Gamer_Clustering.ipynb",
   "provenance": []
  },
  "kernelspec": {
   "display_name": "Python 3",
   "language": "python",
   "name": "python3"
  },
  "language_info": {
   "codemirror_mode": {
    "name": "ipython",
    "version": 3
   },
   "file_extension": ".py",
   "mimetype": "text/x-python",
   "name": "python",
   "nbconvert_exporter": "python",
   "pygments_lexer": "ipython3",
   "version": "3.8.5"
  }
 },
 "nbformat": 4,
 "nbformat_minor": 1
}
